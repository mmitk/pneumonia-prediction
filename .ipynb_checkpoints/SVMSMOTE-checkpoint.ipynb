{
 "cells": [
  {
   "cell_type": "code",
   "execution_count": 1,
   "metadata": {},
   "outputs": [
    {
     "name": "stdout",
     "output_type": "stream",
     "text": [
      "['chest_xray', 'resampled', 'TEST']\n"
     ]
    },
    {
     "name": "stderr",
     "output_type": "stream",
     "text": [
      "Using TensorFlow backend.\n"
     ]
    }
   ],
   "source": [
    "import numpy as np \n",
    "import matplotlib.pyplot as plt \n",
    "import os\n",
    "from PIL import Image\n",
    "print(os.listdir(\"./common/data\"))\n",
    "\n",
    "import tensorflow as tf\n",
    "config = tf.compat.v1.ConfigProto()\n",
    "config.gpu_options.allow_growth = True\n",
    "tf.compat.v1.keras.backend.set_session(tf.compat.v1.Session(config=config))\n",
    "\n",
    "# Keras Libraries\n",
    "import keras\n",
    "from keras.models import Sequential\n",
    "from keras.layers import Conv2D\n",
    "from keras.layers import MaxPooling2D\n",
    "from keras.layers import Flatten\n",
    "from keras.layers import Dense\n",
    "from keras.preprocessing.image import ImageDataGenerator, load_img\n",
    "from sklearn.metrics import classification_report, confusion_matrix\n",
    "%matplotlib inline"
   ]
  },
  {
   "cell_type": "markdown",
   "metadata": {},
   "source": [
    "# Resample Data Into New Dataset"
   ]
  },
  {
   "cell_type": "markdown",
   "metadata": {},
   "source": [
    "# Resample Train Data"
   ]
  },
  {
   "cell_type": "code",
   "execution_count": 2,
   "metadata": {},
   "outputs": [],
   "source": [
    "from common.src import resample as res"
   ]
  },
  {
   "cell_type": "code",
   "execution_count": 3,
   "metadata": {},
   "outputs": [],
   "source": [
    "from imblearn.over_sampling import SMOTENC\n",
    "\n",
    "path = r'C:\\Users\\mmitk\\dev\\2020\\pneumonia\\common\\data\\chest_xray\\train'\n",
    "SM = SMOTENC(random_state=0)"
   ]
  },
  {
   "cell_type": "code",
   "execution_count": 4,
   "metadata": {},
   "outputs": [
    {
     "name": "stdout",
     "output_type": "stream",
     "text": [
      "----------[LOADING IMAGES]----------\n",
      "....................................................................................................\n",
      "....................................................................................................\n",
      "....................................................................................................\n",
      "....................................................................................................\n",
      "....................................................................................................\n",
      "......................\n",
      "Finished [LOADING IMAGES]\n",
      "----------[RESAMPLING IMAGES]----------\n",
      "\n",
      "Finished [RESAMPLING IMAGES]\n",
      "----------[WRITING RESAMPLED IMAGES]----------\n",
      "....................................................................................................\n",
      "....................................................................................................\n",
      "....................................................................................................\n",
      "....................................................................................................\n",
      "....................................................................................................\n",
      "....................................................................................................\n",
      "....................................................................................................\n",
      "...........................................................................\n",
      "Finished [RESAMPLING DIRECTORY]\n"
     ]
    }
   ],
   "source": [
    "res.resample_directory(SM, path, 'SMOTENC', val = False)"
   ]
  },
  {
   "cell_type": "markdown",
   "metadata": {},
   "source": [
    "# Load Data"
   ]
  },
  {
   "cell_type": "code",
   "execution_count": 5,
   "metadata": {},
   "outputs": [],
   "source": [
    "train_folder= './common/data/resampled/SMOTENC/train'\n",
    "val_folder = './common/data/chest_xray/val/'\n",
    "test_folder = './common/data/chest_xray/test/'"
   ]
  },
  {
   "cell_type": "markdown",
   "metadata": {},
   "source": [
    "Set up Training Folders"
   ]
  },
  {
   "cell_type": "code",
   "execution_count": 6,
   "metadata": {},
   "outputs": [],
   "source": [
    "# train \n",
    "os.listdir(train_folder)\n",
    "train_n = train_folder+'NORMAL/'\n",
    "train_p = train_folder+'PNEUMONIA/'"
   ]
  },
  {
   "cell_type": "markdown",
   "metadata": {},
   "source": [
    "Set up Testing Folders"
   ]
  },
  {
   "cell_type": "code",
   "execution_count": 7,
   "metadata": {},
   "outputs": [],
   "source": [
    "# test\n",
    "os.listdir(test_folder)\n",
    "train_n = test_folder+'NORMAL/'\n",
    "train_p = test_folder+'PNEUMONIA/'"
   ]
  },
  {
   "cell_type": "markdown",
   "metadata": {},
   "source": [
    "# Generate Dataset from image data"
   ]
  },
  {
   "cell_type": "code",
   "execution_count": 8,
   "metadata": {},
   "outputs": [
    {
     "name": "stdout",
     "output_type": "stream",
     "text": [
      "Found 7750 images belonging to 2 classes.\n",
      "Found 16 images belonging to 2 classes.\n",
      "Found 624 images belonging to 2 classes.\n"
     ]
    }
   ],
   "source": [
    "from common.src import util\n",
    "\n",
    "train_datagen = util.create_train_datagen()\n",
    "test_datagen = util.create_test_datagen()\n",
    "\n",
    "training_set = util.create_generator_set(train_datagen, './common/data/resampled/SMOTENC/train')\n",
    "validation_generator = util.create_generator_set(test_datagen, './common/data/chest_xray/val/')\n",
    "test_set = util.create_generator_set(test_datagen, './common/data/chest_xray/test/', batch_size = 1, shuffle = False) "
   ]
  },
  {
   "cell_type": "markdown",
   "metadata": {},
   "source": [
    "# Create Model"
   ]
  },
  {
   "cell_type": "code",
   "execution_count": 9,
   "metadata": {},
   "outputs": [],
   "source": [
    "from common.src import models\n",
    "\n",
    "cnn = models.CNNModel(patience_s=19)\n",
    "cnn.create_model()\n",
    "cnn.summary()"
   ]
  },
  {
   "cell_type": "markdown",
   "metadata": {},
   "source": [
    "# Fit Model"
   ]
  },
  {
   "cell_type": "code",
   "execution_count": 10,
   "metadata": {
    "scrolled": false
   },
   "outputs": [
    {
     "name": "stdout",
     "output_type": "stream",
     "text": [
      "Epoch 1/20\n",
      "163/163 [==============================] - 11s 67ms/step - loss: 0.3286 - tp: 4326.0000 - fp: 812.0000 - tn: 4404.0000 - fn: 890.0000 - accuracy: 0.8368 - precision: 0.8420 - recall: 0.8294 - auc: 0.9314 - val_loss: 0.3663 - val_tp: 266.0000 - val_fp: 76.0000 - val_tn: 228.0000 - val_fn: 38.0000 - val_accuracy: 0.8125 - val_precision: 0.7778 - val_recall: 0.8750 - val_auc: 0.8984\n",
      "Epoch 2/20\n",
      "163/163 [==============================] - 10s 59ms/step - loss: 0.1822 - tp: 4810.0000 - fp: 384.0000 - tn: 4806.0000 - fn: 380.0000 - accuracy: 0.9264 - precision: 0.9261 - recall: 0.9268 - auc: 0.9798 - val_loss: 0.3538 - val_tp: 266.0000 - val_fp: 57.0000 - val_tn: 247.0000 - val_fn: 38.0000 - val_accuracy: 0.8438 - val_precision: 0.8235 - val_recall: 0.8750 - val_auc: 0.9180\n",
      "Epoch 3/20\n",
      "163/163 [==============================] - 9s 58ms/step - loss: 0.1689 - tp: 4851.0000 - fp: 352.0000 - tn: 4838.0000 - fn: 339.0000 - accuracy: 0.9334 - precision: 0.9323 - recall: 0.9347 - auc: 0.9823 - val_loss: 0.3199 - val_tp: 266.0000 - val_fp: 38.0000 - val_tn: 266.0000 - val_fn: 38.0000 - val_accuracy: 0.8750 - val_precision: 0.8750 - val_recall: 0.8750 - val_auc: 0.9238\n",
      "Epoch 4/20\n",
      "163/163 [==============================] - 9s 56ms/step - loss: 0.1476 - tp: 4881.0000 - fp: 309.0000 - tn: 4881.0000 - fn: 309.0000 - accuracy: 0.9405 - precision: 0.9405 - recall: 0.9405 - auc: 0.9866 - val_loss: 0.3095 - val_tp: 266.0000 - val_fp: 38.0000 - val_tn: 266.0000 - val_fn: 38.0000 - val_accuracy: 0.8750 - val_precision: 0.8750 - val_recall: 0.8750 - val_auc: 0.9414\n",
      "Epoch 5/20\n",
      "163/163 [==============================] - 9s 58ms/step - loss: 0.1615 - tp: 4889.0000 - fp: 321.0000 - tn: 4895.0000 - fn: 327.0000 - accuracy: 0.9379 - precision: 0.9384 - recall: 0.9373 - auc: 0.9835 - val_loss: 0.5015 - val_tp: 209.0000 - val_fp: 76.0000 - val_tn: 228.0000 - val_fn: 95.0000 - val_accuracy: 0.7188 - val_precision: 0.7333 - val_recall: 0.6875 - val_auc: 0.8418\n",
      "Epoch 6/20\n",
      "163/163 [==============================] - 9s 58ms/step - loss: 0.1268 - tp: 4950.0000 - fp: 242.0000 - tn: 4948.0000 - fn: 240.0000 - accuracy: 0.9536 - precision: 0.9534 - recall: 0.9538 - auc: 0.9896 - val_loss: 0.3330 - val_tp: 266.0000 - val_fp: 38.0000 - val_tn: 266.0000 - val_fn: 38.0000 - val_accuracy: 0.8750 - val_precision: 0.8750 - val_recall: 0.8750 - val_auc: 0.9219\n",
      "Epoch 7/20\n",
      "163/163 [==============================] - 9s 58ms/step - loss: 0.1221 - tp: 4932.0000 - fp: 262.0000 - tn: 4928.0000 - fn: 258.0000 - accuracy: 0.9499 - precision: 0.9496 - recall: 0.9503 - auc: 0.9908 - val_loss: 0.3425 - val_tp: 228.0000 - val_fp: 57.0000 - val_tn: 247.0000 - val_fn: 76.0000 - val_accuracy: 0.7812 - val_precision: 0.8000 - val_recall: 0.7500 - val_auc: 0.9219\n",
      "Epoch 8/20\n",
      "163/163 [==============================] - 10s 59ms/step - loss: 0.1343 - tp: 4959.0000 - fp: 256.0000 - tn: 4960.0000 - fn: 257.0000 - accuracy: 0.9508 - precision: 0.9509 - recall: 0.9507 - auc: 0.9884 - val_loss: 0.6063 - val_tp: 209.0000 - val_fp: 95.0000 - val_tn: 209.0000 - val_fn: 95.0000 - val_accuracy: 0.6875 - val_precision: 0.6875 - val_recall: 0.6875 - val_auc: 0.8320\n",
      "Epoch 9/20\n",
      "163/163 [==============================] - 9s 58ms/step - loss: 0.1213 - tp: 4933.0000 - fp: 234.0000 - tn: 4930.0000 - fn: 231.0000 - accuracy: 0.9550 - precision: 0.9547 - recall: 0.9553 - auc: 0.9906 - val_loss: 0.3579 - val_tp: 266.0000 - val_fp: 38.0000 - val_tn: 266.0000 - val_fn: 38.0000 - val_accuracy: 0.8750 - val_precision: 0.8750 - val_recall: 0.8750 - val_auc: 0.9277\n",
      "Epoch 10/20\n",
      "163/163 [==============================] - 10s 58ms/step - loss: 0.1139 - tp: 5005.0000 - fp: 210.0000 - tn: 5006.0000 - fn: 211.0000 - accuracy: 0.9596 - precision: 0.9597 - recall: 0.9595 - auc: 0.9911 - val_loss: 0.3877 - val_tp: 209.0000 - val_fp: 95.0000 - val_tn: 209.0000 - val_fn: 95.0000 - val_accuracy: 0.6875 - val_precision: 0.6875 - val_recall: 0.6875 - val_auc: 0.8906\n",
      "Epoch 11/20\n",
      "163/163 [==============================] - 9s 58ms/step - loss: 0.1087 - tp: 4969.0000 - fp: 213.0000 - tn: 4977.0000 - fn: 221.0000 - accuracy: 0.9582 - precision: 0.9589 - recall: 0.9574 - auc: 0.9923 - val_loss: 0.4411 - val_tp: 228.0000 - val_fp: 76.0000 - val_tn: 228.0000 - val_fn: 76.0000 - val_accuracy: 0.7500 - val_precision: 0.7500 - val_recall: 0.7500 - val_auc: 0.8789\n",
      "Epoch 12/20\n",
      "163/163 [==============================] - 10s 59ms/step - loss: 0.1089 - tp: 5011.0000 - fp: 216.0000 - tn: 5000.0000 - fn: 205.0000 - accuracy: 0.9596 - precision: 0.9587 - recall: 0.9607 - auc: 0.9921 - val_loss: 0.6525 - val_tp: 190.0000 - val_fp: 114.0000 - val_tn: 190.0000 - val_fn: 114.0000 - val_accuracy: 0.6250 - val_precision: 0.6250 - val_recall: 0.6250 - val_auc: 0.7969\n",
      "Epoch 13/20\n",
      "163/163 [==============================] - 9s 57ms/step - loss: 0.1054 - tp: 5023.0000 - fp: 192.0000 - tn: 5024.0000 - fn: 193.0000 - accuracy: 0.9631 - precision: 0.9632 - recall: 0.9630 - auc: 0.9925 - val_loss: 0.5003 - val_tp: 209.0000 - val_fp: 95.0000 - val_tn: 209.0000 - val_fn: 95.0000 - val_accuracy: 0.6875 - val_precision: 0.6875 - val_recall: 0.6875 - val_auc: 0.8633\n",
      "Epoch 14/20\n",
      "163/163 [==============================] - 9s 58ms/step - loss: 0.1089 - tp: 4979.0000 - fp: 210.0000 - tn: 4980.0000 - fn: 211.0000 - accuracy: 0.9594 - precision: 0.9595 - recall: 0.9593 - auc: 0.9923 - val_loss: 0.2992 - val_tp: 285.0000 - val_fp: 19.0000 - val_tn: 285.0000 - val_fn: 19.0000 - val_accuracy: 0.9375 - val_precision: 0.9375 - val_recall: 0.9375 - val_auc: 0.9492\n",
      "Epoch 15/20\n",
      "163/163 [==============================] - 9s 58ms/step - loss: 0.1004 - tp: 4997.0000 - fp: 194.0000 - tn: 4996.0000 - fn: 193.0000 - accuracy: 0.9627 - precision: 0.9626 - recall: 0.9628 - auc: 0.9933 - val_loss: 0.3933 - val_tp: 228.0000 - val_fp: 76.0000 - val_tn: 228.0000 - val_fn: 76.0000 - val_accuracy: 0.7500 - val_precision: 0.7500 - val_recall: 0.7500 - val_auc: 0.9004\n",
      "Epoch 16/20\n",
      "163/163 [==============================] - 10s 59ms/step - loss: 0.1053 - tp: 5004.0000 - fp: 200.0000 - tn: 5016.0000 - fn: 212.0000 - accuracy: 0.9605 - precision: 0.9616 - recall: 0.9594 - auc: 0.9929 - val_loss: 0.4270 - val_tp: 247.0000 - val_fp: 57.0000 - val_tn: 247.0000 - val_fn: 57.0000 - val_accuracy: 0.8125 - val_precision: 0.8125 - val_recall: 0.8125 - val_auc: 0.8789\n",
      "Epoch 17/20\n",
      "163/163 [==============================] - 10s 58ms/step - loss: 0.0906 - tp: 4998.0000 - fp: 165.0000 - tn: 4999.0000 - fn: 166.0000 - accuracy: 0.9680 - precision: 0.9680 - recall: 0.9679 - auc: 0.9942 - val_loss: 0.6416 - val_tp: 228.0000 - val_fp: 76.0000 - val_tn: 228.0000 - val_fn: 76.0000 - val_accuracy: 0.7500 - val_precision: 0.7500 - val_recall: 0.7500 - val_auc: 0.8574\n",
      "Epoch 18/20\n",
      "163/163 [==============================] - 10s 58ms/step - loss: 0.1003 - tp: 4993.0000 - fp: 196.0000 - tn: 4994.0000 - fn: 197.0000 - accuracy: 0.9621 - precision: 0.9622 - recall: 0.9620 - auc: 0.9930 - val_loss: 0.3503 - val_tp: 228.0000 - val_fp: 57.0000 - val_tn: 247.0000 - val_fn: 76.0000 - val_accuracy: 0.7812 - val_precision: 0.8000 - val_recall: 0.7500 - val_auc: 0.9141\n",
      "Epoch 19/20\n",
      "163/163 [==============================] - 9s 58ms/step - loss: 0.1023 - tp: 5025.0000 - fp: 185.0000 - tn: 5031.0000 - fn: 191.0000 - accuracy: 0.9640 - precision: 0.9645 - recall: 0.9634 - auc: 0.9930 - val_loss: 0.4098 - val_tp: 228.0000 - val_fp: 76.0000 - val_tn: 228.0000 - val_fn: 76.0000 - val_accuracy: 0.7500 - val_precision: 0.7500 - val_recall: 0.7500 - val_auc: 0.9043\n",
      "Epoch 20/20\n",
      "163/163 [==============================] - 10s 58ms/step - loss: 0.0898 - tp: 5010.0000 - fp: 178.0000 - tn: 5012.0000 - fn: 180.0000 - accuracy: 0.9655 - precision: 0.9657 - recall: 0.9653 - auc: 0.9947 - val_loss: 0.5774 - val_tp: 228.0000 - val_fp: 76.0000 - val_tn: 228.0000 - val_fn: 76.0000 - val_accuracy: 0.7500 - val_precision: 0.7500 - val_recall: 0.7500 - val_auc: 0.8438\n"
     ]
    }
   ],
   "source": [
    "cnn_model = cnn.fit_generator(training_set, validation_generator, epochs=20)"
   ]
  },
  {
   "cell_type": "code",
   "execution_count": 11,
   "metadata": {},
   "outputs": [
    {
     "data": {
      "image/png": "[encoded data removed]",
      "text/plain": [
       "<Figure size 432x288 with 4 Axes>"
      ]
     },
     "metadata": {
      "needs_background": "light"
     },
     "output_type": "display_data"
    }
   ],
   "source": [
    "cnn.plot_history()"
   ]
  },
  {
   "cell_type": "code",
   "execution_count": 12,
   "metadata": {},
   "outputs": [
    {
     "name": "stdout",
     "output_type": "stream",
     "text": [
      "              precision    recall  f1-score   support\n",
      "\n",
      "      NORMAL       0.81      0.82      0.81       234\n",
      "   PNEUMONIA       0.89      0.88      0.89       390\n",
      "\n",
      "    accuracy                           0.86       624\n",
      "   macro avg       0.85      0.85      0.85       624\n",
      "weighted avg       0.86      0.86      0.86       624\n",
      "\n"
     ]
    }
   ],
   "source": [
    "cnn.get_classification_report(test_set)"
   ]
  },
  {
   "cell_type": "code",
   "execution_count": 13,
   "metadata": {},
   "outputs": [
    {
     "data": {
      "image/png": "[encoded data removed]",
      "text/plain": [
       "<Figure size 648x648 with 2 Axes>"
      ]
     },
     "metadata": {
      "needs_background": "light"
     },
     "output_type": "display_data"
    }
   ],
   "source": [
    "cnn.display_confusion_matrix(test_set)"
   ]
  },
  {
   "cell_type": "code",
   "execution_count": null,
   "metadata": {},
   "outputs": [],
   "source": []
  }
 ],
 "metadata": {
  "kernelspec": {
   "display_name": "Python 3",
   "language": "python",
   "name": "python3"
  },
  "language_info": {
   "codemirror_mode": {
    "name": "ipython",
    "version": 3
   },
   "file_extension": ".py",
   "mimetype": "text/x-python",
   "name": "python",
   "nbconvert_exporter": "python",
   "pygments_lexer": "ipython3",
   "version": "3.6.12"
  }
 },
 "nbformat": 4,
 "nbformat_minor": 4
}
