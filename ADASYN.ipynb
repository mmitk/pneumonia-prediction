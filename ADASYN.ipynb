{
 "cells": [
  {
   "cell_type": "code",
   "execution_count": 1,
   "metadata": {},
   "outputs": [
    {
     "name": "stdout",
     "output_type": "stream",
     "text": [
      "['chest_xray', 'resampled', 'TEST']\n"
     ]
    },
    {
     "name": "stderr",
     "output_type": "stream",
     "text": [
      "Using TensorFlow backend.\n"
     ]
    }
   ],
   "source": [
    "import numpy as np \n",
    "import matplotlib.pyplot as plt \n",
    "import os\n",
    "from PIL import Image\n",
    "print(os.listdir(\"./common/data\"))\n",
    "\n",
    "import tensorflow as tf\n",
    "config = tf.compat.v1.ConfigProto()\n",
    "config.gpu_options.allow_growth = True\n",
    "tf.compat.v1.keras.backend.set_session(tf.compat.v1.Session(config=config))\n",
    "\n",
    "# Keras Libraries\n",
    "import keras\n",
    "from keras.models import Sequential\n",
    "from keras.layers import Conv2D\n",
    "from keras.layers import MaxPooling2D\n",
    "from keras.layers import Flatten\n",
    "from keras.layers import Dense\n",
    "from keras.preprocessing.image import ImageDataGenerator, load_img\n",
    "from sklearn.metrics import classification_report, confusion_matrix\n",
    "%matplotlib inline"
   ]
  },
  {
   "cell_type": "markdown",
   "metadata": {},
   "source": [
    "# Resample Data Into New Dataset"
   ]
  },
  {
   "cell_type": "markdown",
   "metadata": {},
   "source": [
    "# Resample Train Data"
   ]
  },
  {
   "cell_type": "code",
   "execution_count": 2,
   "metadata": {},
   "outputs": [],
   "source": [
    "from common.src import resample as res"
   ]
  },
  {
   "cell_type": "code",
   "execution_count": 3,
   "metadata": {},
   "outputs": [],
   "source": [
    "from imblearn.over_sampling import ADASYN\n",
    "\n",
    "path = r'C:\\Users\\mmitk\\dev\\2020\\pneumonia\\common\\data\\chest_xray\\train'\n",
    "ads = ADASYN(random_state=0)"
   ]
  },
  {
   "cell_type": "code",
   "execution_count": 4,
   "metadata": {},
   "outputs": [],
   "source": [
    "res.resample_directory(ads, path, 'ADASYN', val = False)"
   ]
  },
  {
   "cell_type": "markdown",
   "metadata": {},
   "source": [
    "# Load Data"
   ]
  },
  {
   "cell_type": "code",
   "execution_count": 5,
   "metadata": {},
   "outputs": [],
   "source": [
    "train_folder= './common/data/resampled/ADASYN/train'\n",
    "val_folder = './common/data/chest_xray/val/'\n",
    "test_folder = './common/data/chest_xray/test/'"
   ]
  },
  {
   "cell_type": "code",
   "execution_count": 6,
   "metadata": {},
   "outputs": [],
   "source": [
    "# train \n",
    "os.listdir(train_folder)\n",
    "train_n = train_folder+'NORMAL/'\n",
    "train_p = train_folder+'PNEUMONIA/'"
   ]
  },
  {
   "cell_type": "code",
   "execution_count": 7,
   "metadata": {},
   "outputs": [],
   "source": [
    "# test\n",
    "os.listdir(test_folder)\n",
    "train_n = test_folder+'NORMAL/'\n",
    "train_p = test_folder+'PNEUMONIA/'"
   ]
  },
  {
   "cell_type": "code",
   "execution_count": 8,
   "metadata": {},
   "outputs": [
    {
     "name": "stdout",
     "output_type": "stream",
     "text": [
      "Found 7666 images belonging to 2 classes.\n",
      "Found 16 images belonging to 2 classes.\n",
      "Found 624 images belonging to 2 classes.\n"
     ]
    }
   ],
   "source": [
    "from common.src import util\n",
    "\n",
    "train_datagen = util.create_train_datagen()\n",
    "test_datagen = util.create_test_datagen()\n",
    "\n",
    "training_set = util.create_generator_set(train_datagen, './common/data/resampled/ADASYN/train')\n",
    "validation_generator = util.create_generator_set(test_datagen, './common/data/chest_xray/val/')\n",
    "test_set = util.create_generator_set(test_datagen, './common/data/chest_xray/test/') "
   ]
  },
  {
   "cell_type": "markdown",
   "metadata": {},
   "source": [
    "# Create Model"
   ]
  },
  {
   "cell_type": "code",
   "execution_count": 9,
   "metadata": {},
   "outputs": [],
   "source": [
    "from common.src import models\n",
    "\n",
    "cnn = models.CNNModel()\n",
    "cnn.create_model()\n",
    "cnn.summary()"
   ]
  },
  {
   "cell_type": "markdown",
   "metadata": {},
   "source": [
    "# Fit Model"
   ]
  },
  {
   "cell_type": "code",
   "execution_count": null,
   "metadata": {},
   "outputs": [
    {
     "name": "stdout",
     "output_type": "stream",
     "text": [
      "Epoch 1/20\n",
      "163/163 [==============================] - 361s 2s/step - loss: 0.3088 - tp: 4450.0000 - fp: 744.0000 - tn: 4458.0000 - fn: 752.0000 - accuracy: 0.8562 - precision: 0.8568 - recall: 0.8554 - auc: 0.9406 - val_loss: 0.3700 - val_tp: 8112.0000 - val_fp: 1872.0000 - val_tn: 8112.0000 - val_fn: 1872.0000 - val_accuracy: 0.8125 - val_precision: 0.8125 - val_recall: 0.8125 - val_auc: 0.9180\n",
      "Epoch 2/20\n",
      "163/163 [==============================] - 338s 2s/step - loss: 0.1974 - tp: 4787.0000 - fp: 443.0000 - tn: 4773.0000 - fn: 429.0000 - accuracy: 0.9164 - precision: 0.9153 - recall: 0.9178 - auc: 0.9763 - val_loss: 0.6870 - val_tp: 6864.0000 - val_fp: 3744.0000 - val_tn: 6240.0000 - val_fn: 3120.0000 - val_accuracy: 0.6562 - val_precision: 0.6471 - val_recall: 0.6875 - val_auc: 0.8008\n",
      "Epoch 3/20\n",
      "163/163 [==============================] - 363s 2s/step - loss: 0.2001 - tp: 4773.0000 - fp: 431.0000 - tn: 4771.0000 - fn: 429.0000 - accuracy: 0.9173 - precision: 0.9172 - recall: 0.9175 - auc: 0.9756 - val_loss: 0.5255 - val_tp: 8112.0000 - val_fp: 1872.0000 - val_tn: 8112.0000 - val_fn: 1872.0000 - val_accuracy: 0.8125 - val_precision: 0.8125 - val_recall: 0.8125 - val_auc: 0.8262\n",
      "Epoch 4/20\n",
      "163/163 [==============================] - 368s 2s/step - loss: 0.1578 - tp: 4879.0000 - fp: 342.0000 - tn: 4874.0000 - fn: 337.0000 - accuracy: 0.9349 - precision: 0.9345 - recall: 0.9354 - auc: 0.9849 - val_loss: 0.4555 - val_tp: 8736.0000 - val_fp: 1248.0000 - val_tn: 8736.0000 - val_fn: 1248.0000 - val_accuracy: 0.8750 - val_precision: 0.8750 - val_recall: 0.8750 - val_auc: 0.8906\n",
      "Epoch 5/20\n",
      "163/163 [==============================] - 360s 2s/step - loss: 0.1598 - tp: 4849.0000 - fp: 342.0000 - tn: 4846.0000 - fn: 339.0000 - accuracy: 0.9344 - precision: 0.9341 - recall: 0.9347 - auc: 0.9845 - val_loss: 0.5953 - val_tp: 6240.0000 - val_fp: 3744.0000 - val_tn: 6240.0000 - val_fn: 3744.0000 - val_accuracy: 0.6250 - val_precision: 0.6250 - val_recall: 0.6250 - val_auc: 0.8164\n",
      "Epoch 6/20\n",
      "163/163 [==============================] - 335s 2s/step - loss: 0.1377 - tp: 4937.0000 - fp: 287.0000 - tn: 4929.0000 - fn: 279.0000 - accuracy: 0.9457 - precision: 0.9451 - recall: 0.9465 - auc: 0.9884 - val_loss: 0.3823 - val_tp: 7488.0000 - val_fp: 2496.0000 - val_tn: 7488.0000 - val_fn: 2496.0000 - val_accuracy: 0.7500 - val_precision: 0.7500 - val_recall: 0.7500 - val_auc: 0.8926\n",
      "Epoch 7/20\n",
      "163/163 [==============================] - 352s 2s/step - loss: 0.1645 - tp: 4865.0000 - fp: 350.0000 - tn: 4852.0000 - fn: 337.0000 - accuracy: 0.9340 - precision: 0.9329 - recall: 0.9352 - auc: 0.9832 - val_loss: 0.3433 - val_tp: 8112.0000 - val_fp: 2496.0000 - val_tn: 7488.0000 - val_fn: 1872.0000 - val_accuracy: 0.7812 - val_precision: 0.7647 - val_recall: 0.8125 - val_auc: 0.9141\n",
      "Epoch 8/20\n",
      "163/163 [==============================] - 354s 2s/step - loss: 0.1358 - tp: 4947.0000 - fp: 267.0000 - tn: 4935.0000 - fn: 255.0000 - accuracy: 0.9498 - precision: 0.9488 - recall: 0.9510 - auc: 0.9883 - val_loss: 0.4063 - val_tp: 7488.0000 - val_fp: 2496.0000 - val_tn: 7488.0000 - val_fn: 2496.0000 - val_accuracy: 0.7500 - val_precision: 0.7500 - val_recall: 0.7500 - val_auc: 0.8965\n",
      "Epoch 9/20\n",
      "162/163 [============================>.] - ETA: 0s - loss: 0.1364 - tp: 4899.0000 - fp: 293.0000 - tn: 4891.0000 - fn: 285.0000 - accuracy: 0.9443 - precision: 0.9436 - recall: 0.9450 - auc: 0.9882ETA: 8s - loss: 0.1238 - tp: 1582.0000 - "
     ]
    }
   ],
   "source": [
    "cnn_model = cnn.fit_generator(training_set, validation_generator, epochs=20)"
   ]
  },
  {
   "cell_type": "code",
   "execution_count": null,
   "metadata": {},
   "outputs": [],
   "source": []
  }
 ],
 "metadata": {
  "kernelspec": {
   "display_name": "Python 3",
   "language": "python",
   "name": "python3"
  },
  "language_info": {
   "codemirror_mode": {
    "name": "ipython",
    "version": 3
   },
   "file_extension": ".py",
   "mimetype": "text/x-python",
   "name": "python",
   "nbconvert_exporter": "python",
   "pygments_lexer": "ipython3",
   "version": "3.7.7"
  },
  "latex_envs": {
   "LaTeX_envs_menu_present": true,
   "autoclose": false,
   "autocomplete": true,
   "bibliofile": "biblio.bib",
   "cite_by": "apalike",
   "current_citInitial": 1,
   "eqLabelWithNumbers": true,
   "eqNumInitial": 1,
   "hotkeys": {
    "equation": "Ctrl-E",
    "itemize": "Ctrl-I"
   },
   "labels_anchors": false,
   "latex_user_defs": false,
   "report_style_numbering": false,
   "user_envs_cfg": false
  }
 },
 "nbformat": 4,
 "nbformat_minor": 4
}
