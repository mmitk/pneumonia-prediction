{
 "cells": [
  {
   "cell_type": "code",
   "execution_count": 1,
   "metadata": {},
   "outputs": [
    {
     "name": "stdout",
     "output_type": "stream",
     "text": [
      "['chest_xray', 'resampled', 'TEST']\n"
     ]
    },
    {
     "name": "stderr",
     "output_type": "stream",
     "text": [
      "Using TensorFlow backend.\n"
     ]
    }
   ],
   "source": [
    "import numpy as np \n",
    "import matplotlib.pyplot as plt \n",
    "import os\n",
    "from PIL import Image\n",
    "print(os.listdir(\"./common/data\"))\n",
    "\n",
    "import tensorflow as tf\n",
    "config = tf.compat.v1.ConfigProto()\n",
    "config.gpu_options.allow_growth = True\n",
    "tf.compat.v1.keras.backend.set_session(tf.compat.v1.Session(config=config))\n",
    "\n",
    "# Keras Libraries\n",
    "import keras\n",
    "from keras.models import Sequential\n",
    "from keras.layers import Conv2D\n",
    "from keras.layers import MaxPooling2D\n",
    "from keras.layers import Flatten\n",
    "from keras.layers import Dense\n",
    "from keras.preprocessing.image import ImageDataGenerator, load_img\n",
    "from sklearn.metrics import classification_report, confusion_matrix\n",
    "%matplotlib inline"
   ]
  },
  {
   "cell_type": "markdown",
   "metadata": {},
   "source": [
    "# Resample Data Into New Dataset"
   ]
  },
  {
   "cell_type": "markdown",
   "metadata": {},
   "source": [
    "# Resample Train Data"
   ]
  },
  {
   "cell_type": "code",
   "execution_count": 2,
   "metadata": {},
   "outputs": [],
   "source": [
    "from common.src import resample as res"
   ]
  },
  {
   "cell_type": "code",
   "execution_count": 3,
   "metadata": {},
   "outputs": [],
   "source": [
    "from imblearn.over_sampling import ADASYN\n",
    "\n",
    "path = r'C:\\Users\\mmitk\\dev\\2020\\pneumonia\\common\\data\\chest_xray\\train'\n",
    "ads = ADASYN(random_state=0)"
   ]
  },
  {
   "cell_type": "code",
   "execution_count": 4,
   "metadata": {},
   "outputs": [],
   "source": [
    "res.resample_directory(ads, path, 'ADASYN', val = False)"
   ]
  },
  {
   "cell_type": "markdown",
   "metadata": {},
   "source": [
    "# Load Data"
   ]
  },
  {
   "cell_type": "code",
   "execution_count": 5,
   "metadata": {},
   "outputs": [],
   "source": [
    "train_folder= './common/data/resampled/ADASYN/train'\n",
    "val_folder = './common/data/chest_xray/val/'\n",
    "test_folder = './common/data/chest_xray/test/'"
   ]
  },
  {
   "cell_type": "code",
   "execution_count": 6,
   "metadata": {},
   "outputs": [],
   "source": [
    "# train \n",
    "os.listdir(train_folder)\n",
    "train_n = train_folder+'NORMAL/'\n",
    "train_p = train_folder+'PNEUMONIA/'"
   ]
  },
  {
   "cell_type": "code",
   "execution_count": 7,
   "metadata": {},
   "outputs": [],
   "source": [
    "# test\n",
    "os.listdir(test_folder)\n",
    "train_n = test_folder+'NORMAL/'\n",
    "train_p = test_folder+'PNEUMONIA/'"
   ]
  },
  {
   "cell_type": "code",
   "execution_count": 8,
   "metadata": {},
   "outputs": [
    {
     "name": "stdout",
     "output_type": "stream",
     "text": [
      "Found 7666 images belonging to 2 classes.\n",
      "Found 16 images belonging to 2 classes.\n",
      "Found 624 images belonging to 2 classes.\n"
     ]
    }
   ],
   "source": [
    "from common.src import util\n",
    "\n",
    "train_datagen = util.create_train_datagen()\n",
    "test_datagen = util.create_test_datagen()\n",
    "\n",
    "training_set = util.create_generator_set(train_datagen, './common/data/resampled/ADASYN/train')\n",
    "validation_generator = util.create_generator_set(test_datagen, './common/data/chest_xray/val/')\n",
    "test_set = util.create_generator_set(test_datagen, './common/data/chest_xray/test/') "
   ]
  },
  {
   "cell_type": "markdown",
   "metadata": {},
   "source": [
    "# Create Model"
   ]
  },
  {
   "cell_type": "code",
   "execution_count": 9,
   "metadata": {},
   "outputs": [],
   "source": [
    "from common.src import models\n",
    "\n",
    "cnn = models.CNNModel(patience_s=19)\n",
    "cnn.create_model()\n",
    "cnn.summary()"
   ]
  },
  {
   "cell_type": "markdown",
   "metadata": {},
   "source": [
    "# Fit Model"
   ]
  },
  {
   "cell_type": "code",
   "execution_count": 10,
   "metadata": {},
   "outputs": [
    {
     "name": "stdout",
     "output_type": "stream",
     "text": [
      "Epoch 1/20\n",
      "163/163 [==============================] - 35s 217ms/step - loss: 0.3308 - tp: 4435.0000 - fp: 848.0000 - tn: 4368.0000 - fn: 781.0000 - accuracy: 0.8438 - precision: 0.8395 - recall: 0.8503 - auc: 0.9318 - val_loss: 0.8363 - val_tp: 190.0000 - val_fp: 114.0000 - val_tn: 190.0000 - val_fn: 114.0000 - val_accuracy: 0.6250 - val_precision: 0.6250 - val_recall: 0.6250 - val_auc: 0.8105\n",
      "Epoch 2/20\n",
      "163/163 [==============================] - 18s 109ms/step - loss: 0.2191 - tp: 4728.0000 - fp: 465.0000 - tn: 4737.0000 - fn: 474.0000 - accuracy: 0.9097 - precision: 0.9105 - recall: 0.9089 - auc: 0.9709 - val_loss: 0.8498 - val_tp: 190.0000 - val_fp: 114.0000 - val_tn: 190.0000 - val_fn: 114.0000 - val_accuracy: 0.6250 - val_precision: 0.6250 - val_recall: 0.6250 - val_auc: 0.7598\n",
      "Epoch 3/20\n",
      "163/163 [==============================] - 26s 162ms/step - loss: 0.1843 - tp: 4797.0000 - fp: 402.0000 - tn: 4800.0000 - fn: 405.0000 - accuracy: 0.9224 - precision: 0.9227 - recall: 0.9221 - auc: 0.9793 - val_loss: 0.7413 - val_tp: 190.0000 - val_fp: 114.0000 - val_tn: 190.0000 - val_fn: 114.0000 - val_accuracy: 0.6250 - val_precision: 0.6250 - val_recall: 0.6250 - val_auc: 0.7969\n",
      "Epoch 4/20\n",
      "163/163 [==============================] - 26s 161ms/step - loss: 0.1859 - tp: 4832.0000 - fp: 372.0000 - tn: 4830.0000 - fn: 370.0000 - accuracy: 0.9287 - precision: 0.9285 - recall: 0.9289 - auc: 0.9787 - val_loss: 0.3672 - val_tp: 266.0000 - val_fp: 38.0000 - val_tn: 266.0000 - val_fn: 38.0000 - val_accuracy: 0.8750 - val_precision: 0.8750 - val_recall: 0.8750 - val_auc: 0.9062\n",
      "Epoch 5/20\n",
      "163/163 [==============================] - 26s 160ms/step - loss: 0.1610 - tp: 4886.0000 - fp: 334.0000 - tn: 4882.0000 - fn: 330.0000 - accuracy: 0.9363 - precision: 0.9360 - recall: 0.9367 - auc: 0.9839 - val_loss: 0.3691 - val_tp: 247.0000 - val_fp: 38.0000 - val_tn: 266.0000 - val_fn: 57.0000 - val_accuracy: 0.8438 - val_precision: 0.8667 - val_recall: 0.8125 - val_auc: 0.9062\n",
      "Epoch 6/20\n",
      "163/163 [==============================] - 26s 162ms/step - loss: 0.1458 - tp: 4905.0000 - fp: 294.0000 - tn: 4908.0000 - fn: 297.0000 - accuracy: 0.9432 - precision: 0.9435 - recall: 0.9429 - auc: 0.9866 - val_loss: 0.3541 - val_tp: 247.0000 - val_fp: 57.0000 - val_tn: 247.0000 - val_fn: 57.0000 - val_accuracy: 0.8125 - val_precision: 0.8125 - val_recall: 0.8125 - val_auc: 0.9062\n",
      "Epoch 7/20\n",
      "163/163 [==============================] - 26s 162ms/step - loss: 0.1421 - tp: 4930.0000 - fp: 282.0000 - tn: 4934.0000 - fn: 286.0000 - accuracy: 0.9456 - precision: 0.9459 - recall: 0.9452 - auc: 0.9872 - val_loss: 0.3681 - val_tp: 266.0000 - val_fp: 38.0000 - val_tn: 266.0000 - val_fn: 38.0000 - val_accuracy: 0.8750 - val_precision: 0.8750 - val_recall: 0.8750 - val_auc: 0.9297\n",
      "Epoch 8/20\n",
      "163/163 [==============================] - 26s 161ms/step - loss: 0.1421 - tp: 4915.0000 - fp: 273.0000 - tn: 4915.0000 - fn: 273.0000 - accuracy: 0.9474 - precision: 0.9474 - recall: 0.9474 - auc: 0.9869 - val_loss: 0.4262 - val_tp: 209.0000 - val_fp: 114.0000 - val_tn: 190.0000 - val_fn: 95.0000 - val_accuracy: 0.6562 - val_precision: 0.6471 - val_recall: 0.6875 - val_auc: 0.8516\n",
      "Epoch 9/20\n",
      "163/163 [==============================] - 26s 161ms/step - loss: 0.1359 - tp: 4920.0000 - fp: 297.0000 - tn: 4919.0000 - fn: 296.0000 - accuracy: 0.9432 - precision: 0.9431 - recall: 0.9433 - auc: 0.9887 - val_loss: 0.4846 - val_tp: 228.0000 - val_fp: 76.0000 - val_tn: 228.0000 - val_fn: 76.0000 - val_accuracy: 0.7500 - val_precision: 0.7500 - val_recall: 0.7500 - val_auc: 0.8477\n",
      "Epoch 10/20\n",
      "163/163 [==============================] - 26s 161ms/step - loss: 0.1260 - tp: 4946.0000 - fp: 260.0000 - tn: 4942.0000 - fn: 256.0000 - accuracy: 0.9504 - precision: 0.9501 - recall: 0.9508 - auc: 0.9899 - val_loss: 0.4611 - val_tp: 247.0000 - val_fp: 95.0000 - val_tn: 209.0000 - val_fn: 57.0000 - val_accuracy: 0.7500 - val_precision: 0.7222 - val_recall: 0.8125 - val_auc: 0.8711\n",
      "Epoch 11/20\n",
      "163/163 [==============================] - 26s 161ms/step - loss: 0.1360 - tp: 4951.0000 - fp: 273.0000 - tn: 4943.0000 - fn: 265.0000 - accuracy: 0.9484 - precision: 0.9477 - recall: 0.9492 - auc: 0.9885 - val_loss: 0.2892 - val_tp: 266.0000 - val_fp: 38.0000 - val_tn: 266.0000 - val_fn: 38.0000 - val_accuracy: 0.8750 - val_precision: 0.8750 - val_recall: 0.8750 - val_auc: 0.9453\n",
      "Epoch 12/20\n",
      "163/163 [==============================] - 26s 160ms/step - loss: 0.1127 - tp: 4974.0000 - fp: 237.0000 - tn: 4965.0000 - fn: 228.0000 - accuracy: 0.9553 - precision: 0.9545 - recall: 0.9562 - auc: 0.9921 - val_loss: 0.2144 - val_tp: 285.0000 - val_fp: 38.0000 - val_tn: 266.0000 - val_fn: 19.0000 - val_accuracy: 0.9062 - val_precision: 0.8824 - val_recall: 0.9375 - val_auc: 0.9902\n",
      "Epoch 13/20\n",
      "163/163 [==============================] - 26s 161ms/step - loss: 0.1194 - tp: 4954.0000 - fp: 250.0000 - tn: 4952.0000 - fn: 248.0000 - accuracy: 0.9521 - precision: 0.9520 - recall: 0.9523 - auc: 0.9908 - val_loss: 0.2673 - val_tp: 266.0000 - val_fp: 38.0000 - val_tn: 266.0000 - val_fn: 38.0000 - val_accuracy: 0.8750 - val_precision: 0.8750 - val_recall: 0.8750 - val_auc: 0.9551\n",
      "Epoch 14/20\n",
      "163/163 [==============================] - 25s 152ms/step - loss: 0.1200 - tp: 4950.0000 - fp: 251.0000 - tn: 4951.0000 - fn: 252.0000 - accuracy: 0.9517 - precision: 0.9517 - recall: 0.9516 - auc: 0.9911 - val_loss: 0.2249 - val_tp: 285.0000 - val_fp: 19.0000 - val_tn: 285.0000 - val_fn: 19.0000 - val_accuracy: 0.9375 - val_precision: 0.9375 - val_recall: 0.9375 - val_auc: 0.9785\n",
      "Epoch 15/20\n",
      "163/163 [==============================] - 26s 160ms/step - loss: 0.1111 - tp: 4989.0000 - fp: 229.0000 - tn: 4987.0000 - fn: 227.0000 - accuracy: 0.9563 - precision: 0.9561 - recall: 0.9565 - auc: 0.9922 - val_loss: 0.3448 - val_tp: 266.0000 - val_fp: 38.0000 - val_tn: 266.0000 - val_fn: 38.0000 - val_accuracy: 0.8750 - val_precision: 0.8750 - val_recall: 0.8750 - val_auc: 0.9121\n",
      "Epoch 16/20\n",
      "163/163 [==============================] - 27s 165ms/step - loss: 0.1179 - tp: 4969.0000 - fp: 237.0000 - tn: 4965.0000 - fn: 233.0000 - accuracy: 0.9548 - precision: 0.9545 - recall: 0.9552 - auc: 0.9912 - val_loss: 0.2895 - val_tp: 247.0000 - val_fp: 57.0000 - val_tn: 247.0000 - val_fn: 57.0000 - val_accuracy: 0.8125 - val_precision: 0.8125 - val_recall: 0.8125 - val_auc: 0.9180\n",
      "Epoch 17/20\n",
      "163/163 [==============================] - 26s 161ms/step - loss: 0.1070 - tp: 5008.0000 - fp: 205.0000 - tn: 5011.0000 - fn: 208.0000 - accuracy: 0.9604 - precision: 0.9607 - recall: 0.9601 - auc: 0.9928 - val_loss: 0.7268 - val_tp: 209.0000 - val_fp: 95.0000 - val_tn: 209.0000 - val_fn: 95.0000 - val_accuracy: 0.6875 - val_precision: 0.6875 - val_recall: 0.6875 - val_auc: 0.8301\n",
      "Epoch 18/20\n",
      "163/163 [==============================] - 26s 162ms/step - loss: 0.1081 - tp: 4988.0000 - fp: 213.0000 - tn: 4989.0000 - fn: 214.0000 - accuracy: 0.9590 - precision: 0.9590 - recall: 0.9589 - auc: 0.9926 - val_loss: 0.5017 - val_tp: 209.0000 - val_fp: 76.0000 - val_tn: 228.0000 - val_fn: 95.0000 - val_accuracy: 0.7188 - val_precision: 0.7333 - val_recall: 0.6875 - val_auc: 0.8730\n",
      "Epoch 19/20\n",
      "163/163 [==============================] - 26s 160ms/step - loss: 0.1110 - tp: 4974.0000 - fp: 227.0000 - tn: 4975.0000 - fn: 228.0000 - accuracy: 0.9563 - precision: 0.9564 - recall: 0.9562 - auc: 0.9922 - val_loss: 0.2919 - val_tp: 247.0000 - val_fp: 57.0000 - val_tn: 247.0000 - val_fn: 57.0000 - val_accuracy: 0.8125 - val_precision: 0.8125 - val_recall: 0.8125 - val_auc: 0.9277\n",
      "Epoch 20/20\n",
      "163/163 [==============================] - 26s 160ms/step - loss: 0.1055 - tp: 4980.0000 - fp: 225.0000 - tn: 4977.0000 - fn: 222.0000 - accuracy: 0.9570 - precision: 0.9568 - recall: 0.9573 - auc: 0.9931 - val_loss: 0.3280 - val_tp: 285.0000 - val_fp: 19.0000 - val_tn: 285.0000 - val_fn: 19.0000 - val_accuracy: 0.9375 - val_precision: 0.9375 - val_recall: 0.9375 - val_auc: 0.9336\n"
     ]
    }
   ],
   "source": [
    "cnn_model = cnn.fit_generator(training_set, validation_generator, epochs=20)"
   ]
  },
  {
   "cell_type": "code",
   "execution_count": 11,
   "metadata": {},
   "outputs": [
    {
     "data": {
      "image/png": "[encoded data removed]",
      "text/plain": [
       "<Figure size 432x288 with 4 Axes>"
      ]
     },
     "metadata": {
      "needs_background": "light"
     },
     "output_type": "display_data"
    }
   ],
   "source": [
    "cnn.plot_history()"
   ]
  },
  {
   "cell_type": "code",
   "execution_count": 12,
   "metadata": {},
   "outputs": [
    {
     "name": "stdout",
     "output_type": "stream",
     "text": [
      "              precision    recall  f1-score   support\n",
      "\n",
      "      NORMAL       0.44      0.15      0.23       234\n",
      "   PNEUMONIA       0.64      0.88      0.74       390\n",
      "\n",
      "    accuracy                           0.61       624\n",
      "   macro avg       0.54      0.52      0.48       624\n",
      "weighted avg       0.56      0.61      0.55       624\n",
      "\n"
     ]
    }
   ],
   "source": [
    "cnn.get_classification_report(test_set)"
   ]
  },
  {
   "cell_type": "code",
   "execution_count": 13,
   "metadata": {},
   "outputs": [
    {
     "data": {
      "image/png": "[encoded data removed]",
      "text/plain": [
       "<Figure size 648x648 with 2 Axes>"
      ]
     },
     "metadata": {
      "needs_background": "light"
     },
     "output_type": "display_data"
    }
   ],
   "source": [
    "cnn.display_confusion_matrix(test_set)"
   ]
  },
  {
   "cell_type": "code",
   "execution_count": null,
   "metadata": {},
   "outputs": [],
   "source": []
  }
 ],
 "metadata": {
  "kernelspec": {
   "display_name": "Python 3",
   "language": "python",
   "name": "python3"
  },
  "language_info": {
   "codemirror_mode": {
    "name": "ipython",
    "version": 3
   },
   "file_extension": ".py",
   "mimetype": "text/x-python",
   "name": "python",
   "nbconvert_exporter": "python",
   "pygments_lexer": "ipython3",
   "version": "3.7.7"
  },
  "latex_envs": {
   "LaTeX_envs_menu_present": true,
   "autoclose": false,
   "autocomplete": true,
   "bibliofile": "biblio.bib",
   "cite_by": "apalike",
   "current_citInitial": 1,
   "eqLabelWithNumbers": true,
   "eqNumInitial": 1,
   "hotkeys": {
    "equation": "Ctrl-E",
    "itemize": "Ctrl-I"
   },
   "labels_anchors": false,
   "latex_user_defs": false,
   "report_style_numbering": false,
   "user_envs_cfg": false
  }
 },
 "nbformat": 4,
 "nbformat_minor": 4
}
