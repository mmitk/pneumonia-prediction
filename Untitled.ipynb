{
 "cells": [
  {
   "cell_type": "code",
   "execution_count": 1,
   "metadata": {},
   "outputs": [
    {
     "name": "stdout",
     "output_type": "stream",
     "text": [
      "['chest_xray', 'resampled', 'TEST']\n"
     ]
    },
    {
     "name": "stderr",
     "output_type": "stream",
     "text": [
      "Using TensorFlow backend.\n"
     ]
    }
   ],
   "source": [
    "import numpy as np \n",
    "import matplotlib.pyplot as plt \n",
    "import os\n",
    "from PIL import Image\n",
    "print(os.listdir(\"./common/data\"))\n",
    "\n",
    "import tensorflow as tf\n",
    "config = tf.compat.v1.ConfigProto()\n",
    "config.gpu_options.allow_growth = True\n",
    "tf.compat.v1.keras.backend.set_session(tf.compat.v1.Session(config=config))\n",
    "\n",
    "# Keras Libraries\n",
    "import keras\n",
    "from keras.models import Sequential\n",
    "from keras.layers import Conv2D\n",
    "from keras.layers import MaxPooling2D\n",
    "from keras.layers import Flatten\n",
    "from keras.layers import Dense\n",
    "from keras.preprocessing.image import ImageDataGenerator, load_img\n",
    "from sklearn.metrics import classification_report, confusion_matrix\n",
    "%matplotlib inline"
   ]
  },
  {
   "cell_type": "markdown",
   "metadata": {},
   "source": [
    "# Find Class Imbalance"
   ]
  },
  {
   "cell_type": "code",
   "execution_count": 2,
   "metadata": {},
   "outputs": [
    {
     "name": "stdout",
     "output_type": "stream",
     "text": [
      "....................................................................................................\n",
      "....................................................................................................\n",
      "....................................................................................................\n",
      "....................................................................................................\n",
      "....................................................................................................\n",
      "......................{0: 1.9448173005219984, 1: 0.6730322580645162}\n"
     ]
    },
    {
     "name": "stderr",
     "output_type": "stream",
     "text": [
      "C:\\Users\\mmitk\\Anaconda3\\envs\\pnenv\\lib\\site-packages\\sklearn\\utils\\validation.py:70: FutureWarning: Pass classes=[0 1], y=[0 0 0 ... 1 1 1] as keyword args. From version 0.25 passing these as positional arguments will result in an error\n",
      "  FutureWarning)\n"
     ]
    }
   ],
   "source": [
    "from common.src import resample as res\n",
    "\n",
    "path = r'C:\\Users\\mmitk\\dev\\2020\\pneumonia\\common\\data\\chest_xray\\train'\n",
    "X, y = res.to_numpy_array(path)\n",
    "\n",
    "from sklearn.utils import class_weight\n",
    "\n",
    "class_weights = class_weight.compute_class_weight('balanced', np.unique(y), y)\n",
    "class_weights = dict(enumerate(class_weights))\n",
    "print(class_weights)"
   ]
  },
  {
   "cell_type": "code",
   "execution_count": 3,
   "metadata": {},
   "outputs": [
    {
     "name": "stdout",
     "output_type": "stream",
     "text": [
      "Found 5216 images belonging to 2 classes.\n",
      "Found 16 images belonging to 2 classes.\n",
      "Found 624 images belonging to 2 classes.\n"
     ]
    }
   ],
   "source": [
    "from common.src import util\n",
    "\n",
    "train_datagen = util.create_train_datagen()\n",
    "test_datagen = util.create_test_datagen()\n",
    "\n",
    "training_set = util.create_generator_set(train_datagen, './common/data/chest_xray/train/')\n",
    "validation_generator = util.create_generator_set(test_datagen, './common/data/chest_xray/val/')\n",
    "test_set = util.create_generator_set(test_datagen, './common/data/chest_xray/test/', batch_size = 1, shuffle = False) "
   ]
  },
  {
   "cell_type": "markdown",
   "metadata": {},
   "source": [
    "# Create/Load Model"
   ]
  },
  {
   "cell_type": "code",
   "execution_count": 4,
   "metadata": {},
   "outputs": [],
   "source": [
    "from common.src import models\n",
    "\n",
    "cnn = models.CNNModel(patience_s=19)\n",
    "cnn.create_model()\n",
    "cnn.summary()"
   ]
  },
  {
   "cell_type": "markdown",
   "metadata": {},
   "source": [
    "# Fit Model"
   ]
  },
  {
   "cell_type": "code",
   "execution_count": 5,
   "metadata": {},
   "outputs": [
    {
     "name": "stdout",
     "output_type": "stream",
     "text": [
      "Epoch 1/20\n",
      "163/163 [==============================] - 57s 349ms/step - loss: 0.4139 - tp: 4101.0000 - fp: 1122.0000 - tn: 4094.0000 - fn: 1115.0000 - accuracy: 0.7856 - precision: 0.7852 - recall: 0.7862 - auc: 0.8841 - val_loss: 0.4736 - val_tp: 190.0000 - val_fp: 114.0000 - val_tn: 190.0000 - val_fn: 114.0000 - val_accuracy: 0.6250 - val_precision: 0.6250 - val_recall: 0.6250 - val_auc: 0.8340\n",
      "Epoch 2/20\n",
      "163/163 [==============================] - 53s 326ms/step - loss: 0.2653 - tp: 4651.0000 - fp: 570.0000 - tn: 4646.0000 - fn: 565.0000 - accuracy: 0.8912 - precision: 0.8908 - recall: 0.8917 - auc: 0.9542 - val_loss: 0.3380 - val_tp: 266.0000 - val_fp: 38.0000 - val_tn: 266.0000 - val_fn: 38.0000 - val_accuracy: 0.8750 - val_precision: 0.8750 - val_recall: 0.8750 - val_auc: 0.9453\n",
      "Epoch 3/20\n",
      "163/163 [==============================] - 54s 330ms/step - loss: 0.2428 - tp: 4676.0000 - fp: 543.0000 - tn: 4673.0000 - fn: 540.0000 - accuracy: 0.8962 - precision: 0.8960 - recall: 0.8965 - auc: 0.9602 - val_loss: 0.2993 - val_tp: 266.0000 - val_fp: 19.0000 - val_tn: 285.0000 - val_fn: 38.0000 - val_accuracy: 0.9062 - val_precision: 0.9333 - val_recall: 0.8750 - val_auc: 0.9453\n",
      "Epoch 4/20\n",
      "163/163 [==============================] - 53s 326ms/step - loss: 0.2225 - tp: 4733.0000 - fp: 490.0000 - tn: 4726.0000 - fn: 483.0000 - accuracy: 0.9067 - precision: 0.9062 - recall: 0.9074 - auc: 0.9670 - val_loss: 0.6432 - val_tp: 190.0000 - val_fp: 95.0000 - val_tn: 209.0000 - val_fn: 114.0000 - val_accuracy: 0.6562 - val_precision: 0.6667 - val_recall: 0.6250 - val_auc: 0.8242\n",
      "Epoch 5/20\n",
      "163/163 [==============================] - 54s 334ms/step - loss: 0.2140 - tp: 4750.0000 - fp: 455.0000 - tn: 4761.0000 - fn: 466.0000 - accuracy: 0.9117 - precision: 0.9126 - recall: 0.9107 - auc: 0.9694 - val_loss: 0.3918 - val_tp: 247.0000 - val_fp: 57.0000 - val_tn: 247.0000 - val_fn: 57.0000 - val_accuracy: 0.8125 - val_precision: 0.8125 - val_recall: 0.8125 - val_auc: 0.8945\n",
      "Epoch 6/20\n",
      "163/163 [==============================] - 54s 330ms/step - loss: 0.2054 - tp: 4773.0000 - fp: 432.0000 - tn: 4784.0000 - fn: 443.0000 - accuracy: 0.9161 - precision: 0.9170 - recall: 0.9151 - auc: 0.9726 - val_loss: 0.3077 - val_tp: 266.0000 - val_fp: 38.0000 - val_tn: 266.0000 - val_fn: 38.0000 - val_accuracy: 0.8750 - val_precision: 0.8750 - val_recall: 0.8750 - val_auc: 0.9453\n",
      "Epoch 7/20\n",
      "163/163 [==============================] - 56s 343ms/step - loss: 0.1865 - tp: 4823.0000 - fp: 398.0000 - tn: 4818.0000 - fn: 393.0000 - accuracy: 0.9242 - precision: 0.9238 - recall: 0.9247 - auc: 0.9765 - val_loss: 0.4568 - val_tp: 209.0000 - val_fp: 95.0000 - val_tn: 209.0000 - val_fn: 95.0000 - val_accuracy: 0.6875 - val_precision: 0.6875 - val_recall: 0.6875 - val_auc: 0.8633\n",
      "Epoch 8/20\n",
      "163/163 [==============================] - 56s 343ms/step - loss: 0.1591 - tp: 4864.0000 - fp: 355.0000 - tn: 4861.0000 - fn: 352.0000 - accuracy: 0.9322 - precision: 0.9320 - recall: 0.9325 - auc: 0.9830 - val_loss: 0.3386 - val_tp: 247.0000 - val_fp: 57.0000 - val_tn: 247.0000 - val_fn: 57.0000 - val_accuracy: 0.8125 - val_precision: 0.8125 - val_recall: 0.8125 - val_auc: 0.9277\n",
      "Epoch 9/20\n",
      "163/163 [==============================] - 57s 350ms/step - loss: 0.1596 - tp: 4885.0000 - fp: 337.0000 - tn: 4879.0000 - fn: 331.0000 - accuracy: 0.9360 - precision: 0.9355 - recall: 0.9365 - auc: 0.9830 - val_loss: 0.3171 - val_tp: 266.0000 - val_fp: 38.0000 - val_tn: 266.0000 - val_fn: 38.0000 - val_accuracy: 0.8750 - val_precision: 0.8750 - val_recall: 0.8750 - val_auc: 0.9375\n",
      "Epoch 10/20\n",
      "163/163 [==============================] - 56s 343ms/step - loss: 0.1631 - tp: 4863.0000 - fp: 356.0000 - tn: 4860.0000 - fn: 353.0000 - accuracy: 0.9320 - precision: 0.9318 - recall: 0.9323 - auc: 0.9825 - val_loss: 0.6479 - val_tp: 209.0000 - val_fp: 95.0000 - val_tn: 209.0000 - val_fn: 95.0000 - val_accuracy: 0.6875 - val_precision: 0.6875 - val_recall: 0.6875 - val_auc: 0.8359\n",
      "Epoch 11/20\n",
      "163/163 [==============================] - 56s 345ms/step - loss: 0.1556 - tp: 4898.0000 - fp: 320.0000 - tn: 4896.0000 - fn: 318.0000 - accuracy: 0.9388 - precision: 0.9387 - recall: 0.9390 - auc: 0.9833 - val_loss: 0.2522 - val_tp: 285.0000 - val_fp: 19.0000 - val_tn: 285.0000 - val_fn: 19.0000 - val_accuracy: 0.9375 - val_precision: 0.9375 - val_recall: 0.9375 - val_auc: 0.9688\n",
      "Epoch 12/20\n",
      "163/163 [==============================] - 69s 424ms/step - loss: 0.1417 - tp: 4902.0000 - fp: 310.0000 - tn: 4906.0000 - fn: 314.0000 - accuracy: 0.9402 - precision: 0.9405 - recall: 0.9398 - auc: 0.9865 - val_loss: 0.1916 - val_tp: 285.0000 - val_fp: 19.0000 - val_tn: 285.0000 - val_fn: 19.0000 - val_accuracy: 0.9375 - val_precision: 0.9375 - val_recall: 0.9375 - val_auc: 0.9805\n",
      "Epoch 13/20\n",
      "163/163 [==============================] - 73s 450ms/step - loss: 0.1283 - tp: 4938.0000 - fp: 270.0000 - tn: 4946.0000 - fn: 278.0000 - accuracy: 0.9475 - precision: 0.9482 - recall: 0.9467 - auc: 0.9888 - val_loss: 0.3607 - val_tp: 190.0000 - val_fp: 95.0000 - val_tn: 209.0000 - val_fn: 114.0000 - val_accuracy: 0.6562 - val_precision: 0.6667 - val_recall: 0.6250 - val_auc: 0.8672\n",
      "Epoch 14/20\n",
      "163/163 [==============================] - 73s 451ms/step - loss: 0.1410 - tp: 4937.0000 - fp: 272.0000 - tn: 4944.0000 - fn: 279.0000 - accuracy: 0.9472 - precision: 0.9478 - recall: 0.9465 - auc: 0.9863 - val_loss: 0.2705 - val_tp: 266.0000 - val_fp: 38.0000 - val_tn: 266.0000 - val_fn: 38.0000 - val_accuracy: 0.8750 - val_precision: 0.8750 - val_recall: 0.8750 - val_auc: 0.9590\n",
      "Epoch 15/20\n",
      "163/163 [==============================] - 69s 422ms/step - loss: 0.1445 - tp: 4911.0000 - fp: 300.0000 - tn: 4916.0000 - fn: 305.0000 - accuracy: 0.9420 - precision: 0.9424 - recall: 0.9415 - auc: 0.9854 - val_loss: 0.1998 - val_tp: 285.0000 - val_fp: 19.0000 - val_tn: 285.0000 - val_fn: 19.0000 - val_accuracy: 0.9375 - val_precision: 0.9375 - val_recall: 0.9375 - val_auc: 0.9961\n",
      "Epoch 16/20\n",
      "163/163 [==============================] - 69s 420ms/step - loss: 0.1385 - tp: 4931.0000 - fp: 277.0000 - tn: 4939.0000 - fn: 285.0000 - accuracy: 0.9461 - precision: 0.9468 - recall: 0.9454 - auc: 0.9872 - val_loss: 0.4456 - val_tp: 266.0000 - val_fp: 57.0000 - val_tn: 247.0000 - val_fn: 38.0000 - val_accuracy: 0.8438 - val_precision: 0.8235 - val_recall: 0.8750 - val_auc: 0.8906\n",
      "Epoch 17/20\n",
      "163/163 [==============================] - 71s 438ms/step - loss: 0.1325 - tp: 4956.0000 - fp: 262.0000 - tn: 4954.0000 - fn: 260.0000 - accuracy: 0.9500 - precision: 0.9498 - recall: 0.9502 - auc: 0.9877 - val_loss: 0.5817 - val_tp: 247.0000 - val_fp: 57.0000 - val_tn: 247.0000 - val_fn: 57.0000 - val_accuracy: 0.8125 - val_precision: 0.8125 - val_recall: 0.8125 - val_auc: 0.8613\n",
      "Epoch 18/20\n",
      "163/163 [==============================] - 69s 425ms/step - loss: 0.1254 - tp: 4978.0000 - fp: 239.0000 - tn: 4977.0000 - fn: 238.0000 - accuracy: 0.9543 - precision: 0.9542 - recall: 0.9544 - auc: 0.9883 - val_loss: 0.3370 - val_tp: 247.0000 - val_fp: 57.0000 - val_tn: 247.0000 - val_fn: 57.0000 - val_accuracy: 0.8125 - val_precision: 0.8125 - val_recall: 0.8125 - val_auc: 0.9395\n",
      "Epoch 19/20\n",
      "163/163 [==============================] - 71s 437ms/step - loss: 0.1192 - tp: 4970.0000 - fp: 235.0000 - tn: 4981.0000 - fn: 246.0000 - accuracy: 0.9539 - precision: 0.9549 - recall: 0.9528 - auc: 0.9904 - val_loss: 0.7250 - val_tp: 228.0000 - val_fp: 95.0000 - val_tn: 209.0000 - val_fn: 76.0000 - val_accuracy: 0.7188 - val_precision: 0.7059 - val_recall: 0.7500 - val_auc: 0.7930\n",
      "Epoch 20/20\n",
      "163/163 [==============================] - 60s 369ms/step - loss: 0.1273 - tp: 4959.0000 - fp: 254.0000 - tn: 4962.0000 - fn: 257.0000 - accuracy: 0.9510 - precision: 0.9513 - recall: 0.9507 - auc: 0.9890 - val_loss: 0.2681 - val_tp: 247.0000 - val_fp: 57.0000 - val_tn: 247.0000 - val_fn: 57.0000 - val_accuracy: 0.8125 - val_precision: 0.8125 - val_recall: 0.8125 - val_auc: 0.9492\n"
     ]
    }
   ],
   "source": [
    "cnn_model = cnn.fit_generator(training_set, validation_generator, epochs = 20, class_weights = class_weights)"
   ]
  },
  {
   "cell_type": "code",
   "execution_count": null,
   "metadata": {},
   "outputs": [],
   "source": [
    "cnn.plot_history()"
   ]
  },
  {
   "cell_type": "code",
   "execution_count": null,
   "metadata": {},
   "outputs": [],
   "source": [
    "print(cnn.get_classification_report(test_set))"
   ]
  },
  {
   "cell_type": "code",
   "execution_count": null,
   "metadata": {},
   "outputs": [],
   "source": [
    "cnn.display_confusion_matrix(test_data_generator = test_set)"
   ]
  }
 ],
 "metadata": {
  "kernelspec": {
   "display_name": "Python 3",
   "language": "python",
   "name": "python3"
  },
  "language_info": {
   "codemirror_mode": {
    "name": "ipython",
    "version": 3
   },
   "file_extension": ".py",
   "mimetype": "text/x-python",
   "name": "python",
   "nbconvert_exporter": "python",
   "pygments_lexer": "ipython3",
   "version": "3.6.12"
  }
 },
 "nbformat": 4,
 "nbformat_minor": 4
}
