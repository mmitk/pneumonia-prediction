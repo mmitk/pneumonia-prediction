{
 "cells": [
  {
   "cell_type": "code",
   "execution_count": 1,
   "metadata": {},
   "outputs": [
    {
     "name": "stdout",
     "output_type": "stream",
     "text": [
      "['chest_xray', 'resampled', 'TEST']\n"
     ]
    },
    {
     "name": "stderr",
     "output_type": "stream",
     "text": [
      "Using TensorFlow backend.\n"
     ]
    }
   ],
   "source": [
    "import numpy as np \n",
    "import matplotlib.pyplot as plt \n",
    "import os\n",
    "from PIL import Image\n",
    "print(os.listdir(\"./common/data\"))\n",
    "\n",
    "os.environ[\"CUDA_VISIBLE_DEVICES\"]=\"1\"\n",
    "\n",
    "import tensorflow as tf\n",
    "config = tf.compat.v1.ConfigProto()\n",
    "config.gpu_options.allow_growth = True\n",
    "tf.compat.v1.keras.backend.set_session(tf.compat.v1.Session(config=config))\n",
    "\n",
    "# Keras Libraries\n",
    "import keras\n",
    "from keras.models import Sequential\n",
    "from keras.layers import Conv2D\n",
    "from keras.layers import MaxPooling2D\n",
    "from keras.layers import Flatten\n",
    "from keras.layers import Dense\n",
    "from keras.preprocessing.image import ImageDataGenerator, load_img\n",
    "from sklearn.metrics import classification_report, confusion_matrix\n",
    "%matplotlib inline"
   ]
  },
  {
   "cell_type": "markdown",
   "metadata": {},
   "source": [
    "# Resample Data Into New Dataset"
   ]
  },
  {
   "cell_type": "markdown",
   "metadata": {},
   "source": [
    "# Resample Train Data"
   ]
  },
  {
   "cell_type": "code",
   "execution_count": 2,
   "metadata": {},
   "outputs": [],
   "source": [
    "from common.src import resample as res"
   ]
  },
  {
   "cell_type": "code",
   "execution_count": 3,
   "metadata": {},
   "outputs": [],
   "source": [
    "from imblearn.over_sampling import RandomOverSampler\n",
    "\n",
    "path = r'C:\\Users\\mmitk\\dev\\2020\\pneumonia\\common\\data\\chest_xray\\train'\n",
    "ros = RandomOverSampler(random_state=0)"
   ]
  },
  {
   "cell_type": "code",
   "execution_count": 4,
   "metadata": {
    "scrolled": true
   },
   "outputs": [],
   "source": [
    "res.resample_directory(ros, path, 'ROS', val = False)"
   ]
  },
  {
   "cell_type": "markdown",
   "metadata": {},
   "source": [
    "# Load Data"
   ]
  },
  {
   "cell_type": "code",
   "execution_count": 5,
   "metadata": {},
   "outputs": [],
   "source": [
    "train_folder= './common/data/resampled/ROS/train'\n",
    "val_folder = './common/data/chest_xray/val/'\n",
    "test_folder = './common/data/chest_xray/test/'"
   ]
  },
  {
   "cell_type": "markdown",
   "metadata": {},
   "source": [
    "Set up Training Folders"
   ]
  },
  {
   "cell_type": "code",
   "execution_count": 6,
   "metadata": {},
   "outputs": [],
   "source": [
    "# train \n",
    "os.listdir(train_folder)\n",
    "train_n = train_folder+'NORMAL/'\n",
    "train_p = train_folder+'PNEUMONIA/'"
   ]
  },
  {
   "cell_type": "markdown",
   "metadata": {},
   "source": [
    "Set up Testing Folders"
   ]
  },
  {
   "cell_type": "code",
   "execution_count": 7,
   "metadata": {},
   "outputs": [],
   "source": [
    "# test\n",
    "os.listdir(test_folder)\n",
    "train_n = test_folder+'NORMAL/'\n",
    "train_p = test_folder+'PNEUMONIA/'"
   ]
  },
  {
   "cell_type": "markdown",
   "metadata": {},
   "source": [
    "# Generate Dataset from image data"
   ]
  },
  {
   "cell_type": "code",
   "execution_count": 8,
   "metadata": {},
   "outputs": [
    {
     "name": "stdout",
     "output_type": "stream",
     "text": [
      "Found 7750 images belonging to 2 classes.\n",
      "Found 16 images belonging to 2 classes.\n",
      "Found 624 images belonging to 2 classes.\n"
     ]
    }
   ],
   "source": [
    "from common.src import util\n",
    "\n",
    "train_datagen = util.create_train_datagen()\n",
    "test_datagen = util.create_test_datagen()\n",
    "\n",
    "training_set = util.create_generator_set(train_datagen, './common/data/resampled/ROS/train')\n",
    "validation_generator = util.create_generator_set(test_datagen, './common/data/chest_xray/val/')\n",
    "test_set = util.create_generator_set(test_datagen, './common/data/chest_xray/test/', batch_size = 1, shuffle = False) "
   ]
  },
  {
   "cell_type": "markdown",
   "metadata": {},
   "source": [
    "# Create Model"
   ]
  },
  {
   "cell_type": "code",
   "execution_count": 9,
   "metadata": {},
   "outputs": [],
   "source": [
    "from common.src import models\n",
    "\n",
    "cnn = models.CNNModel(patience_s=19)\n",
    "cnn.create_model()\n",
    "cnn.summary()"
   ]
  },
  {
   "cell_type": "markdown",
   "metadata": {},
   "source": [
    "# Fit Model"
   ]
  },
  {
   "cell_type": "code",
   "execution_count": 10,
   "metadata": {
    "scrolled": false
   },
   "outputs": [
    {
     "name": "stdout",
     "output_type": "stream",
     "text": [
      "Epoch 1/20\n",
      "163/163 [==============================] - 17s 107ms/step - loss: 0.3930 - tp: 4247.0000 - fp: 902.0000 - tn: 4314.0000 - fn: 969.0000 - accuracy: 0.8206 - precision: 0.8248 - recall: 0.8142 - auc: 0.9064 - val_loss: 0.3802 - val_tp: 266.0000 - val_fp: 38.0000 - val_tn: 266.0000 - val_fn: 38.0000 - val_accuracy: 0.8750 - val_precision: 0.8750 - val_recall: 0.8750 - val_auc: 0.9141\n",
      "Epoch 2/20\n",
      "163/163 [==============================] - 16s 96ms/step - loss: 0.2334 - tp: 4656.0000 - fp: 514.0000 - tn: 4650.0000 - fn: 508.0000 - accuracy: 0.9010 - precision: 0.9006 - recall: 0.9016 - auc: 0.9668 - val_loss: 0.2973 - val_tp: 266.0000 - val_fp: 38.0000 - val_tn: 266.0000 - val_fn: 38.0000 - val_accuracy: 0.8750 - val_precision: 0.8750 - val_recall: 0.8750 - val_auc: 0.9570\n",
      "Epoch 3/20\n",
      "163/163 [==============================] - 15s 92ms/step - loss: 0.2199 - tp: 4754.0000 - fp: 467.0000 - tn: 4749.0000 - fn: 462.0000 - accuracy: 0.9109 - precision: 0.9106 - recall: 0.9114 - auc: 0.9702 - val_loss: 0.3230 - val_tp: 266.0000 - val_fp: 38.0000 - val_tn: 266.0000 - val_fn: 38.0000 - val_accuracy: 0.8750 - val_precision: 0.8750 - val_recall: 0.8750 - val_auc: 0.9453: 0.9078 - precision: 0.9072 - - ETA: 0s - loss: 0.2207 - tp: 4403.0000 - fp: 434.0000 - tn: 4398.0000 - fn: 429.0000 - accuracy: 0.9107 - precision: 0.9103 - recall: 0.9112 -\n",
      "Epoch 4/20\n",
      "163/163 [==============================] - 15s 91ms/step - loss: 0.2068 - tp: 4770.0000 - fp: 421.0000 - tn: 4769.0000 - fn: 420.0000 - accuracy: 0.9190 - precision: 0.9189 - recall: 0.9191 - auc: 0.9733 - val_loss: 0.4331 - val_tp: 247.0000 - val_fp: 57.0000 - val_tn: 247.0000 - val_fn: 57.0000 - val_accuracy: 0.8125 - val_precision: 0.8125 - val_recall: 0.8125 - val_auc: 0.8867\n",
      "Epoch 5/20\n",
      "163/163 [==============================] - 15s 91ms/step - loss: 0.1970 - tp: 4807.0000 - fp: 418.0000 - tn: 4798.0000 - fn: 409.0000 - accuracy: 0.9207 - precision: 0.9200 - recall: 0.9216 - auc: 0.9762 - val_loss: 0.3611 - val_tp: 247.0000 - val_fp: 76.0000 - val_tn: 228.0000 - val_fn: 57.0000 - val_accuracy: 0.7812 - val_precision: 0.7647 - val_recall: 0.8125 - val_auc: 0.9102\n",
      "Epoch 6/20\n",
      "163/163 [==============================] - 15s 94ms/step - loss: 0.1516 - tp: 4855.0000 - fp: 332.0000 - tn: 4858.0000 - fn: 335.0000 - accuracy: 0.9357 - precision: 0.9360 - recall: 0.9355 - auc: 0.9860 - val_loss: 0.6195 - val_tp: 209.0000 - val_fp: 95.0000 - val_tn: 209.0000 - val_fn: 95.0000 - val_accuracy: 0.6875 - val_precision: 0.6875 - val_recall: 0.6875 - val_auc: 0.8477\n",
      "Epoch 7/20\n",
      "163/163 [==============================] - 17s 102ms/step - loss: 0.1613 - tp: 4894.0000 - fp: 298.0000 - tn: 4892.0000 - fn: 296.0000 - accuracy: 0.9428 - precision: 0.9426 - recall: 0.9430 - auc: 0.9839 - val_loss: 0.4259 - val_tp: 228.0000 - val_fp: 76.0000 - val_tn: 228.0000 - val_fn: 76.0000 - val_accuracy: 0.7500 - val_precision: 0.7500 - val_recall: 0.7500 - val_auc: 0.8750\n",
      "Epoch 8/20\n",
      "163/163 [==============================] - 16s 97ms/step - loss: 0.1567 - tp: 4884.0000 - fp: 314.0000 - tn: 4876.0000 - fn: 306.0000 - accuracy: 0.9403 - precision: 0.9396 - recall: 0.9410 - auc: 0.9841 - val_loss: 0.2405 - val_tp: 304.0000 - val_fp: 0.0000e+00 - val_tn: 304.0000 - val_fn: 0.0000e+00 - val_accuracy: 1.0000 - val_precision: 1.0000 - val_recall: 1.0000 - val_auc: 1.0000\n",
      "Epoch 9/20\n",
      "163/163 [==============================] - 16s 97ms/step - loss: 0.1553 - tp: 4874.0000 - fp: 310.0000 - tn: 4880.0000 - fn: 316.0000 - accuracy: 0.9397 - precision: 0.9402 - recall: 0.9391 - auc: 0.9845 - val_loss: 0.3730 - val_tp: 247.0000 - val_fp: 76.0000 - val_tn: 228.0000 - val_fn: 57.0000 - val_accuracy: 0.7812 - val_precision: 0.7647 - val_recall: 0.8125 - val_auc: 0.8965\n",
      "Epoch 10/20\n",
      "163/163 [==============================] - 16s 99ms/step - loss: 0.1477 - tp: 4924.0000 - fp: 301.0000 - tn: 4915.0000 - fn: 292.0000 - accuracy: 0.9432 - precision: 0.9424 - recall: 0.9440 - auc: 0.9859 - val_loss: 0.2875 - val_tp: 266.0000 - val_fp: 38.0000 - val_tn: 266.0000 - val_fn: 38.0000 - val_accuracy: 0.8750 - val_precision: 0.8750 - val_recall: 0.8750 - val_auc: 0.9551\n",
      "Epoch 11/20\n",
      "163/163 [==============================] - 16s 97ms/step - loss: 0.1581 - tp: 4901.0000 - fp: 320.0000 - tn: 4896.0000 - fn: 315.0000 - accuracy: 0.9391 - precision: 0.9387 - recall: 0.9396 - auc: 0.9842 - val_loss: 0.3123 - val_tp: 266.0000 - val_fp: 38.0000 - val_tn: 266.0000 - val_fn: 38.0000 - val_accuracy: 0.8750 - val_precision: 0.8750 - val_recall: 0.8750 - val_auc: 0.9375\n",
      "Epoch 12/20\n",
      "163/163 [==============================] - 16s 97ms/step - loss: 0.1348 - tp: 4931.0000 - fp: 263.0000 - tn: 4927.0000 - fn: 259.0000 - accuracy: 0.9497 - precision: 0.9494 - recall: 0.9501 - auc: 0.9881 - val_loss: 0.3338 - val_tp: 247.0000 - val_fp: 57.0000 - val_tn: 247.0000 - val_fn: 57.0000 - val_accuracy: 0.8125 - val_precision: 0.8125 - val_recall: 0.8125 - val_auc: 0.9336\n",
      "Epoch 13/20\n",
      "163/163 [==============================] - 16s 97ms/step - loss: 0.1282 - tp: 4940.0000 - fp: 249.0000 - tn: 4941.0000 - fn: 250.0000 - accuracy: 0.9519 - precision: 0.9520 - recall: 0.9518 - auc: 0.9896 - val_loss: 0.4898 - val_tp: 228.0000 - val_fp: 57.0000 - val_tn: 247.0000 - val_fn: 76.0000 - val_accuracy: 0.7812 - val_precision: 0.8000 - val_recall: 0.7500 - val_auc: 0.8594\n",
      "Epoch 14/20\n",
      "163/163 [==============================] - 16s 97ms/step - loss: 0.1275 - tp: 4948.0000 - fp: 244.0000 - tn: 4946.0000 - fn: 242.0000 - accuracy: 0.9532 - precision: 0.9530 - recall: 0.9534 - auc: 0.9894 - val_loss: 0.3905 - val_tp: 228.0000 - val_fp: 76.0000 - val_tn: 228.0000 - val_fn: 76.0000 - val_accuracy: 0.7500 - val_precision: 0.7500 - val_recall: 0.7500 - val_auc: 0.9121\n",
      "Epoch 15/20\n",
      "163/163 [==============================] - 16s 98ms/step - loss: 0.1362 - tp: 4971.0000 - fp: 250.0000 - tn: 4966.0000 - fn: 245.0000 - accuracy: 0.9525 - precision: 0.9521 - recall: 0.9530 - auc: 0.9875 - val_loss: 0.7980 - val_tp: 190.0000 - val_fp: 95.0000 - val_tn: 209.0000 - val_fn: 114.0000 - val_accuracy: 0.6562 - val_precision: 0.6667 - val_recall: 0.6250 - val_auc: 0.8066\n",
      "Epoch 16/20\n",
      "163/163 [==============================] - 16s 97ms/step - loss: 0.1139 - tp: 5001.0000 - fp: 214.0000 - tn: 5002.0000 - fn: 215.0000 - accuracy: 0.9589 - precision: 0.9590 - recall: 0.9588 - auc: 0.9913 - val_loss: 0.1681 - val_tp: 285.0000 - val_fp: 19.0000 - val_tn: 285.0000 - val_fn: 19.0000 - val_accuracy: 0.9375 - val_precision: 0.9375 - val_recall: 0.9375 - val_auc: 0.9961\n",
      "Epoch 17/20\n",
      "163/163 [==============================] - 16s 97ms/step - loss: 0.1175 - tp: 4973.0000 - fp: 222.0000 - tn: 4968.0000 - fn: 217.0000 - accuracy: 0.9577 - precision: 0.9573 - recall: 0.9582 - auc: 0.9911 - val_loss: 0.2835 - val_tp: 285.0000 - val_fp: 19.0000 - val_tn: 285.0000 - val_fn: 19.0000 - val_accuracy: 0.9375 - val_precision: 0.9375 - val_recall: 0.9375 - val_auc: 0.9375\n",
      "Epoch 18/20\n",
      "163/163 [==============================] - 16s 97ms/step - loss: 0.1056 - tp: 4995.0000 - fp: 203.0000 - tn: 4987.0000 - fn: 195.0000 - accuracy: 0.9617 - precision: 0.9609 - recall: 0.9624 - auc: 0.9924 - val_loss: 0.4355 - val_tp: 247.0000 - val_fp: 57.0000 - val_tn: 247.0000 - val_fn: 57.0000 - val_accuracy: 0.8125 - val_precision: 0.8125 - val_recall: 0.8125 - val_auc: 0.9102\n",
      "Epoch 19/20\n",
      "163/163 [==============================] - 16s 97ms/step - loss: 0.1184 - tp: 4972.0000 - fp: 228.0000 - tn: 4962.0000 - fn: 218.0000 - accuracy: 0.9570 - precision: 0.9562 - recall: 0.9580 - auc: 0.9909 - val_loss: 0.3755 - val_tp: 266.0000 - val_fp: 38.0000 - val_tn: 266.0000 - val_fn: 38.0000 - val_accuracy: 0.8750 - val_precision: 0.8750 - val_recall: 0.8750 - val_auc: 0.9141\n",
      "Epoch 20/20\n",
      "163/163 [==============================] - 16s 98ms/step - loss: 0.1159 - tp: 4990.0000 - fp: 223.0000 - tn: 4993.0000 - fn: 226.0000 - accuracy: 0.9570 - precision: 0.9572 - recall: 0.9567 - auc: 0.9910 - val_loss: 0.4087 - val_tp: 266.0000 - val_fp: 38.0000 - val_tn: 266.0000 - val_fn: 38.0000 - val_accuracy: 0.8750 - val_precision: 0.8750 - val_recall: 0.8750 - val_auc: 0.8984\n"
     ]
    }
   ],
   "source": [
    "cnn_model = cnn.fit_generator(training_set, validation_generator, epochs = 20)"
   ]
  },
  {
   "cell_type": "code",
   "execution_count": 11,
   "metadata": {},
   "outputs": [
    {
     "data": {
      "image/png": "[encoded data removed]",
      "text/plain": [
       "<Figure size 432x288 with 4 Axes>"
      ]
     },
     "metadata": {
      "needs_background": "light"
     },
     "output_type": "display_data"
    }
   ],
   "source": [
    "cnn.plot_history()"
   ]
  },
  {
   "cell_type": "code",
   "execution_count": 12,
   "metadata": {},
   "outputs": [
    {
     "name": "stdout",
     "output_type": "stream",
     "text": [
      "              precision    recall  f1-score   support\n",
      "\n",
      "      NORMAL       0.82      0.86      0.84       234\n",
      "   PNEUMONIA       0.92      0.89      0.90       390\n",
      "\n",
      "    accuracy                           0.88       624\n",
      "   macro avg       0.87      0.88      0.87       624\n",
      "weighted avg       0.88      0.88      0.88       624\n",
      "\n"
     ]
    }
   ],
   "source": [
    "cnn.get_classification_report(test_set)"
   ]
  },
  {
   "cell_type": "code",
   "execution_count": 13,
   "metadata": {},
   "outputs": [
    {
     "data": {
      "image/png": "[encoded data removed]",
      "text/plain": [
       "<Figure size 648x648 with 2 Axes>"
      ]
     },
     "metadata": {
      "needs_background": "light"
     },
     "output_type": "display_data"
    }
   ],
   "source": [
    "cnn.display_confusion_matrix(test_set)"
   ]
  }
 ],
 "metadata": {
  "kernelspec": {
   "display_name": "Python 3",
   "language": "python",
   "name": "python3"
  },
  "language_info": {
   "codemirror_mode": {
    "name": "ipython",
    "version": 3
   },
   "file_extension": ".py",
   "mimetype": "text/x-python",
   "name": "python",
   "nbconvert_exporter": "python",
   "pygments_lexer": "ipython3",
   "version": "3.6.12"
  },
  "latex_envs": {
   "LaTeX_envs_menu_present": true,
   "autoclose": false,
   "autocomplete": true,
   "bibliofile": "biblio.bib",
   "cite_by": "apalike",
   "current_citInitial": 1,
   "eqLabelWithNumbers": true,
   "eqNumInitial": 1,
   "hotkeys": {
    "equation": "Ctrl-E",
    "itemize": "Ctrl-I"
   },
   "labels_anchors": false,
   "latex_user_defs": false,
   "report_style_numbering": false,
   "user_envs_cfg": false
  }
 },
 "nbformat": 4,
 "nbformat_minor": 4
}
