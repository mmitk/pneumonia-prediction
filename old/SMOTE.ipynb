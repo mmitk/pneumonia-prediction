{
 "cells": [
  {
   "cell_type": "code",
   "execution_count": 1,
   "metadata": {},
   "outputs": [
    {
     "name": "stdout",
     "output_type": "stream",
     "text": [
      "['chest_xray', 'resampled', 'TEST']\n"
     ]
    },
    {
     "name": "stderr",
     "output_type": "stream",
     "text": [
      "Using TensorFlow backend.\n"
     ]
    }
   ],
   "source": [
    "import numpy as np \n",
    "import matplotlib.pyplot as plt \n",
    "import os\n",
    "from PIL import Image\n",
    "print(os.listdir(\"./common/data\"))\n",
    "\n",
    "import tensorflow as tf\n",
    "config = tf.compat.v1.ConfigProto()\n",
    "config.gpu_options.allow_growth = True\n",
    "tf.compat.v1.keras.backend.set_session(tf.compat.v1.Session(config=config))\n",
    "\n",
    "# Keras Libraries\n",
    "import keras\n",
    "from keras.models import Sequential\n",
    "from keras.layers import Conv2D\n",
    "from keras.layers import MaxPooling2D\n",
    "from keras.layers import Flatten\n",
    "from keras.layers import Dense\n",
    "from keras.preprocessing.image import ImageDataGenerator, load_img\n",
    "from sklearn.metrics import classification_report, confusion_matrix\n",
    "%matplotlib inline"
   ]
  },
  {
   "cell_type": "markdown",
   "metadata": {},
   "source": [
    "# Resample Data Into New Dataset"
   ]
  },
  {
   "cell_type": "markdown",
   "metadata": {},
   "source": [
    "# Resample Train Data"
   ]
  },
  {
   "cell_type": "code",
   "execution_count": 2,
   "metadata": {},
   "outputs": [],
   "source": [
    "from common.src import resample as res"
   ]
  },
  {
   "cell_type": "code",
   "execution_count": 3,
   "metadata": {},
   "outputs": [],
   "source": [
    "from imblearn.over_sampling import SMOTE\n",
    "\n",
    "path = r'C:\\Users\\mmitk\\dev\\2020\\pneumonia\\common\\data\\chest_xray\\train'\n",
    "SM = SMOTE(random_state=0)"
   ]
  },
  {
   "cell_type": "code",
   "execution_count": 4,
   "metadata": {},
   "outputs": [
    {
     "name": "stdout",
     "output_type": "stream",
     "text": [
      "----------[LOADING IMAGES]----------\n",
      "....................................................................................................\n",
      "....................................................................................................\n",
      "....................................................................................................\n",
      "....................................................................................................\n",
      "....................................................................................................\n",
      "......................\n",
      "Finished [LOADING IMAGES]\n",
      "----------[RESAMPLING IMAGES]----------\n",
      "\n",
      "Finished [RESAMPLING IMAGES]\n",
      "----------[WRITING RESAMPLED IMAGES]----------\n",
      "....................................................................................................\n",
      "....................................................................................................\n",
      "....................................................................................................\n",
      "....................................................................................................\n",
      "....................................................................................................\n",
      "....................................................................................................\n",
      "....................................................................................................\n",
      "...........................................................................\n",
      "Finished [RESAMPLING DIRECTORY]\n"
     ]
    }
   ],
   "source": [
    "res.resample_directory(SM, path, 'SMOTE', val = False)"
   ]
  },
  {
   "cell_type": "markdown",
   "metadata": {},
   "source": [
    "# Load Data"
   ]
  },
  {
   "cell_type": "code",
   "execution_count": 5,
   "metadata": {},
   "outputs": [],
   "source": [
    "train_folder= './common/data/resampled/SMOTE/train'\n",
    "val_folder = './common/data/chest_xray/val/'\n",
    "test_folder = './common/data/chest_xray/test/'"
   ]
  },
  {
   "cell_type": "markdown",
   "metadata": {},
   "source": [
    "Set up Training Folders"
   ]
  },
  {
   "cell_type": "code",
   "execution_count": 6,
   "metadata": {},
   "outputs": [],
   "source": [
    "# train \n",
    "os.listdir(train_folder)\n",
    "train_n = train_folder+'NORMAL/'\n",
    "train_p = train_folder+'PNEUMONIA/'"
   ]
  },
  {
   "cell_type": "markdown",
   "metadata": {},
   "source": [
    "Set up Testing Folders"
   ]
  },
  {
   "cell_type": "code",
   "execution_count": 7,
   "metadata": {},
   "outputs": [],
   "source": [
    "# test\n",
    "os.listdir(test_folder)\n",
    "train_n = test_folder+'NORMAL/'\n",
    "train_p = test_folder+'PNEUMONIA/'"
   ]
  },
  {
   "cell_type": "markdown",
   "metadata": {},
   "source": [
    "# Generate Dataset from image data"
   ]
  },
  {
   "cell_type": "code",
   "execution_count": 8,
   "metadata": {},
   "outputs": [
    {
     "name": "stdout",
     "output_type": "stream",
     "text": [
      "Found 7750 images belonging to 2 classes.\n",
      "Found 16 images belonging to 2 classes.\n",
      "Found 624 images belonging to 2 classes.\n"
     ]
    }
   ],
   "source": [
    "from common.src import util\n",
    "\n",
    "train_datagen = util.create_train_datagen()\n",
    "test_datagen = util.create_test_datagen()\n",
    "\n",
    "training_set = util.create_generator_set(train_datagen, './common/data/resampled/SMOTE/train')\n",
    "validation_generator = util.create_generator_set(test_datagen, './common/data/chest_xray/val/')\n",
    "test_set = util.create_generator_set(test_datagen, './common/data/chest_xray/test/', batch_size = 1, shuffle = False) "
   ]
  },
  {
   "cell_type": "markdown",
   "metadata": {},
   "source": [
    "# Create Model"
   ]
  },
  {
   "cell_type": "code",
   "execution_count": 9,
   "metadata": {},
   "outputs": [],
   "source": [
    "from common.src import models\n",
    "\n",
    "cnn = models.CNNModel(patience_s=19)\n",
    "cnn.create_model()\n",
    "cnn.summary()"
   ]
  },
  {
   "cell_type": "markdown",
   "metadata": {},
   "source": [
    "# Fit Model"
   ]
  },
  {
   "cell_type": "code",
   "execution_count": 10,
   "metadata": {
    "scrolled": false
   },
   "outputs": [
    {
     "name": "stdout",
     "output_type": "stream",
     "text": [
      "Epoch 1/20\n",
      "163/163 [==============================] - 11s 70ms/step - loss: 0.2879 - tp: 4534.0000 - fp: 677.0000 - tn: 4513.0000 - fn: 656.0000 - accuracy: 0.8716 - precision: 0.8701 - recall: 0.8736 - auc: 0.9491 - val_loss: 0.3985 - val_tp: 228.0000 - val_fp: 38.0000 - val_tn: 266.0000 - val_fn: 76.0000 - val_accuracy: 0.8125 - val_precision: 0.8571 - val_recall: 0.7500 - val_auc: 0.8926\n",
      "Epoch 2/20\n",
      "163/163 [==============================] - 10s 60ms/step - loss: 0.1971 - tp: 4762.0000 - fp: 423.0000 - tn: 4767.0000 - fn: 428.0000 - accuracy: 0.9180 - precision: 0.9184 - recall: 0.9175 - auc: 0.9762 - val_loss: 0.5073 - val_tp: 228.0000 - val_fp: 76.0000 - val_tn: 228.0000 - val_fn: 76.0000 - val_accuracy: 0.7500 - val_precision: 0.7500 - val_recall: 0.7500 - val_auc: 0.8477\n",
      "Epoch 3/20\n",
      "163/163 [==============================] - 10s 64ms/step - loss: 0.1942 - tp: 4787.0000 - fp: 425.0000 - tn: 4791.0000 - fn: 429.0000 - accuracy: 0.9181 - precision: 0.9185 - recall: 0.9178 - auc: 0.9770 - val_loss: 0.4619 - val_tp: 209.0000 - val_fp: 95.0000 - val_tn: 209.0000 - val_fn: 95.0000 - val_accuracy: 0.6875 - val_precision: 0.6875 - val_recall: 0.6875 - val_auc: 0.8691\n",
      "Epoch 4/20\n",
      "163/163 [==============================] - 10s 59ms/step - loss: 0.1712 - tp: 4828.0000 - fp: 365.0000 - tn: 4825.0000 - fn: 362.0000 - accuracy: 0.9300 - precision: 0.9297 - recall: 0.9303 - auc: 0.9822 - val_loss: 0.3891 - val_tp: 247.0000 - val_fp: 57.0000 - val_tn: 247.0000 - val_fn: 57.0000 - val_accuracy: 0.8125 - val_precision: 0.8125 - val_recall: 0.8125 - val_auc: 0.9258\n",
      "Epoch 5/20\n",
      "163/163 [==============================] - 10s 59ms/step - loss: 0.1515 - tp: 4876.0000 - fp: 316.0000 - tn: 4874.0000 - fn: 314.0000 - accuracy: 0.9393 - precision: 0.9391 - recall: 0.9395 - auc: 0.9859 - val_loss: 0.5942 - val_tp: 209.0000 - val_fp: 95.0000 - val_tn: 209.0000 - val_fn: 95.0000 - val_accuracy: 0.6875 - val_precision: 0.6875 - val_recall: 0.6875 - val_auc: 0.8145\n",
      "Epoch 6/20\n",
      "163/163 [==============================] - 10s 60ms/step - loss: 0.1578 - tp: 4876.0000 - fp: 340.0000 - tn: 4876.0000 - fn: 340.0000 - accuracy: 0.9348 - precision: 0.9348 - recall: 0.9348 - auc: 0.9849 - val_loss: 0.3785 - val_tp: 247.0000 - val_fp: 38.0000 - val_tn: 266.0000 - val_fn: 57.0000 - val_accuracy: 0.8438 - val_precision: 0.8667 - val_recall: 0.8125 - val_auc: 0.9023\n",
      "Epoch 7/20\n",
      "163/163 [==============================] - 10s 60ms/step - loss: 0.1271 - tp: 4959.0000 - fp: 255.0000 - tn: 4961.0000 - fn: 257.0000 - accuracy: 0.9509 - precision: 0.9511 - recall: 0.9507 - auc: 0.9897 - val_loss: 0.4758 - val_tp: 209.0000 - val_fp: 95.0000 - val_tn: 209.0000 - val_fn: 95.0000 - val_accuracy: 0.6875 - val_precision: 0.6875 - val_recall: 0.6875 - val_auc: 0.8242\n",
      "Epoch 8/20\n",
      "163/163 [==============================] - 10s 60ms/step - loss: 0.1328 - tp: 4894.0000 - fp: 274.0000 - tn: 4890.0000 - fn: 270.0000 - accuracy: 0.9473 - precision: 0.9470 - recall: 0.9477 - auc: 0.9889 - val_loss: 0.4581 - val_tp: 228.0000 - val_fp: 76.0000 - val_tn: 228.0000 - val_fn: 76.0000 - val_accuracy: 0.7500 - val_precision: 0.7500 - val_recall: 0.7500 - val_auc: 0.8594\n",
      "Epoch 9/20\n",
      "163/163 [==============================] - 10s 59ms/step - loss: 0.1242 - tp: 4961.0000 - fp: 251.0000 - tn: 4965.0000 - fn: 255.0000 - accuracy: 0.9515 - precision: 0.9518 - recall: 0.9511 - auc: 0.9901 - val_loss: 0.3338 - val_tp: 228.0000 - val_fp: 76.0000 - val_tn: 228.0000 - val_fn: 76.0000 - val_accuracy: 0.7500 - val_precision: 0.7500 - val_recall: 0.7500 - val_auc: 0.9141\n",
      "Epoch 10/20\n",
      "163/163 [==============================] - 10s 59ms/step - loss: 0.1214 - tp: 4947.0000 - fp: 242.0000 - tn: 4948.0000 - fn: 243.0000 - accuracy: 0.9533 - precision: 0.9534 - recall: 0.9532 - auc: 0.9903 - val_loss: 0.3767 - val_tp: 247.0000 - val_fp: 57.0000 - val_tn: 247.0000 - val_fn: 57.0000 - val_accuracy: 0.8125 - val_precision: 0.8125 - val_recall: 0.8125 - val_auc: 0.9004\n",
      "Epoch 11/20\n",
      "163/163 [==============================] - 10s 59ms/step - loss: 0.1170 - tp: 4970.0000 - fp: 246.0000 - tn: 4970.0000 - fn: 246.0000 - accuracy: 0.9528 - precision: 0.9528 - recall: 0.9528 - auc: 0.9916 - val_loss: 0.3223 - val_tp: 247.0000 - val_fp: 57.0000 - val_tn: 247.0000 - val_fn: 57.0000 - val_accuracy: 0.8125 - val_precision: 0.8125 - val_recall: 0.8125 - val_auc: 0.9336\n",
      "Epoch 12/20\n",
      "163/163 [==============================] - 10s 59ms/step - loss: 0.1256 - tp: 4941.0000 - fp: 247.0000 - tn: 4943.0000 - fn: 249.0000 - accuracy: 0.9522 - precision: 0.9524 - recall: 0.9520 - auc: 0.9896 - val_loss: 0.5422 - val_tp: 209.0000 - val_fp: 95.0000 - val_tn: 209.0000 - val_fn: 95.0000 - val_accuracy: 0.6875 - val_precision: 0.6875 - val_recall: 0.6875 - val_auc: 0.8535\n",
      "Epoch 13/20\n",
      "163/163 [==============================] - 10s 60ms/step - loss: 0.1128 - tp: 4952.0000 - fp: 237.0000 - tn: 4953.0000 - fn: 238.0000 - accuracy: 0.9542 - precision: 0.9543 - recall: 0.9541 - auc: 0.9918 - val_loss: 0.4591 - val_tp: 209.0000 - val_fp: 95.0000 - val_tn: 209.0000 - val_fn: 95.0000 - val_accuracy: 0.6875 - val_precision: 0.6875 - val_recall: 0.6875 - val_auc: 0.8477\n",
      "Epoch 14/20\n",
      "163/163 [==============================] - 10s 59ms/step - loss: 0.1058 - tp: 4986.0000 - fp: 207.0000 - tn: 4983.0000 - fn: 204.0000 - accuracy: 0.9604 - precision: 0.9601 - recall: 0.9607 - auc: 0.9926 - val_loss: 0.5796 - val_tp: 190.0000 - val_fp: 114.0000 - val_tn: 190.0000 - val_fn: 114.0000 - val_accuracy: 0.6250 - val_precision: 0.6250 - val_recall: 0.6250 - val_auc: 0.8340\n",
      "Epoch 15/20\n",
      "163/163 [==============================] - 10s 60ms/step - loss: 0.1027 - tp: 5015.0000 - fp: 198.0000 - tn: 5018.0000 - fn: 201.0000 - accuracy: 0.9618 - precision: 0.9620 - recall: 0.9615 - auc: 0.9934 - val_loss: 0.5791 - val_tp: 190.0000 - val_fp: 114.0000 - val_tn: 190.0000 - val_fn: 114.0000 - val_accuracy: 0.6250 - val_precision: 0.6250 - val_recall: 0.6250 - val_auc: 0.8359\n",
      "Epoch 16/20\n",
      "163/163 [==============================] - 10s 59ms/step - loss: 0.1101 - tp: 4975.0000 - fp: 210.0000 - tn: 4980.0000 - fn: 215.0000 - accuracy: 0.9591 - precision: 0.9595 - recall: 0.9586 - auc: 0.9926 - val_loss: 0.4384 - val_tp: 247.0000 - val_fp: 57.0000 - val_tn: 247.0000 - val_fn: 57.0000 - val_accuracy: 0.8125 - val_precision: 0.8125 - val_recall: 0.8125 - val_auc: 0.8945\n",
      "Epoch 17/20\n",
      "163/163 [==============================] - 10s 59ms/step - loss: 0.1009 - tp: 5029.0000 - fp: 192.0000 - tn: 5024.0000 - fn: 187.0000 - accuracy: 0.9637 - precision: 0.9632 - recall: 0.9641 - auc: 0.9932 - val_loss: 0.3790 - val_tp: 247.0000 - val_fp: 57.0000 - val_tn: 247.0000 - val_fn: 57.0000 - val_accuracy: 0.8125 - val_precision: 0.8125 - val_recall: 0.8125 - val_auc: 0.9062\n",
      "Epoch 18/20\n",
      "163/163 [==============================] - 10s 59ms/step - loss: 0.1027 - tp: 4982.0000 - fp: 201.0000 - tn: 4989.0000 - fn: 208.0000 - accuracy: 0.9606 - precision: 0.9612 - recall: 0.9599 - auc: 0.9935 - val_loss: 0.4671 - val_tp: 209.0000 - val_fp: 95.0000 - val_tn: 209.0000 - val_fn: 95.0000 - val_accuracy: 0.6875 - val_precision: 0.6875 - val_recall: 0.6875 - val_auc: 0.8516\n",
      "Epoch 19/20\n",
      "163/163 [==============================] - 10s 59ms/step - loss: 0.0963 - tp: 5010.0000 - fp: 180.0000 - tn: 5010.0000 - fn: 180.0000 - accuracy: 0.9653 - precision: 0.9653 - recall: 0.9653 - auc: 0.9936 - val_loss: 0.5595 - val_tp: 190.0000 - val_fp: 95.0000 - val_tn: 209.0000 - val_fn: 114.0000 - val_accuracy: 0.6562 - val_precision: 0.6667 - val_recall: 0.6250 - val_auc: 0.8340\n",
      "Epoch 20/20\n",
      "163/163 [==============================] - 10s 59ms/step - loss: 0.0959 - tp: 5034.0000 - fp: 183.0000 - tn: 5033.0000 - fn: 182.0000 - accuracy: 0.9650 - precision: 0.9649 - recall: 0.9651 - auc: 0.9940 - val_loss: 0.3376 - val_tp: 228.0000 - val_fp: 76.0000 - val_tn: 228.0000 - val_fn: 76.0000 - val_accuracy: 0.7500 - val_precision: 0.7500 - val_recall: 0.7500 - val_auc: 0.9121\n"
     ]
    }
   ],
   "source": [
    "cnn_model = cnn.fit_generator(training_set, validation_generator, epochs=20)"
   ]
  },
  {
   "cell_type": "code",
   "execution_count": 11,
   "metadata": {},
   "outputs": [
    {
     "data": {
      "image/png": "[encoded data removed]",
      "text/plain": [
       "<Figure size 432x288 with 4 Axes>"
      ]
     },
     "metadata": {
      "needs_background": "light"
     },
     "output_type": "display_data"
    }
   ],
   "source": [
    "cnn.plot_history()"
   ]
  },
  {
   "cell_type": "code",
   "execution_count": 12,
   "metadata": {},
   "outputs": [
    {
     "name": "stdout",
     "output_type": "stream",
     "text": [
      "              precision    recall  f1-score   support\n",
      "\n",
      "      NORMAL       0.81      0.82      0.81       234\n",
      "   PNEUMONIA       0.89      0.88      0.89       390\n",
      "\n",
      "    accuracy                           0.86       624\n",
      "   macro avg       0.85      0.85      0.85       624\n",
      "weighted avg       0.86      0.86      0.86       624\n",
      "\n"
     ]
    }
   ],
   "source": [
    "cnn.get_classification_report(test_set)"
   ]
  },
  {
   "cell_type": "code",
   "execution_count": 13,
   "metadata": {},
   "outputs": [
    {
     "data": {
      "image/png": "[encoded data removed]",
      "text/plain": [
       "<Figure size 648x648 with 2 Axes>"
      ]
     },
     "metadata": {
      "needs_background": "light"
     },
     "output_type": "display_data"
    }
   ],
   "source": [
    "cnn.display_confusion_matrix(test_set)"
   ]
  }
 ],
 "metadata": {
  "kernelspec": {
   "display_name": "Python 3",
   "language": "python",
   "name": "python3"
  },
  "language_info": {
   "codemirror_mode": {
    "name": "ipython",
    "version": 3
   },
   "file_extension": ".py",
   "mimetype": "text/x-python",
   "name": "python",
   "nbconvert_exporter": "python",
   "pygments_lexer": "ipython3",
   "version": "3.6.12"
  },
  "latex_envs": {
   "LaTeX_envs_menu_present": true,
   "autoclose": false,
   "autocomplete": true,
   "bibliofile": "biblio.bib",
   "cite_by": "apalike",
   "current_citInitial": 1,
   "eqLabelWithNumbers": true,
   "eqNumInitial": 1,
   "hotkeys": {
    "equation": "Ctrl-E",
    "itemize": "Ctrl-I"
   },
   "labels_anchors": false,
   "latex_user_defs": false,
   "report_style_numbering": false,
   "user_envs_cfg": false
  }
 },
 "nbformat": 4,
 "nbformat_minor": 4
}
