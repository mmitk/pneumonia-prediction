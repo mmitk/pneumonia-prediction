{
 "cells": [
  {
   "cell_type": "code",
   "execution_count": 1,
   "metadata": {},
   "outputs": [
    {
     "name": "stdout",
     "output_type": "stream",
     "text": [
      "['chest_xray', 'resampled', 'TEST']\n"
     ]
    },
    {
     "name": "stderr",
     "output_type": "stream",
     "text": [
      "Using TensorFlow backend.\n"
     ]
    }
   ],
   "source": [
    "import numpy as np \n",
    "import matplotlib.pyplot as plt \n",
    "import os\n",
    "from PIL import Image\n",
    "print(os.listdir(\"./common/data\"))\n",
    "\n",
    "import tensorflow as tf\n",
    "config = tf.compat.v1.ConfigProto()\n",
    "config.gpu_options.allow_growth = True\n",
    "tf.compat.v1.keras.backend.set_session(tf.compat.v1.Session(config=config))\n",
    "\n",
    "# Keras Libraries\n",
    "import keras\n",
    "from keras.models import Sequential\n",
    "from keras.layers import Conv2D\n",
    "from keras.layers import MaxPooling2D\n",
    "from keras.layers import Flatten\n",
    "from keras.layers import Dense\n",
    "from keras.preprocessing.image import ImageDataGenerator, load_img\n",
    "from sklearn.metrics import classification_report, confusion_matrix\n",
    "%matplotlib inline"
   ]
  },
  {
   "cell_type": "markdown",
   "metadata": {},
   "source": [
    "# Resample Data Into New Dataset"
   ]
  },
  {
   "cell_type": "markdown",
   "metadata": {},
   "source": [
    "# Resample Train Data"
   ]
  },
  {
   "cell_type": "code",
   "execution_count": 2,
   "metadata": {},
   "outputs": [],
   "source": [
    "from common.src import resample as res"
   ]
  },
  {
   "cell_type": "code",
   "execution_count": 3,
   "metadata": {},
   "outputs": [],
   "source": [
    "from imblearn.over_sampling import SMOTE\n",
    "\n",
    "path = r'C:\\Users\\mmitk\\dev\\2020\\pneumonia\\common\\data\\chest_xray\\train'\n",
    "SM = SMOTE(random_state=0)"
   ]
  },
  {
   "cell_type": "code",
   "execution_count": 4,
   "metadata": {},
   "outputs": [],
   "source": [
    "res.resample_directory(SM, path, 'SMOTE', val = False)"
   ]
  },
  {
   "cell_type": "markdown",
   "metadata": {},
   "source": [
    "# Load Data"
   ]
  },
  {
   "cell_type": "code",
   "execution_count": 5,
   "metadata": {},
   "outputs": [],
   "source": [
    "train_folder= './common/data/resampled/SMOTE/train'\n",
    "val_folder = './common/data/chest_xray/val/'\n",
    "test_folder = './common/data/chest_xray/test/'"
   ]
  },
  {
   "cell_type": "markdown",
   "metadata": {},
   "source": [
    "Set up Training Folders"
   ]
  },
  {
   "cell_type": "code",
   "execution_count": 6,
   "metadata": {},
   "outputs": [],
   "source": [
    "# train \n",
    "os.listdir(train_folder)\n",
    "train_n = train_folder+'NORMAL/'\n",
    "train_p = train_folder+'PNEUMONIA/'"
   ]
  },
  {
   "cell_type": "markdown",
   "metadata": {},
   "source": [
    "Set up Testing Folders"
   ]
  },
  {
   "cell_type": "code",
   "execution_count": 7,
   "metadata": {},
   "outputs": [],
   "source": [
    "# test\n",
    "os.listdir(test_folder)\n",
    "train_n = test_folder+'NORMAL/'\n",
    "train_p = test_folder+'PNEUMONIA/'"
   ]
  },
  {
   "cell_type": "markdown",
   "metadata": {},
   "source": [
    "# Generate Dataset from image data"
   ]
  },
  {
   "cell_type": "code",
   "execution_count": 8,
   "metadata": {},
   "outputs": [
    {
     "name": "stdout",
     "output_type": "stream",
     "text": [
      "Found 7750 images belonging to 2 classes.\n",
      "Found 16 images belonging to 2 classes.\n",
      "Found 624 images belonging to 2 classes.\n"
     ]
    }
   ],
   "source": [
    "from common.src import util\n",
    "\n",
    "train_datagen = util.create_train_datagen()\n",
    "test_datagen = util.create_test_datagen()\n",
    "\n",
    "training_set = util.create_generator_set(train_datagen, './common/data/resampled/SMOTE/train')\n",
    "validation_generator = util.create_generator_set(test_datagen, './common/data/chest_xray/val/')\n",
    "test_set = util.create_generator_set(test_datagen, './common/data/chest_xray/test/') "
   ]
  },
  {
   "cell_type": "markdown",
   "metadata": {},
   "source": [
    "# Create Model"
   ]
  },
  {
   "cell_type": "code",
   "execution_count": 9,
   "metadata": {},
   "outputs": [],
   "source": [
    "from common.src import models\n",
    "\n",
    "cnn = models.CNNModel()\n",
    "cnn.create_model()\n",
    "cnn.summary()"
   ]
  },
  {
   "cell_type": "markdown",
   "metadata": {},
   "source": [
    "# Fit Model"
   ]
  },
  {
   "cell_type": "code",
   "execution_count": 11,
   "metadata": {
    "scrolled": false
   },
   "outputs": [
    {
     "name": "stdout",
     "output_type": "stream",
     "text": [
      "Epoch 1/20\n",
      "163/163 [==============================] - 134s 821ms/step - loss: 0.1553 - tp: 4895.0000 - fp: 311.0000 - tn: 4905.0000 - fn: 321.0000 - accuracy: 0.9394 - precision: 0.9403 - recall: 0.9385 - auc: 0.9850 - val_loss: 0.4693 - val_tp: 7488.0000 - val_fp: 2496.0000 - val_tn: 7488.0000 - val_fn: 2496.0000 - val_accuracy: 0.7500 - val_precision: 0.7500 - val_recall: 0.7500 - val_auc: 0.8809\n",
      "Epoch 2/20\n",
      "163/163 [==============================] - 134s 824ms/step - loss: 0.1495 - tp: 4884.0000 - fp: 299.0000 - tn: 4891.0000 - fn: 306.0000 - accuracy: 0.9417 - precision: 0.9423 - recall: 0.9410 - auc: 0.9862 - val_loss: 0.2719 - val_tp: 9360.0000 - val_fp: 624.0000 - val_tn: 9360.0000 - val_fn: 624.0000 - val_accuracy: 0.9375 - val_precision: 0.9375 - val_recall: 0.9375 - val_auc: 0.9648\n",
      "Epoch 3/20\n",
      "163/163 [==============================] - 164s 1s/step - loss: 0.1383 - tp: 4896.0000 - fp: 272.0000 - tn: 4918.0000 - fn: 294.0000 - accuracy: 0.9455 - precision: 0.9474 - recall: 0.9434 - auc: 0.9879 - val_loss: 0.3397 - val_tp: 7488.0000 - val_fp: 2496.0000 - val_tn: 7488.0000 - val_fn: 2496.0000 - val_accuracy: 0.7500 - val_precision: 0.7500 - val_recall: 0.7500 - val_auc: 0.9102\n",
      "Epoch 4/20\n",
      "163/163 [==============================] - 134s 822ms/step - loss: 0.1252 - tp: 4933.0000 - fp: 243.0000 - tn: 4947.0000 - fn: 257.0000 - accuracy: 0.9518 - precision: 0.9531 - recall: 0.9505 - auc: 0.9901 - val_loss: 0.2682 - val_tp: 8736.0000 - val_fp: 1248.0000 - val_tn: 8736.0000 - val_fn: 1248.0000 - val_accuracy: 0.8750 - val_precision: 0.8750 - val_recall: 0.8750 - val_auc: 0.9531\n",
      "Epoch 5/20\n",
      "163/163 [==============================] - 134s 824ms/step - loss: 0.1503 - tp: 4903.0000 - fp: 304.0000 - tn: 4912.0000 - fn: 313.0000 - accuracy: 0.9409 - precision: 0.9416 - recall: 0.9400 - auc: 0.9858 - val_loss: 0.8675 - val_tp: 6240.0000 - val_fp: 3744.0000 - val_tn: 6240.0000 - val_fn: 3744.0000 - val_accuracy: 0.6250 - val_precision: 0.6250 - val_recall: 0.6250 - val_auc: 0.8203\n",
      "Epoch 6/20\n",
      "163/163 [==============================] - 134s 825ms/step - loss: 0.1379 - tp: 4903.0000 - fp: 275.0000 - tn: 4915.0000 - fn: 287.0000 - accuracy: 0.9459 - precision: 0.9469 - recall: 0.9447 - auc: 0.9885 - val_loss: 0.5875 - val_tp: 6864.0000 - val_fp: 3120.0000 - val_tn: 6864.0000 - val_fn: 3120.0000 - val_accuracy: 0.6875 - val_precision: 0.6875 - val_recall: 0.6875 - val_auc: 0.8457\n",
      "Epoch 7/20\n",
      "163/163 [==============================] - 135s 831ms/step - loss: 0.1297 - tp: 4955.0000 - fp: 244.0000 - tn: 4972.0000 - fn: 261.0000 - accuracy: 0.9516 - precision: 0.9531 - recall: 0.9500 - auc: 0.9893 - val_loss: 0.2826 - val_tp: 8736.0000 - val_fp: 1872.0000 - val_tn: 8112.0000 - val_fn: 1248.0000 - val_accuracy: 0.8438 - val_precision: 0.8235 - val_recall: 0.8750 - val_auc: 0.9609\n",
      "Epoch 8/20\n",
      "163/163 [==============================] - 134s 824ms/step - loss: 0.1359 - tp: 4886.0000 - fp: 271.0000 - tn: 4893.0000 - fn: 278.0000 - accuracy: 0.9468 - precision: 0.9475 - recall: 0.9462 - auc: 0.9883 - val_loss: 0.3076 - val_tp: 8112.0000 - val_fp: 1872.0000 - val_tn: 8112.0000 - val_fn: 1872.0000 - val_accuracy: 0.8125 - val_precision: 0.8125 - val_recall: 0.8125 - val_auc: 0.9453\n",
      "Epoch 9/20\n",
      "163/163 [==============================] - 134s 822ms/step - loss: 0.1068 - tp: 4988.0000 - fp: 215.0000 - tn: 5001.0000 - fn: 228.0000 - accuracy: 0.9575 - precision: 0.9587 - recall: 0.9563 - auc: 0.9928 - val_loss: 0.3116 - val_tp: 8112.0000 - val_fp: 1872.0000 - val_tn: 8112.0000 - val_fn: 1872.0000 - val_accuracy: 0.8125 - val_precision: 0.8125 - val_recall: 0.8125 - val_auc: 0.9316\n",
      "Epoch 10/20\n",
      "163/163 [==============================] - 134s 823ms/step - loss: 0.1217 - tp: 4967.0000 - fp: 238.0000 - tn: 4978.0000 - fn: 249.0000 - accuracy: 0.9533 - precision: 0.9543 - recall: 0.9523 - auc: 0.9906 - val_loss: 0.2261 - val_tp: 9360.0000 - val_fp: 624.0000 - val_tn: 9360.0000 - val_fn: 624.0000 - val_accuracy: 0.9375 - val_precision: 0.9375 - val_recall: 0.9375 - val_auc: 0.9902\n",
      "Epoch 11/20\n",
      "163/163 [==============================] - 134s 821ms/step - loss: 0.1022 - tp: 4970.0000 - fp: 193.0000 - tn: 4971.0000 - fn: 194.0000 - accuracy: 0.9625 - precision: 0.9626 - recall: 0.9624 - auc: 0.9933 - val_loss: 0.2019 - val_tp: 8736.0000 - val_fp: 1248.0000 - val_tn: 8736.0000 - val_fn: 1248.0000 - val_accuracy: 0.8750 - val_precision: 0.8750 - val_recall: 0.8750 - val_auc: 0.9844\n",
      "Epoch 12/20\n",
      "163/163 [==============================] - 134s 822ms/step - loss: 0.1006 - tp: 5021.0000 - fp: 188.0000 - tn: 5028.0000 - fn: 195.0000 - accuracy: 0.9633 - precision: 0.9639 - recall: 0.9626 - auc: 0.9935 - val_loss: 0.2860 - val_tp: 8736.0000 - val_fp: 1248.0000 - val_tn: 8736.0000 - val_fn: 1248.0000 - val_accuracy: 0.8750 - val_precision: 0.8750 - val_recall: 0.8750 - val_auc: 0.9531\n",
      "Epoch 13/20\n",
      "163/163 [==============================] - 134s 823ms/step - loss: 0.1171 - tp: 4960.0000 - fp: 249.0000 - tn: 4967.0000 - fn: 256.0000 - accuracy: 0.9516 - precision: 0.9522 - recall: 0.9509 - auc: 0.9915 - val_loss: 0.2209 - val_tp: 9360.0000 - val_fp: 624.0000 - val_tn: 9360.0000 - val_fn: 624.0000 - val_accuracy: 0.9375 - val_precision: 0.9375 - val_recall: 0.9375 - val_auc: 0.9648\n",
      "Epoch 14/20\n",
      "163/163 [==============================] - 134s 822ms/step - loss: 0.1057 - tp: 4964.0000 - fp: 202.0000 - tn: 4962.0000 - fn: 200.0000 - accuracy: 0.9611 - precision: 0.9609 - recall: 0.9613 - auc: 0.9933 - val_loss: 0.1836 - val_tp: 9984.0000 - val_fp: 0.0000e+00 - val_tn: 9984.0000 - val_fn: 0.0000e+00 - val_accuracy: 1.0000 - val_precision: 1.0000 - val_recall: 1.0000 - val_auc: 1.0000\n",
      "Epoch 15/20\n",
      "163/163 [==============================] - 136s 834ms/step - loss: 0.1031 - tp: 5018.0000 - fp: 194.0000 - tn: 5022.0000 - fn: 198.0000 - accuracy: 0.9624 - precision: 0.9628 - recall: 0.9620 - auc: 0.9930 - val_loss: 0.3268 - val_tp: 8112.0000 - val_fp: 1872.0000 - val_tn: 8112.0000 - val_fn: 1872.0000 - val_accuracy: 0.8125 - val_precision: 0.8125 - val_recall: 0.8125 - val_auc: 0.9355\n",
      "Epoch 16/20\n",
      "163/163 [==============================] - 133s 819ms/step - loss: 0.1069 - tp: 4979.0000 - fp: 209.0000 - tn: 4981.0000 - fn: 211.0000 - accuracy: 0.9595 - precision: 0.9597 - recall: 0.9593 - auc: 0.9927 - val_loss: 0.2254 - val_tp: 9360.0000 - val_fp: 624.0000 - val_tn: 9360.0000 - val_fn: 624.0000 - val_accuracy: 0.9375 - val_precision: 0.9375 - val_recall: 0.9375 - val_auc: 0.9727\n",
      "Epoch 17/20\n",
      "163/163 [==============================] - 134s 822ms/step - loss: 0.0918 - tp: 5035.0000 - fp: 178.0000 - tn: 5038.0000 - fn: 181.0000 - accuracy: 0.9656 - precision: 0.9659 - recall: 0.9653 - auc: 0.9944 - val_loss: 0.4057 - val_tp: 6864.0000 - val_fp: 3120.0000 - val_tn: 6864.0000 - val_fn: 3120.0000 - val_accuracy: 0.6875 - val_precision: 0.6875 - val_recall: 0.6875 - val_auc: 0.8945\n",
      "Epoch 18/20\n",
      "163/163 [==============================] - 134s 823ms/step - loss: 0.0950 - tp: 5010.0000 - fp: 182.0000 - tn: 5008.0000 - fn: 180.0000 - accuracy: 0.9651 - precision: 0.9649 - recall: 0.9653 - auc: 0.9939 - val_loss: 0.3062 - val_tp: 8112.0000 - val_fp: 1248.0000 - val_tn: 8736.0000 - val_fn: 1872.0000 - val_accuracy: 0.8438 - val_precision: 0.8667 - val_recall: 0.8125 - val_auc: 0.9492\n",
      "Epoch 19/20\n",
      "163/163 [==============================] - 134s 822ms/step - loss: 0.0968 - tp: 4999.0000 - fp: 184.0000 - tn: 5006.0000 - fn: 191.0000 - accuracy: 0.9639 - precision: 0.9645 - recall: 0.9632 - auc: 0.9936 - val_loss: 0.1889 - val_tp: 9360.0000 - val_fp: 624.0000 - val_tn: 9360.0000 - val_fn: 624.0000 - val_accuracy: 0.9375 - val_precision: 0.9375 - val_recall: 0.9375 - val_auc: 0.9844\n",
      "Epoch 20/20\n",
      "163/163 [==============================] - 134s 822ms/step - loss: 0.0911 - tp: 5032.0000 - fp: 189.0000 - tn: 5027.0000 - fn: 184.0000 - accuracy: 0.9642 - precision: 0.9638 - recall: 0.9647 - auc: 0.9944 - val_loss: 0.2567 - val_tp: 8736.0000 - val_fp: 1248.0000 - val_tn: 8736.0000 - val_fn: 1248.0000 - val_accuracy: 0.8750 - val_precision: 0.8750 - val_recall: 0.8750 - val_auc: 0.9609\n"
     ]
    }
   ],
   "source": [
    "cnn_model = cnn.fit_generator(training_set, validation_generator, epochs=20)"
   ]
  },
  {
   "cell_type": "code",
   "execution_count": 12,
   "metadata": {},
   "outputs": [
    {
     "data": {
      "image/png": "[encoded data removed]",
      "text/plain": [
       "<Figure size 432x288 with 4 Axes>"
      ]
     },
     "metadata": {
      "needs_background": "light"
     },
     "output_type": "display_data"
    }
   ],
   "source": [
    "cnn.plot_history()"
   ]
  },
  {
   "cell_type": "code",
   "execution_count": 13,
   "metadata": {},
   "outputs": [
    {
     "name": "stdout",
     "output_type": "stream",
     "text": [
      "              precision    recall  f1-score   support\n",
      "\n",
      "      NORMAL       0.39      0.36      0.38       234\n",
      "   PNEUMONIA       0.64      0.67      0.65       390\n",
      "\n",
      "    accuracy                           0.55       624\n",
      "   macro avg       0.51      0.51      0.51       624\n",
      "weighted avg       0.54      0.55      0.55       624\n",
      "\n"
     ]
    }
   ],
   "source": [
    "cnn.get_classification_report(test_set)"
   ]
  },
  {
   "cell_type": "code",
   "execution_count": 14,
   "metadata": {},
   "outputs": [
    {
     "data": {
      "image/png": "[encoded data removed]",
      "text/plain": [
       "<Figure size 648x648 with 2 Axes>"
      ]
     },
     "metadata": {
      "needs_background": "light"
     },
     "output_type": "display_data"
    }
   ],
   "source": [
    "cnn.display_confusion_matrix(test_set)"
   ]
  },
  {
   "cell_type": "code",
   "execution_count": 15,
   "metadata": {},
   "outputs": [],
   "source": [
    "res.remove_resampled_directory(train_folder)"
   ]
  },
  {
   "cell_type": "code",
   "execution_count": null,
   "metadata": {},
   "outputs": [],
   "source": []
  }
 ],
 "metadata": {
  "kernelspec": {
   "display_name": "Python 3",
   "language": "python",
   "name": "python3"
  },
  "language_info": {
   "codemirror_mode": {
    "name": "ipython",
    "version": 3
   },
   "file_extension": ".py",
   "mimetype": "text/x-python",
   "name": "python",
   "nbconvert_exporter": "python",
   "pygments_lexer": "ipython3",
   "version": "3.7.7"
  },
  "latex_envs": {
   "LaTeX_envs_menu_present": true,
   "autoclose": false,
   "autocomplete": true,
   "bibliofile": "biblio.bib",
   "cite_by": "apalike",
   "current_citInitial": 1,
   "eqLabelWithNumbers": true,
   "eqNumInitial": 1,
   "hotkeys": {
    "equation": "Ctrl-E",
    "itemize": "Ctrl-I"
   },
   "labels_anchors": false,
   "latex_user_defs": false,
   "report_style_numbering": false,
   "user_envs_cfg": false
  }
 },
 "nbformat": 4,
 "nbformat_minor": 4
}
