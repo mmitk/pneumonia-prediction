{
 "cells": [
  {
   "cell_type": "code",
   "execution_count": 1,
   "metadata": {},
   "outputs": [
    {
     "name": "stdout",
     "output_type": "stream",
     "text": [
      "['chest_xray', 'resampled', 'TEST']\n"
     ]
    },
    {
     "name": "stderr",
     "output_type": "stream",
     "text": [
      "Using TensorFlow backend.\n"
     ]
    }
   ],
   "source": [
    "import numpy as np \n",
    "import matplotlib.pyplot as plt \n",
    "import os\n",
    "from PIL import Image\n",
    "print(os.listdir(\"./common/data\"))\n",
    "\n",
    "os.environ[\"CUDA_VISIBLE_DEVICES\"]=\"1\"\n",
    "\n",
    "import tensorflow as tf\n",
    "config = tf.compat.v1.ConfigProto()\n",
    "config.gpu_options.allow_growth = True\n",
    "tf.compat.v1.keras.backend.set_session(tf.compat.v1.Session(config=config))\n",
    "\n",
    "# Keras Libraries\n",
    "import keras\n",
    "from keras.models import Sequential\n",
    "from keras.layers import Conv2D\n",
    "from keras.layers import MaxPooling2D\n",
    "from keras.layers import Flatten\n",
    "from keras.layers import Dense\n",
    "from keras.preprocessing.image import ImageDataGenerator, load_img\n",
    "from sklearn.metrics import classification_report, confusion_matrix\n",
    "%matplotlib inline"
   ]
  },
  {
   "cell_type": "markdown",
   "metadata": {},
   "source": [
    "# Resample Data Into New Dataset"
   ]
  },
  {
   "cell_type": "markdown",
   "metadata": {},
   "source": [
    "# Resample Train Data"
   ]
  },
  {
   "cell_type": "code",
   "execution_count": 2,
   "metadata": {},
   "outputs": [],
   "source": [
    "from common.src import resample as res"
   ]
  },
  {
   "cell_type": "code",
   "execution_count": 3,
   "metadata": {},
   "outputs": [],
   "source": [
    "from imblearn.over_sampling import RandomOverSampler\n",
    "\n",
    "path = r'C:\\Users\\mmitk\\dev\\2020\\pneumonia\\common\\data\\chest_xray\\train'\n",
    "ros = RandomOverSampler(random_state=0)"
   ]
  },
  {
   "cell_type": "code",
   "execution_count": 4,
   "metadata": {
    "scrolled": true
   },
   "outputs": [],
   "source": [
    "res.resample_directory(ros, path, 'ROS', val = False)"
   ]
  },
  {
   "cell_type": "markdown",
   "metadata": {},
   "source": [
    "# Load Data"
   ]
  },
  {
   "cell_type": "code",
   "execution_count": 5,
   "metadata": {},
   "outputs": [],
   "source": [
    "train_folder= './common/data/resampled/ROS/train'\n",
    "val_folder = './common/data/chest_xray/val/'\n",
    "test_folder = './common/data/chest_xray/test/'"
   ]
  },
  {
   "cell_type": "markdown",
   "metadata": {},
   "source": [
    "Set up Training Folders"
   ]
  },
  {
   "cell_type": "code",
   "execution_count": 6,
   "metadata": {},
   "outputs": [],
   "source": [
    "# train \n",
    "os.listdir(train_folder)\n",
    "train_n = train_folder+'NORMAL/'\n",
    "train_p = train_folder+'PNEUMONIA/'"
   ]
  },
  {
   "cell_type": "markdown",
   "metadata": {},
   "source": [
    "Set up Testing Folders"
   ]
  },
  {
   "cell_type": "code",
   "execution_count": 7,
   "metadata": {},
   "outputs": [],
   "source": [
    "# test\n",
    "os.listdir(test_folder)\n",
    "train_n = test_folder+'NORMAL/'\n",
    "train_p = test_folder+'PNEUMONIA/'"
   ]
  },
  {
   "cell_type": "markdown",
   "metadata": {},
   "source": [
    "# Generate Dataset from image data"
   ]
  },
  {
   "cell_type": "code",
   "execution_count": 8,
   "metadata": {},
   "outputs": [
    {
     "name": "stdout",
     "output_type": "stream",
     "text": [
      "Found 7750 images belonging to 2 classes.\n",
      "Found 16 images belonging to 2 classes.\n",
      "Found 624 images belonging to 2 classes.\n"
     ]
    }
   ],
   "source": [
    "from common.src import util\n",
    "\n",
    "train_datagen = util.create_train_datagen()\n",
    "test_datagen = util.create_test_datagen()\n",
    "\n",
    "training_set = util.create_generator_set(train_datagen, './common/data/resampled/ROS/train')\n",
    "validation_generator = util.create_generator_set(test_datagen, './common/data/chest_xray/val/')\n",
    "test_set = util.create_generator_set(test_datagen, './common/data/chest_xray/test/', batch_size = 1, shuffle = False) "
   ]
  },
  {
   "cell_type": "markdown",
   "metadata": {},
   "source": [
    "# Create Model"
   ]
  },
  {
   "cell_type": "code",
   "execution_count": 9,
   "metadata": {},
   "outputs": [],
   "source": [
    "from common.src import models\n",
    "\n",
    "cnn = models.CNNModel(patience_s=19)\n",
    "cnn.create_model()\n",
    "cnn.summary()"
   ]
  },
  {
   "cell_type": "markdown",
   "metadata": {},
   "source": [
    "# Fit Model"
   ]
  },
  {
   "cell_type": "code",
   "execution_count": 10,
   "metadata": {
    "scrolled": false
   },
   "outputs": [
    {
     "name": "stdout",
     "output_type": "stream",
     "text": [
      "Epoch 1/20\n",
      "163/163 [==============================] - 17s 106ms/step - loss: 0.3983 - tp: 4143.0000 - fp: 942.0000 - tn: 4248.0000 - fn: 1047.0000 - accuracy: 0.8084 - precision: 0.8147 - recall: 0.7983 - auc: 0.9005 - val_loss: 0.2461 - val_tp: 285.0000 - val_fp: 19.0000 - val_tn: 285.0000 - val_fn: 19.0000 - val_accuracy: 0.9375 - val_precision: 0.9375 - val_recall: 0.9375 - val_auc: 0.9805\n",
      "Epoch 2/20\n",
      "163/163 [==============================] - 16s 98ms/step - loss: 0.2402 - tp: 4715.0000 - fp: 508.0000 - tn: 4708.0000 - fn: 501.0000 - accuracy: 0.9033 - precision: 0.9027 - recall: 0.9039 - auc: 0.9648 - val_loss: 0.4249 - val_tp: 228.0000 - val_fp: 76.0000 - val_tn: 228.0000 - val_fn: 76.0000 - val_accuracy: 0.7500 - val_precision: 0.7500 - val_recall: 0.7500 - val_auc: 0.8828\n",
      "Epoch 3/20\n",
      "163/163 [==============================] - 15s 94ms/step - loss: 0.2229 - tp: 4724.0000 - fp: 463.0000 - tn: 4727.0000 - fn: 466.0000 - accuracy: 0.9105 - precision: 0.9107 - recall: 0.9102 - auc: 0.9697 - val_loss: 0.2300 - val_tp: 304.0000 - val_fp: 19.0000 - val_tn: 285.0000 - val_fn: 0.0000e+00 - val_accuracy: 0.9688 - val_precision: 0.9412 - val_recall: 1.0000 - val_auc: 0.9980\n",
      "Epoch 4/20\n",
      "163/163 [==============================] - 15s 94ms/step - loss: 0.1940 - tp: 4822.0000 - fp: 364.0000 - tn: 4826.0000 - fn: 368.0000 - accuracy: 0.9295 - precision: 0.9298 - recall: 0.9291 - auc: 0.9764 - val_loss: 0.4331 - val_tp: 228.0000 - val_fp: 76.0000 - val_tn: 228.0000 - val_fn: 76.0000 - val_accuracy: 0.7500 - val_precision: 0.7500 - val_recall: 0.7500 - val_auc: 0.8965\n",
      "Epoch 5/20\n",
      "163/163 [==============================] - 15s 94ms/step - loss: 0.2030 - tp: 4808.0000 - fp: 400.0000 - tn: 4816.0000 - fn: 408.0000 - accuracy: 0.9225 - precision: 0.9232 - recall: 0.9218 - auc: 0.9745 - val_loss: 0.2676 - val_tp: 266.0000 - val_fp: 57.0000 - val_tn: 247.0000 - val_fn: 38.0000 - val_accuracy: 0.8438 - val_precision: 0.8235 - val_recall: 0.8750 - val_auc: 0.9551\n",
      "Epoch 6/20\n",
      "163/163 [==============================] - 15s 95ms/step - loss: 0.1899 - tp: 4784.0000 - fp: 408.0000 - tn: 4782.0000 - fn: 406.0000 - accuracy: 0.9216 - precision: 0.9214 - recall: 0.9218 - auc: 0.9777 - val_loss: 0.2656 - val_tp: 285.0000 - val_fp: 38.0000 - val_tn: 266.0000 - val_fn: 19.0000 - val_accuracy: 0.9062 - val_precision: 0.8824 - val_recall: 0.9375 - val_auc: 0.9844\n",
      "Epoch 7/20\n",
      "163/163 [==============================] - 15s 94ms/step - loss: 0.1592 - tp: 4884.0000 - fp: 313.0000 - tn: 4877.0000 - fn: 306.0000 - accuracy: 0.9404 - precision: 0.9398 - recall: 0.9410 - auc: 0.9841 - val_loss: 0.2747 - val_tp: 266.0000 - val_fp: 38.0000 - val_tn: 266.0000 - val_fn: 38.0000 - val_accuracy: 0.8750 - val_precision: 0.8750 - val_recall: 0.8750 - val_auc: 0.9531\n",
      "Epoch 8/20\n",
      "163/163 [==============================] - 15s 94ms/step - loss: 0.1611 - tp: 4865.0000 - fp: 311.0000 - tn: 4879.0000 - fn: 325.0000 - accuracy: 0.9387 - precision: 0.9399 - recall: 0.9374 - auc: 0.9837 - val_loss: 0.2268 - val_tp: 266.0000 - val_fp: 38.0000 - val_tn: 266.0000 - val_fn: 38.0000 - val_accuracy: 0.8750 - val_precision: 0.8750 - val_recall: 0.8750 - val_auc: 0.9766\n",
      "Epoch 9/20\n",
      "163/163 [==============================] - 15s 94ms/step - loss: 0.1553 - tp: 4923.0000 - fp: 284.0000 - tn: 4932.0000 - fn: 293.0000 - accuracy: 0.9447 - precision: 0.9455 - recall: 0.9438 - auc: 0.9848 - val_loss: 0.2386 - val_tp: 266.0000 - val_fp: 38.0000 - val_tn: 266.0000 - val_fn: 38.0000 - val_accuracy: 0.8750 - val_precision: 0.8750 - val_recall: 0.8750 - val_auc: 0.9688\n",
      "Epoch 10/20\n",
      "163/163 [==============================] - 15s 94ms/step - loss: 0.1523 - tp: 4883.0000 - fp: 309.0000 - tn: 4881.0000 - fn: 307.0000 - accuracy: 0.9407 - precision: 0.9405 - recall: 0.9408 - auc: 0.9851 - val_loss: 0.2701 - val_tp: 266.0000 - val_fp: 38.0000 - val_tn: 266.0000 - val_fn: 38.0000 - val_accuracy: 0.8750 - val_precision: 0.8750 - val_recall: 0.8750 - val_auc: 0.9570\n",
      "Epoch 11/20\n",
      "163/163 [==============================] - 15s 94ms/step - loss: 0.1491 - tp: 4907.0000 - fp: 282.0000 - tn: 4908.0000 - fn: 283.0000 - accuracy: 0.9456 - precision: 0.9457 - recall: 0.9455 - auc: 0.9857 - val_loss: 0.2426 - val_tp: 285.0000 - val_fp: 57.0000 - val_tn: 247.0000 - val_fn: 19.0000 - val_accuracy: 0.8750 - val_precision: 0.8333 - val_recall: 0.9375 - val_auc: 0.9805\n",
      "Epoch 12/20\n",
      "163/163 [==============================] - 15s 95ms/step - loss: 0.1431 - tp: 4934.0000 - fp: 284.0000 - tn: 4932.0000 - fn: 282.0000 - accuracy: 0.9457 - precision: 0.9456 - recall: 0.9459 - auc: 0.9872 - val_loss: 0.2698 - val_tp: 266.0000 - val_fp: 38.0000 - val_tn: 266.0000 - val_fn: 38.0000 - val_accuracy: 0.8750 - val_precision: 0.8750 - val_recall: 0.8750 - val_auc: 0.9531\n",
      "Epoch 13/20\n",
      "163/163 [==============================] - 15s 93ms/step - loss: 0.1466 - tp: 4904.0000 - fp: 285.0000 - tn: 4905.0000 - fn: 286.0000 - accuracy: 0.9450 - precision: 0.9451 - recall: 0.9449 - auc: 0.9862 - val_loss: 0.1965 - val_tp: 285.0000 - val_fp: 19.0000 - val_tn: 285.0000 - val_fn: 19.0000 - val_accuracy: 0.9375 - val_precision: 0.9375 - val_recall: 0.9375 - val_auc: 0.9805\n",
      "Epoch 14/20\n",
      "163/163 [==============================] - 15s 93ms/step - loss: 0.1389 - tp: 4955.0000 - fp: 256.0000 - tn: 4960.0000 - fn: 261.0000 - accuracy: 0.9504 - precision: 0.9509 - recall: 0.9500 - auc: 0.9876 - val_loss: 0.1373 - val_tp: 304.0000 - val_fp: 0.0000e+00 - val_tn: 304.0000 - val_fn: 0.0000e+00 - val_accuracy: 1.0000 - val_precision: 1.0000 - val_recall: 1.0000 - val_auc: 1.0000\n",
      "Epoch 15/20\n",
      "163/163 [==============================] - 15s 93ms/step - loss: 0.1193 - tp: 4950.0000 - fp: 239.0000 - tn: 4951.0000 - fn: 240.0000 - accuracy: 0.9539 - precision: 0.9539 - recall: 0.9538 - auc: 0.9911 - val_loss: 0.1483 - val_tp: 285.0000 - val_fp: 19.0000 - val_tn: 285.0000 - val_fn: 19.0000 - val_accuracy: 0.9375 - val_precision: 0.9375 - val_recall: 0.9375 - val_auc: 0.9961\n",
      "Epoch 16/20\n",
      "163/163 [==============================] - 15s 93ms/step - loss: 0.1328 - tp: 4907.0000 - fp: 274.0000 - tn: 4916.0000 - fn: 283.0000 - accuracy: 0.9463 - precision: 0.9471 - recall: 0.9455 - auc: 0.9886 - val_loss: 0.2409 - val_tp: 285.0000 - val_fp: 19.0000 - val_tn: 285.0000 - val_fn: 19.0000 - val_accuracy: 0.9375 - val_precision: 0.9375 - val_recall: 0.9375 - val_auc: 0.9727\n",
      "Epoch 17/20\n",
      "163/163 [==============================] - 15s 94ms/step - loss: 0.1175 - tp: 4978.0000 - fp: 240.0000 - tn: 4976.0000 - fn: 238.0000 - accuracy: 0.9542 - precision: 0.9540 - recall: 0.9544 - auc: 0.9911 - val_loss: 0.3196 - val_tp: 266.0000 - val_fp: 38.0000 - val_tn: 266.0000 - val_fn: 38.0000 - val_accuracy: 0.8750 - val_precision: 0.8750 - val_recall: 0.8750 - val_auc: 0.9531\n",
      "Epoch 18/20\n",
      "163/163 [==============================] - 16s 96ms/step - loss: 0.1332 - tp: 4950.0000 - fp: 249.0000 - tn: 4941.0000 - fn: 240.0000 - accuracy: 0.9529 - precision: 0.9521 - recall: 0.9538 - auc: 0.9892 - val_loss: 0.1995 - val_tp: 285.0000 - val_fp: 19.0000 - val_tn: 285.0000 - val_fn: 19.0000 - val_accuracy: 0.9375 - val_precision: 0.9375 - val_recall: 0.9375 - val_auc: 0.9922\n",
      "Epoch 19/20\n",
      "163/163 [==============================] - 15s 94ms/step - loss: 0.1201 - tp: 4953.0000 - fp: 240.0000 - tn: 4950.0000 - fn: 237.0000 - accuracy: 0.9540 - precision: 0.9538 - recall: 0.9543 - auc: 0.9907 - val_loss: 0.2030 - val_tp: 266.0000 - val_fp: 38.0000 - val_tn: 266.0000 - val_fn: 38.0000 - val_accuracy: 0.8750 - val_precision: 0.8750 - val_recall: 0.8750 - val_auc: 0.9844\n",
      "Epoch 20/20\n",
      "163/163 [==============================] - 16s 97ms/step - loss: 0.1184 - tp: 4992.0000 - fp: 226.0000 - tn: 4990.0000 - fn: 224.0000 - accuracy: 0.9569 - precision: 0.9567 - recall: 0.9571 - auc: 0.9906 - val_loss: 0.1830 - val_tp: 266.0000 - val_fp: 19.0000 - val_tn: 285.0000 - val_fn: 38.0000 - val_accuracy: 0.9062 - val_precision: 0.9333 - val_recall: 0.8750 - val_auc: 0.9727\n"
     ]
    }
   ],
   "source": [
    "cnn_model = cnn.fit_generator(training_set, validation_generator, epochs = 20)"
   ]
  },
  {
   "cell_type": "code",
   "execution_count": 11,
   "metadata": {},
   "outputs": [
    {
     "data": {
      "image/png": "[encoded data removed]",
      "text/plain": [
       "<Figure size 432x288 with 4 Axes>"
      ]
     },
     "metadata": {
      "needs_background": "light"
     },
     "output_type": "display_data"
    }
   ],
   "source": [
    "cnn.plot_history()"
   ]
  },
  {
   "cell_type": "code",
   "execution_count": 12,
   "metadata": {},
   "outputs": [
    {
     "name": "stdout",
     "output_type": "stream",
     "text": [
      "              precision    recall  f1-score   support\n",
      "\n",
      "      NORMAL       0.86      0.83      0.84       234\n",
      "   PNEUMONIA       0.90      0.92      0.91       390\n",
      "\n",
      "    accuracy                           0.88       624\n",
      "   macro avg       0.88      0.87      0.88       624\n",
      "weighted avg       0.88      0.88      0.88       624\n",
      "\n"
     ]
    }
   ],
   "source": [
    "cnn.get_classification_report(test_set)"
   ]
  },
  {
   "cell_type": "code",
   "execution_count": 13,
   "metadata": {},
   "outputs": [
    {
     "data": {
      "image/png": "[encoded data removed]",
      "text/plain": [
       "<Figure size 648x648 with 2 Axes>"
      ]
     },
     "metadata": {
      "needs_background": "light"
     },
     "output_type": "display_data"
    }
   ],
   "source": [
    "cnn.display_confusion_matrix(test_set)"
   ]
  }
 ],
 "metadata": {
  "kernelspec": {
   "display_name": "Python 3",
   "language": "python",
   "name": "python3"
  },
  "language_info": {
   "codemirror_mode": {
    "name": "ipython",
    "version": 3
   },
   "file_extension": ".py",
   "mimetype": "text/x-python",
   "name": "python",
   "nbconvert_exporter": "python",
   "pygments_lexer": "ipython3",
   "version": "3.6.12"
  },
  "latex_envs": {
   "LaTeX_envs_menu_present": true,
   "autoclose": false,
   "autocomplete": true,
   "bibliofile": "biblio.bib",
   "cite_by": "apalike",
   "current_citInitial": 1,
   "eqLabelWithNumbers": true,
   "eqNumInitial": 1,
   "hotkeys": {
    "equation": "Ctrl-E",
    "itemize": "Ctrl-I"
   },
   "labels_anchors": false,
   "latex_user_defs": false,
   "report_style_numbering": false,
   "user_envs_cfg": false
  }
 },
 "nbformat": 4,
 "nbformat_minor": 4
}
