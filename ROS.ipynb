{
 "cells": [
  {
   "cell_type": "code",
   "execution_count": 1,
   "metadata": {},
   "outputs": [
    {
     "name": "stdout",
     "output_type": "stream",
     "text": [
      "['chest_xray', 'resampled', 'TEST']\n"
     ]
    },
    {
     "name": "stderr",
     "output_type": "stream",
     "text": [
      "Using TensorFlow backend.\n"
     ]
    }
   ],
   "source": [
    "import numpy as np \n",
    "import matplotlib.pyplot as plt \n",
    "import os\n",
    "from PIL import Image\n",
    "print(os.listdir(\"./common/data\"))\n",
    "\n",
    "os.environ[\"CUDA_VISIBLE_DEVICES\"]=\"1\"\n",
    "\n",
    "import tensorflow as tf\n",
    "config = tf.compat.v1.ConfigProto()\n",
    "config.gpu_options.allow_growth = True\n",
    "tf.compat.v1.keras.backend.set_session(tf.compat.v1.Session(config=config))\n",
    "\n",
    "# Keras Libraries\n",
    "import keras\n",
    "from keras.models import Sequential\n",
    "from keras.layers import Conv2D\n",
    "from keras.layers import MaxPooling2D\n",
    "from keras.layers import Flatten\n",
    "from keras.layers import Dense\n",
    "from keras.preprocessing.image import ImageDataGenerator, load_img\n",
    "from sklearn.metrics import classification_report, confusion_matrix\n",
    "%matplotlib inline"
   ]
  },
  {
   "cell_type": "markdown",
   "metadata": {},
   "source": [
    "# Resample Data Into New Dataset"
   ]
  },
  {
   "cell_type": "markdown",
   "metadata": {},
   "source": [
    "# Resample Train Data"
   ]
  },
  {
   "cell_type": "code",
   "execution_count": 2,
   "metadata": {},
   "outputs": [],
   "source": [
    "from common.src import resample as res"
   ]
  },
  {
   "cell_type": "code",
   "execution_count": 3,
   "metadata": {},
   "outputs": [],
   "source": [
    "from imblearn.over_sampling import RandomOverSampler\n",
    "\n",
    "path = r'C:\\Users\\mmitk\\dev\\2020\\pneumonia\\common\\data\\chest_xray\\train'\n",
    "ros = RandomOverSampler(random_state=0)"
   ]
  },
  {
   "cell_type": "code",
   "execution_count": 4,
   "metadata": {
    "scrolled": true
   },
   "outputs": [],
   "source": [
    "res.resample_directory(ros, path, 'ROS', val = False)"
   ]
  },
  {
   "cell_type": "markdown",
   "metadata": {},
   "source": [
    "# Load Data"
   ]
  },
  {
   "cell_type": "code",
   "execution_count": 5,
   "metadata": {},
   "outputs": [],
   "source": [
    "train_folder= './common/data/resampled/ROS/train'\n",
    "val_folder = './common/data/chest_xray/val/'\n",
    "test_folder = './common/data/chest_xray/test/'"
   ]
  },
  {
   "cell_type": "markdown",
   "metadata": {},
   "source": [
    "Set up Training Folders"
   ]
  },
  {
   "cell_type": "code",
   "execution_count": 6,
   "metadata": {},
   "outputs": [],
   "source": [
    "# train \n",
    "os.listdir(train_folder)\n",
    "train_n = train_folder+'NORMAL/'\n",
    "train_p = train_folder+'PNEUMONIA/'"
   ]
  },
  {
   "cell_type": "markdown",
   "metadata": {},
   "source": [
    "Set up Testing Folders"
   ]
  },
  {
   "cell_type": "code",
   "execution_count": 7,
   "metadata": {},
   "outputs": [],
   "source": [
    "# test\n",
    "os.listdir(test_folder)\n",
    "train_n = test_folder+'NORMAL/'\n",
    "train_p = test_folder+'PNEUMONIA/'"
   ]
  },
  {
   "cell_type": "markdown",
   "metadata": {},
   "source": [
    "# Generate Dataset from image data"
   ]
  },
  {
   "cell_type": "code",
   "execution_count": 8,
   "metadata": {},
   "outputs": [
    {
     "name": "stdout",
     "output_type": "stream",
     "text": [
      "Found 7750 images belonging to 2 classes.\n",
      "Found 16 images belonging to 2 classes.\n",
      "Found 624 images belonging to 2 classes.\n"
     ]
    }
   ],
   "source": [
    "from common.src import util\n",
    "\n",
    "train_datagen = util.create_train_datagen()\n",
    "test_datagen = util.create_test_datagen()\n",
    "\n",
    "training_set = util.create_generator_set(train_datagen, './common/data/resampled/ROS/train')\n",
    "validation_generator = util.create_generator_set(test_datagen, './common/data/chest_xray/val/')\n",
    "test_set = util.create_generator_set(test_datagen, './common/data/chest_xray/test/') "
   ]
  },
  {
   "cell_type": "markdown",
   "metadata": {},
   "source": [
    "# Create Model"
   ]
  },
  {
   "cell_type": "code",
   "execution_count": 9,
   "metadata": {},
   "outputs": [],
   "source": [
    "from common.src import models\n",
    "\n",
    "cnn = models.CNNModel()\n",
    "cnn.create_model()\n",
    "cnn.summary()"
   ]
  },
  {
   "cell_type": "markdown",
   "metadata": {},
   "source": [
    "# Fit Model"
   ]
  },
  {
   "cell_type": "code",
   "execution_count": 10,
   "metadata": {
    "scrolled": false
   },
   "outputs": [
    {
     "name": "stdout",
     "output_type": "stream",
     "text": [
      "Epoch 1/20\n",
      "163/163 [==============================] - 260s 2s/step - loss: 0.4209 - tp: 4133.0000 - fp: 1125.0000 - tn: 4091.0000 - fn: 1083.0000 - accuracy: 0.7883 - precision: 0.7860 - recall: 0.7924 - auc: 0.8882 - val_loss: 0.3051 - val_tp: 9360.0000 - val_fp: 624.0000 - val_tn: 9360.0000 - val_fn: 624.0000 - val_accuracy: 0.9375 - val_precision: 0.9375 - val_recall: 0.9375 - val_auc: 0.9492\n",
      "Epoch 2/20\n",
      "163/163 [==============================] - 245s 2s/step - loss: 0.2511 - tp: 4649.0000 - fp: 517.0000 - tn: 4647.0000 - fn: 515.0000 - accuracy: 0.9001 - precision: 0.8999 - recall: 0.9003 - auc: 0.9610 - val_loss: 0.2706 - val_tp: 8112.0000 - val_fp: 1872.0000 - val_tn: 8112.0000 - val_fn: 1872.0000 - val_accuracy: 0.8125 - val_precision: 0.8125 - val_recall: 0.8125 - val_auc: 0.9648\n",
      "Epoch 3/20\n",
      "163/163 [==============================] - 244s 1s/step - loss: 0.2375 - tp: 4721.0000 - fp: 497.0000 - tn: 4719.0000 - fn: 495.0000 - accuracy: 0.9049 - precision: 0.9048 - recall: 0.9051 - auc: 0.9658 - val_loss: 0.2559 - val_tp: 8112.0000 - val_fp: 1872.0000 - val_tn: 8112.0000 - val_fn: 1872.0000 - val_accuracy: 0.8125 - val_precision: 0.8125 - val_recall: 0.8125 - val_auc: 0.9648\n",
      "Epoch 4/20\n",
      "163/163 [==============================] - 244s 1s/step - loss: 0.2118 - tp: 4763.0000 - fp: 414.0000 - tn: 4776.0000 - fn: 427.0000 - accuracy: 0.9190 - precision: 0.9200 - recall: 0.9177 - auc: 0.9722 - val_loss: 0.4949 - val_tp: 6864.0000 - val_fp: 3120.0000 - val_tn: 6864.0000 - val_fn: 3120.0000 - val_accuracy: 0.6875 - val_precision: 0.6875 - val_recall: 0.6875 - val_auc: 0.8477\n",
      "Epoch 5/20\n",
      "163/163 [==============================] - 244s 1s/step - loss: 0.1885 - tp: 4797.0000 - fp: 386.0000 - tn: 4804.0000 - fn: 393.0000 - accuracy: 0.9250 - precision: 0.9255 - recall: 0.9243 - auc: 0.9781 - val_loss: 0.3505 - val_tp: 8112.0000 - val_fp: 1872.0000 - val_tn: 8112.0000 - val_fn: 1872.0000 - val_accuracy: 0.8125 - val_precision: 0.8125 - val_recall: 0.8125 - val_auc: 0.9062\n",
      "Epoch 6/20\n",
      "163/163 [==============================] - 243s 1s/step - loss: 0.1892 - tp: 4814.0000 - fp: 382.0000 - tn: 4808.0000 - fn: 376.0000 - accuracy: 0.9270 - precision: 0.9265 - recall: 0.9276 - auc: 0.9778 - val_loss: 0.3440 - val_tp: 6864.0000 - val_fp: 2496.0000 - val_tn: 7488.0000 - val_fn: 3120.0000 - val_accuracy: 0.7188 - val_precision: 0.7333 - val_recall: 0.6875 - val_auc: 0.9043\n",
      "Epoch 7/20\n",
      "163/163 [==============================] - 244s 1s/step - loss: 0.1638 - tp: 4893.0000 - fp: 318.0000 - tn: 4898.0000 - fn: 323.0000 - accuracy: 0.9386 - precision: 0.9390 - recall: 0.9381 - auc: 0.9833 - val_loss: 0.7771 - val_tp: 6240.0000 - val_fp: 3120.0000 - val_tn: 6864.0000 - val_fn: 3744.0000 - val_accuracy: 0.6562 - val_precision: 0.6667 - val_recall: 0.6250 - val_auc: 0.7734\n",
      "Epoch 8/20\n",
      "163/163 [==============================] - 243s 1s/step - loss: 0.1536 - tp: 4891.0000 - fp: 299.0000 - tn: 4891.0000 - fn: 299.0000 - accuracy: 0.9424 - precision: 0.9424 - recall: 0.9424 - auc: 0.9846 - val_loss: 0.2864 - val_tp: 8736.0000 - val_fp: 1248.0000 - val_tn: 8736.0000 - val_fn: 1248.0000 - val_accuracy: 0.8750 - val_precision: 0.8750 - val_recall: 0.8750 - val_auc: 0.9531\n",
      "Epoch 9/20\n",
      "163/163 [==============================] - 245s 2s/step - loss: 0.1684 - tp: 4884.0000 - fp: 333.0000 - tn: 4883.0000 - fn: 332.0000 - accuracy: 0.9363 - precision: 0.9362 - recall: 0.9363 - auc: 0.9821 - val_loss: 0.7389 - val_tp: 6864.0000 - val_fp: 3744.0000 - val_tn: 6240.0000 - val_fn: 3120.0000 - val_accuracy: 0.6562 - val_precision: 0.6471 - val_recall: 0.6875 - val_auc: 0.8008\n",
      "Epoch 10/20\n",
      "163/163 [==============================] - 244s 1s/step - loss: 0.1515 - tp: 4908.0000 - fp: 286.0000 - tn: 4904.0000 - fn: 282.0000 - accuracy: 0.9453 - precision: 0.9449 - recall: 0.9457 - auc: 0.9853 - val_loss: 0.3554 - val_tp: 8112.0000 - val_fp: 1248.0000 - val_tn: 8736.0000 - val_fn: 1872.0000 - val_accuracy: 0.8438 - val_precision: 0.8667 - val_recall: 0.8125 - val_auc: 0.9023\n",
      "Epoch 11/20\n",
      "163/163 [==============================] - 242s 1s/step - loss: 0.1527 - tp: 4882.0000 - fp: 314.0000 - tn: 4876.0000 - fn: 308.0000 - accuracy: 0.9401 - precision: 0.9396 - recall: 0.9407 - auc: 0.9853 - val_loss: 0.2497 - val_tp: 9360.0000 - val_fp: 1872.0000 - val_tn: 8112.0000 - val_fn: 624.0000 - val_accuracy: 0.8750 - val_precision: 0.8333 - val_recall: 0.9375 - val_auc: 0.9648\n",
      "Epoch 12/20\n",
      "163/163 [==============================] - 245s 2s/step - loss: 0.1455 - tp: 4942.0000 - fp: 270.0000 - tn: 4946.0000 - fn: 274.0000 - accuracy: 0.9479 - precision: 0.9482 - recall: 0.9475 - auc: 0.9867 - val_loss: 0.3786 - val_tp: 7488.0000 - val_fp: 2496.0000 - val_tn: 7488.0000 - val_fn: 2496.0000 - val_accuracy: 0.7500 - val_precision: 0.7500 - val_recall: 0.7500 - val_auc: 0.9141\n",
      "Epoch 13/20\n",
      "163/163 [==============================] - 243s 1s/step - loss: 0.1327 - tp: 4953.0000 - fp: 262.0000 - tn: 4954.0000 - fn: 263.0000 - accuracy: 0.9497 - precision: 0.9498 - recall: 0.9496 - auc: 0.9886 - val_loss: 0.2945 - val_tp: 8736.0000 - val_fp: 1248.0000 - val_tn: 8736.0000 - val_fn: 1248.0000 - val_accuracy: 0.8750 - val_precision: 0.8750 - val_recall: 0.8750 - val_auc: 0.9453\n",
      "Epoch 14/20\n",
      "163/163 [==============================] - 242s 1s/step - loss: 0.1495 - tp: 4870.0000 - fp: 292.0000 - tn: 4872.0000 - fn: 294.0000 - accuracy: 0.9433 - precision: 0.9434 - recall: 0.9431 - auc: 0.9857 - val_loss: 0.6037 - val_tp: 7488.0000 - val_fp: 2496.0000 - val_tn: 7488.0000 - val_fn: 2496.0000 - val_accuracy: 0.7500 - val_precision: 0.7500 - val_recall: 0.7500 - val_auc: 0.8301\n",
      "Epoch 15/20\n",
      "163/163 [==============================] - 245s 2s/step - loss: 0.1310 - tp: 4966.0000 - fp: 250.0000 - tn: 4966.0000 - fn: 250.0000 - accuracy: 0.9521 - precision: 0.9521 - recall: 0.9521 - auc: 0.9889 - val_loss: 0.4784 - val_tp: 7488.0000 - val_fp: 2496.0000 - val_tn: 7488.0000 - val_fn: 2496.0000 - val_accuracy: 0.7500 - val_precision: 0.7500 - val_recall: 0.7500 - val_auc: 0.8828\n",
      "Epoch 16/20\n",
      "163/163 [==============================] - 246s 2s/step - loss: 0.1220 - tp: 4950.0000 - fp: 233.0000 - tn: 4957.0000 - fn: 240.0000 - accuracy: 0.9544 - precision: 0.9550 - recall: 0.9538 - auc: 0.9900 - val_loss: 0.3755 - val_tp: 8112.0000 - val_fp: 1872.0000 - val_tn: 8112.0000 - val_fn: 1872.0000 - val_accuracy: 0.8125 - val_precision: 0.8125 - val_recall: 0.8125 - val_auc: 0.9160\n",
      "Epoch 17/20\n",
      "163/163 [==============================] - 244s 1s/step - loss: 0.1270 - tp: 4975.0000 - fp: 247.0000 - tn: 4969.0000 - fn: 241.0000 - accuracy: 0.9532 - precision: 0.9527 - recall: 0.9538 - auc: 0.9886 - val_loss: 0.4694 - val_tp: 8112.0000 - val_fp: 2496.0000 - val_tn: 7488.0000 - val_fn: 1872.0000 - val_accuracy: 0.7812 - val_precision: 0.7647 - val_recall: 0.8125 - val_auc: 0.8789\n",
      "Epoch 18/20\n",
      "163/163 [==============================] - 244s 1s/step - loss: 0.1208 - tp: 4954.0000 - fp: 232.0000 - tn: 4958.0000 - fn: 236.0000 - accuracy: 0.9549 - precision: 0.9553 - recall: 0.9545 - auc: 0.9903 - val_loss: 0.2358 - val_tp: 8736.0000 - val_fp: 1248.0000 - val_tn: 8736.0000 - val_fn: 1248.0000 - val_accuracy: 0.8750 - val_precision: 0.8750 - val_recall: 0.8750 - val_auc: 0.9805\n",
      "Epoch 19/20\n",
      "163/163 [==============================] - 243s 1s/step - loss: 0.1229 - tp: 4953.0000 - fp: 237.0000 - tn: 4953.0000 - fn: 237.0000 - accuracy: 0.9543 - precision: 0.9543 - recall: 0.9543 - auc: 0.9900 - val_loss: 0.3275 - val_tp: 8112.0000 - val_fp: 1872.0000 - val_tn: 8112.0000 - val_fn: 1872.0000 - val_accuracy: 0.8125 - val_precision: 0.8125 - val_recall: 0.8125 - val_auc: 0.9414\n",
      "Epoch 20/20\n",
      "163/163 [==============================] - 244s 1s/step - loss: 0.1384 - tp: 4937.0000 - fp: 277.0000 - tn: 4939.0000 - fn: 279.0000 - accuracy: 0.9467 - precision: 0.9469 - recall: 0.9465 - auc: 0.9876 - val_loss: 0.2249 - val_tp: 8736.0000 - val_fp: 1248.0000 - val_tn: 8736.0000 - val_fn: 1248.0000 - val_accuracy: 0.8750 - val_precision: 0.8750 - val_recall: 0.8750 - val_auc: 0.9844\n"
     ]
    }
   ],
   "source": [
    "cnn_model = cnn.fit_generator(training_set, validation_generator, epochs = 20)"
   ]
  },
  {
   "cell_type": "code",
   "execution_count": 11,
   "metadata": {},
   "outputs": [
    {
     "data": {
      "image/png": "[encoded data removed]",
      "text/plain": [
       "<Figure size 432x288 with 4 Axes>"
      ]
     },
     "metadata": {
      "needs_background": "light"
     },
     "output_type": "display_data"
    }
   ],
   "source": [
    "cnn.plot_history()"
   ]
  },
  {
   "cell_type": "code",
   "execution_count": 12,
   "metadata": {},
   "outputs": [
    {
     "name": "stdout",
     "output_type": "stream",
     "text": [
      "              precision    recall  f1-score   support\n",
      "\n",
      "      NORMAL       0.35      0.32      0.34       234\n",
      "   PNEUMONIA       0.61      0.64      0.63       390\n",
      "\n",
      "    accuracy                           0.52       624\n",
      "   macro avg       0.48      0.48      0.48       624\n",
      "weighted avg       0.52      0.52      0.52       624\n",
      "\n"
     ]
    }
   ],
   "source": [
    "cnn.get_classification_report(test_set)"
   ]
  },
  {
   "cell_type": "code",
   "execution_count": 13,
   "metadata": {},
   "outputs": [
    {
     "data": {
      "image/png": "[encoded data removed]",
      "text/plain": [
       "<Figure size 648x648 with 2 Axes>"
      ]
     },
     "metadata": {
      "needs_background": "light"
     },
     "output_type": "display_data"
    }
   ],
   "source": [
    "cnn.display_confusion_matrix(test_set)"
   ]
  },
  {
   "cell_type": "code",
   "execution_count": 14,
   "metadata": {},
   "outputs": [],
   "source": [
    "res.remove_resampled_directory('./common/data/resampled/ROS')"
   ]
  },
  {
   "cell_type": "code",
   "execution_count": null,
   "metadata": {},
   "outputs": [],
   "source": []
  }
 ],
 "metadata": {
  "kernelspec": {
   "display_name": "Python 3",
   "language": "python",
   "name": "python3"
  },
  "language_info": {
   "codemirror_mode": {
    "name": "ipython",
    "version": 3
   },
   "file_extension": ".py",
   "mimetype": "text/x-python",
   "name": "python",
   "nbconvert_exporter": "python",
   "pygments_lexer": "ipython3",
   "version": "3.7.7"
  },
  "latex_envs": {
   "LaTeX_envs_menu_present": true,
   "autoclose": false,
   "autocomplete": true,
   "bibliofile": "biblio.bib",
   "cite_by": "apalike",
   "current_citInitial": 1,
   "eqLabelWithNumbers": true,
   "eqNumInitial": 1,
   "hotkeys": {
    "equation": "Ctrl-E",
    "itemize": "Ctrl-I"
   },
   "labels_anchors": false,
   "latex_user_defs": false,
   "report_style_numbering": false,
   "user_envs_cfg": false
  }
 },
 "nbformat": 4,
 "nbformat_minor": 4
}
