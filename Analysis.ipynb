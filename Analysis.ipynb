{
 "cells": [
  {
   "cell_type": "code",
   "execution_count": 1,
   "metadata": {},
   "outputs": [
    {
     "name": "stderr",
     "output_type": "stream",
     "text": [
      "Using TensorFlow backend.\n"
     ]
    }
   ],
   "source": [
    "import os\n",
    "from common.src import util"
   ]
  },
  {
   "cell_type": "markdown",
   "metadata": {},
   "source": [
    "# Class Imbalance"
   ]
  },
  {
   "cell_type": "code",
   "execution_count": 2,
   "metadata": {},
   "outputs": [
    {
     "name": "stdout",
     "output_type": "stream",
     "text": [
      "PNEUMONIA: 3875\n",
      "NORMAL: 1341\n"
     ]
    }
   ],
   "source": [
    "class_balance = dict()\n",
    "\n",
    "class_balance['PNEUMONIA'] = len([img for img in os.listdir('./common/data/chest_xray/train/PNEUMONIA/')])\n",
    "class_balance['NORMAL'] = len([img for img in os.listdir('./common/data/chest_xray/train/NORMAL/')])\n",
    "\n",
    "print('PNEUMONIA: {}\\nNORMAL: {}'.format(class_balance['PNEUMONIA'],class_balance['NORMAL']))"
   ]
  },
  {
   "cell_type": "code",
   "execution_count": 3,
   "metadata": {},
   "outputs": [
    {
     "name": "stdout",
     "output_type": "stream",
     "text": [
      "Found 5216 images belonging to 2 classes.\n"
     ]
    }
   ],
   "source": [
    "train_datagen = util.create_train_datagen()\n",
    "\n",
    "training_set = util.create_generator_set(train_datagen, './common/data/chest_xray/train/')"
   ]
  },
  {
   "cell_type": "code",
   "execution_count": 4,
   "metadata": {},
   "outputs": [
    {
     "name": "stdout",
     "output_type": "stream",
     "text": [
      "1: 3875\n",
      "0: 1341\n"
     ]
    }
   ],
   "source": [
    "print('1: {}'.format(len([cls for cls in training_set.classes if cls == 1])))\n",
    "print('0: {}'.format(len([cls for cls in training_set.classes if cls == 0])))"
   ]
  },
  {
   "cell_type": "markdown",
   "metadata": {},
   "source": [
    "Flow from directory shows that class 1 is Pneumonia, and class 0 is Normal"
   ]
  },
  {
   "cell_type": "code",
   "execution_count": 5,
   "metadata": {},
   "outputs": [
    {
     "name": "stdout",
     "output_type": "stream",
     "text": [
      "Class Imbalance:\n",
      " {'PNEUMONIA': 2.889634601043997, 'NORMAL': 1.0}\n"
     ]
    }
   ],
   "source": [
    "class_imbalance = class_balance\n",
    "for key in class_imbalance:\n",
    "    class_imbalance[key] = class_imbalance[key]/class_balance['NORMAL']\n",
    "print('Class Imbalance:\\n',class_imbalance)"
   ]
  },
  {
   "cell_type": "code",
   "execution_count": 6,
   "metadata": {},
   "outputs": [
    {
     "name": "stdout",
     "output_type": "stream",
     "text": [
      "PNEUMONIA: 390\n",
      "NORMAL: 234\n"
     ]
    }
   ],
   "source": [
    "class_balance = dict()\n",
    "\n",
    "class_balance['PNEUMONIA'] = len([img for img in os.listdir('./common/data/chest_xray/test/PNEUMONIA/')])\n",
    "class_balance['NORMAL'] = len([img for img in os.listdir('./common/data/chest_xray/test/NORMAL/')])\n",
    "\n",
    "print('PNEUMONIA: {}\\nNORMAL: {}'.format(class_balance['PNEUMONIA'],class_balance['NORMAL']))"
   ]
  },
  {
   "cell_type": "code",
   "execution_count": null,
   "metadata": {},
   "outputs": [],
   "source": []
  }
 ],
 "metadata": {
  "kernelspec": {
   "display_name": "Python 3",
   "language": "python",
   "name": "python3"
  },
  "language_info": {
   "codemirror_mode": {
    "name": "ipython",
    "version": 3
   },
   "file_extension": ".py",
   "mimetype": "text/x-python",
   "name": "python",
   "nbconvert_exporter": "python",
   "pygments_lexer": "ipython3",
   "version": "3.6.12"
  }
 },
 "nbformat": 4,
 "nbformat_minor": 4
}
