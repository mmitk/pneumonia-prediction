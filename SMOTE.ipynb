{
 "cells": [
  {
   "cell_type": "code",
   "execution_count": 1,
   "metadata": {},
   "outputs": [
    {
     "name": "stdout",
     "output_type": "stream",
     "text": [
      "['chest_xray', 'resampled', 'TEST']\n"
     ]
    },
    {
     "name": "stderr",
     "output_type": "stream",
     "text": [
      "Using TensorFlow backend.\n"
     ]
    }
   ],
   "source": [
    "import numpy as np \n",
    "import matplotlib.pyplot as plt \n",
    "import os\n",
    "from PIL import Image\n",
    "print(os.listdir(\"./common/data\"))\n",
    "\n",
    "import tensorflow as tf\n",
    "config = tf.compat.v1.ConfigProto()\n",
    "config.gpu_options.allow_growth = True\n",
    "tf.compat.v1.keras.backend.set_session(tf.compat.v1.Session(config=config))\n",
    "\n",
    "# Keras Libraries\n",
    "import keras\n",
    "from keras.models import Sequential\n",
    "from keras.layers import Conv2D\n",
    "from keras.layers import MaxPooling2D\n",
    "from keras.layers import Flatten\n",
    "from keras.layers import Dense\n",
    "from keras.preprocessing.image import ImageDataGenerator, load_img\n",
    "from sklearn.metrics import classification_report, confusion_matrix\n",
    "%matplotlib inline"
   ]
  },
  {
   "cell_type": "markdown",
   "metadata": {},
   "source": [
    "# Resample Data Into New Dataset"
   ]
  },
  {
   "cell_type": "markdown",
   "metadata": {},
   "source": [
    "# Resample Train Data"
   ]
  },
  {
   "cell_type": "code",
   "execution_count": 2,
   "metadata": {},
   "outputs": [],
   "source": [
    "from common.src import resample as res"
   ]
  },
  {
   "cell_type": "code",
   "execution_count": 3,
   "metadata": {},
   "outputs": [],
   "source": [
    "from imblearn.over_sampling import SMOTE\n",
    "\n",
    "path = r'C:\\Users\\mmitk\\dev\\2020\\pneumonia\\common\\data\\chest_xray\\train'\n",
    "SM = SMOTE(random_state=0)"
   ]
  },
  {
   "cell_type": "code",
   "execution_count": 4,
   "metadata": {},
   "outputs": [
    {
     "name": "stdout",
     "output_type": "stream",
     "text": [
      "----------[LOADING IMAGES]----------\n",
      "....................................................................................................\n",
      "....................................................................................................\n",
      "....................................................................................................\n",
      "....................................................................................................\n",
      "....................................................................................................\n",
      "......................\n",
      "Finished [LOADING IMAGES]\n",
      "----------[RESAMPLING IMAGES]----------\n",
      "\n",
      "Finished [RESAMPLING IMAGES]\n",
      "----------[WRITING RESAMPLED IMAGES]----------\n",
      "....................................................................................................\n",
      "....................................................................................................\n",
      "....................................................................................................\n",
      "....................................................................................................\n",
      "....................................................................................................\n",
      "....................................................................................................\n",
      "....................................................................................................\n",
      "...........................................................................\n",
      "Finished [RESAMPLING DIRECTORY]\n"
     ]
    }
   ],
   "source": [
    "res.resample_directory(SM, path, 'SMOTE', val = False)"
   ]
  },
  {
   "cell_type": "markdown",
   "metadata": {},
   "source": [
    "# Load Data"
   ]
  },
  {
   "cell_type": "code",
   "execution_count": 5,
   "metadata": {},
   "outputs": [],
   "source": [
    "train_folder= './common/data/resampled/SMOTE/train'\n",
    "val_folder = './common/data/chest_xray/val/'\n",
    "test_folder = './common/data/chest_xray/test/'"
   ]
  },
  {
   "cell_type": "markdown",
   "metadata": {},
   "source": [
    "Set up Training Folders"
   ]
  },
  {
   "cell_type": "code",
   "execution_count": 6,
   "metadata": {},
   "outputs": [],
   "source": [
    "# train \n",
    "os.listdir(train_folder)\n",
    "train_n = train_folder+'NORMAL/'\n",
    "train_p = train_folder+'PNEUMONIA/'"
   ]
  },
  {
   "cell_type": "markdown",
   "metadata": {},
   "source": [
    "Set up Testing Folders"
   ]
  },
  {
   "cell_type": "code",
   "execution_count": 7,
   "metadata": {},
   "outputs": [],
   "source": [
    "# test\n",
    "os.listdir(test_folder)\n",
    "train_n = test_folder+'NORMAL/'\n",
    "train_p = test_folder+'PNEUMONIA/'"
   ]
  },
  {
   "cell_type": "markdown",
   "metadata": {},
   "source": [
    "# Generate Dataset from image data"
   ]
  },
  {
   "cell_type": "code",
   "execution_count": 8,
   "metadata": {},
   "outputs": [
    {
     "name": "stdout",
     "output_type": "stream",
     "text": [
      "Found 7750 images belonging to 2 classes.\n",
      "Found 16 images belonging to 2 classes.\n",
      "Found 624 images belonging to 2 classes.\n"
     ]
    }
   ],
   "source": [
    "from common.src import util\n",
    "\n",
    "train_datagen = util.create_train_datagen()\n",
    "test_datagen = util.create_test_datagen()\n",
    "\n",
    "training_set = util.create_generator_set(train_datagen, './common/data/resampled/SMOTE/train')\n",
    "validation_generator = util.create_generator_set(test_datagen, './common/data/chest_xray/val/')\n",
    "test_set = util.create_generator_set(test_datagen, './common/data/chest_xray/test/') "
   ]
  },
  {
   "cell_type": "markdown",
   "metadata": {},
   "source": [
    "# Create Model"
   ]
  },
  {
   "cell_type": "code",
   "execution_count": 9,
   "metadata": {},
   "outputs": [],
   "source": [
    "from common.src import models\n",
    "\n",
    "cnn = models.CNNModel(patience_s=19)\n",
    "cnn.create_model()\n",
    "cnn.summary()"
   ]
  },
  {
   "cell_type": "markdown",
   "metadata": {},
   "source": [
    "# Fit Model"
   ]
  },
  {
   "cell_type": "code",
   "execution_count": 10,
   "metadata": {
    "scrolled": false
   },
   "outputs": [
    {
     "name": "stdout",
     "output_type": "stream",
     "text": [
      "Epoch 1/20\n",
      "163/163 [==============================] - 30s 186ms/step - loss: 0.3154 - tp: 4439.0000 - fp: 809.0000 - tn: 4381.0000 - fn: 751.0000 - accuracy: 0.8497 - precision: 0.8458 - recall: 0.8553 - auc: 0.9380 - val_loss: 0.4157 - val_tp: 228.0000 - val_fp: 76.0000 - val_tn: 228.0000 - val_fn: 76.0000 - val_accuracy: 0.7500 - val_precision: 0.7500 - val_recall: 0.7500 - val_auc: 0.8750\n",
      "Epoch 2/20\n",
      "163/163 [==============================] - 26s 159ms/step - loss: 0.1995 - tp: 4758.0000 - fp: 424.0000 - tn: 4766.0000 - fn: 432.0000 - accuracy: 0.9175 - precision: 0.9182 - recall: 0.9168 - auc: 0.9757 - val_loss: 0.3764 - val_tp: 247.0000 - val_fp: 38.0000 - val_tn: 266.0000 - val_fn: 57.0000 - val_accuracy: 0.8438 - val_precision: 0.8667 - val_recall: 0.8125 - val_auc: 0.8906\n",
      "Epoch 3/20\n",
      "163/163 [==============================] - 26s 156ms/step - loss: 0.1863 - tp: 4810.0000 - fp: 403.0000 - tn: 4813.0000 - fn: 406.0000 - accuracy: 0.9225 - precision: 0.9227 - recall: 0.9222 - auc: 0.9788 - val_loss: 0.3590 - val_tp: 228.0000 - val_fp: 76.0000 - val_tn: 228.0000 - val_fn: 76.0000 - val_accuracy: 0.7500 - val_precision: 0.7500 - val_recall: 0.7500 - val_auc: 0.9121\n",
      "Epoch 4/20\n",
      "163/163 [==============================] - 27s 164ms/step - loss: 0.1516 - tp: 4864.0000 - fp: 325.0000 - tn: 4865.0000 - fn: 326.0000 - accuracy: 0.9373 - precision: 0.9374 - recall: 0.9372 - auc: 0.9861 - val_loss: 0.3865 - val_tp: 228.0000 - val_fp: 95.0000 - val_tn: 209.0000 - val_fn: 76.0000 - val_accuracy: 0.7188 - val_precision: 0.7059 - val_recall: 0.7500 - val_auc: 0.8828\n",
      "Epoch 5/20\n",
      "163/163 [==============================] - 22s 137ms/step - loss: 0.1580 - tp: 4891.0000 - fp: 328.0000 - tn: 4888.0000 - fn: 325.0000 - accuracy: 0.9374 - precision: 0.9372 - recall: 0.9377 - auc: 0.9842 - val_loss: 0.7006 - val_tp: 209.0000 - val_fp: 95.0000 - val_tn: 209.0000 - val_fn: 95.0000 - val_accuracy: 0.6875 - val_precision: 0.6875 - val_recall: 0.6875 - val_auc: 0.8047\n",
      "Epoch 6/20\n",
      "163/163 [==============================] - 11s 67ms/step - loss: 0.1419 - tp: 4919.0000 - fp: 272.0000 - tn: 4918.0000 - fn: 271.0000 - accuracy: 0.9477 - precision: 0.9476 - recall: 0.9478 - auc: 0.9875 - val_loss: 0.3334 - val_tp: 266.0000 - val_fp: 38.0000 - val_tn: 266.0000 - val_fn: 38.0000 - val_accuracy: 0.8750 - val_precision: 0.8750 - val_recall: 0.8750 - val_auc: 0.9219\n",
      "Epoch 7/20\n",
      "163/163 [==============================] - 12s 72ms/step - loss: 0.1316 - tp: 4918.0000 - fp: 273.0000 - tn: 4917.0000 - fn: 272.0000 - accuracy: 0.9475 - precision: 0.9474 - recall: 0.9476 - auc: 0.9894 - val_loss: 0.3277 - val_tp: 247.0000 - val_fp: 19.0000 - val_tn: 285.0000 - val_fn: 57.0000 - val_accuracy: 0.8750 - val_precision: 0.9286 - val_recall: 0.8125 - val_auc: 0.9434\n",
      "Epoch 8/20\n",
      "163/163 [==============================] - 13s 82ms/step - loss: 0.1371 - tp: 4933.0000 - fp: 284.0000 - tn: 4932.0000 - fn: 283.0000 - accuracy: 0.9456 - precision: 0.9456 - recall: 0.9457 - auc: 0.9885 - val_loss: 0.4998 - val_tp: 228.0000 - val_fp: 95.0000 - val_tn: 209.0000 - val_fn: 76.0000 - val_accuracy: 0.7188 - val_precision: 0.7059 - val_recall: 0.7500 - val_auc: 0.8535\n",
      "Epoch 9/20\n",
      "163/163 [==============================] - 12s 76ms/step - loss: 0.1294 - tp: 4946.0000 - fp: 248.0000 - tn: 4942.0000 - fn: 244.0000 - accuracy: 0.9526 - precision: 0.9523 - recall: 0.9530 - auc: 0.9897 - val_loss: 0.4835 - val_tp: 209.0000 - val_fp: 76.0000 - val_tn: 228.0000 - val_fn: 95.0000 - val_accuracy: 0.7188 - val_precision: 0.7333 - val_recall: 0.6875 - val_auc: 0.8750\n",
      "Epoch 10/20\n",
      "163/163 [==============================] - 12s 71ms/step - loss: 0.1177 - tp: 4967.0000 - fp: 246.0000 - tn: 4970.0000 - fn: 249.0000 - accuracy: 0.9525 - precision: 0.9528 - recall: 0.9523 - auc: 0.9915 - val_loss: 0.3450 - val_tp: 266.0000 - val_fp: 38.0000 - val_tn: 266.0000 - val_fn: 38.0000 - val_accuracy: 0.8750 - val_precision: 0.8750 - val_recall: 0.8750 - val_auc: 0.9297\n",
      "Epoch 11/20\n",
      "163/163 [==============================] - 11s 70ms/step - loss: 0.1244 - tp: 4921.0000 - fp: 248.0000 - tn: 4916.0000 - fn: 243.0000 - accuracy: 0.9525 - precision: 0.9520 - recall: 0.9529 - auc: 0.9899 - val_loss: 0.3841 - val_tp: 228.0000 - val_fp: 76.0000 - val_tn: 228.0000 - val_fn: 76.0000 - val_accuracy: 0.7500 - val_precision: 0.7500 - val_recall: 0.7500 - val_auc: 0.8730\n",
      "Epoch 12/20\n",
      "163/163 [==============================] - 12s 74ms/step - loss: 0.1178 - tp: 4991.0000 - fp: 221.0000 - tn: 4995.0000 - fn: 225.0000 - accuracy: 0.9572 - precision: 0.9576 - recall: 0.9569 - auc: 0.9908 - val_loss: 0.3954 - val_tp: 228.0000 - val_fp: 95.0000 - val_tn: 209.0000 - val_fn: 76.0000 - val_accuracy: 0.7188 - val_precision: 0.7059 - val_recall: 0.7500 - val_auc: 0.8711\n",
      "Epoch 13/20\n",
      "163/163 [==============================] - 12s 76ms/step - loss: 0.1085 - tp: 4982.0000 - fp: 204.0000 - tn: 4986.0000 - fn: 208.0000 - accuracy: 0.9603 - precision: 0.9607 - recall: 0.9599 - auc: 0.9924 - val_loss: 0.8322 - val_tp: 209.0000 - val_fp: 76.0000 - val_tn: 228.0000 - val_fn: 95.0000 - val_accuracy: 0.7188 - val_precision: 0.7333 - val_recall: 0.6875 - val_auc: 0.8496\n",
      "Epoch 14/20\n",
      "163/163 [==============================] - 14s 87ms/step - loss: 0.1058 - tp: 5017.0000 - fp: 201.0000 - tn: 5015.0000 - fn: 199.0000 - accuracy: 0.9617 - precision: 0.9615 - recall: 0.9618 - auc: 0.9928 - val_loss: 0.6235 - val_tp: 228.0000 - val_fp: 76.0000 - val_tn: 228.0000 - val_fn: 76.0000 - val_accuracy: 0.7500 - val_precision: 0.7500 - val_recall: 0.7500 - val_auc: 0.8672\n",
      "Epoch 15/20\n",
      "163/163 [==============================] - 13s 77ms/step - loss: 0.1163 - tp: 4960.0000 - fp: 238.0000 - tn: 4952.0000 - fn: 230.0000 - accuracy: 0.9549 - precision: 0.9542 - recall: 0.9557 - auc: 0.9909 - val_loss: 0.4019 - val_tp: 209.0000 - val_fp: 76.0000 - val_tn: 228.0000 - val_fn: 95.0000 - val_accuracy: 0.7188 - val_precision: 0.7333 - val_recall: 0.6875 - val_auc: 0.9043\n",
      "Epoch 16/20\n",
      "163/163 [==============================] - 14s 87ms/step - loss: 0.1149 - tp: 4967.0000 - fp: 223.0000 - tn: 4967.0000 - fn: 223.0000 - accuracy: 0.9570 - precision: 0.9570 - recall: 0.9570 - auc: 0.9914 - val_loss: 0.4640 - val_tp: 247.0000 - val_fp: 38.0000 - val_tn: 266.0000 - val_fn: 57.0000 - val_accuracy: 0.8438 - val_precision: 0.8667 - val_recall: 0.8125 - val_auc: 0.8672\n",
      "Epoch 17/20\n",
      "163/163 [==============================] - 12s 75ms/step - loss: 0.0995 - tp: 5010.0000 - fp: 207.0000 - tn: 5009.0000 - fn: 206.0000 - accuracy: 0.9604 - precision: 0.9603 - recall: 0.9605 - auc: 0.9935 - val_loss: 0.4143 - val_tp: 228.0000 - val_fp: 76.0000 - val_tn: 228.0000 - val_fn: 76.0000 - val_accuracy: 0.7500 - val_precision: 0.7500 - val_recall: 0.7500 - val_auc: 0.8828\n",
      "Epoch 18/20\n",
      "163/163 [==============================] - 13s 82ms/step - loss: 0.0976 - tp: 5002.0000 - fp: 191.0000 - tn: 4999.0000 - fn: 188.0000 - accuracy: 0.9635 - precision: 0.9632 - recall: 0.9638 - auc: 0.9939 - val_loss: 0.4799 - val_tp: 228.0000 - val_fp: 95.0000 - val_tn: 209.0000 - val_fn: 76.0000 - val_accuracy: 0.7188 - val_precision: 0.7059 - val_recall: 0.7500 - val_auc: 0.8418\n",
      "Epoch 19/20\n",
      "163/163 [==============================] - 15s 93ms/step - loss: 0.1051 - tp: 5004.0000 - fp: 183.0000 - tn: 5007.0000 - fn: 186.0000 - accuracy: 0.9645 - precision: 0.9647 - recall: 0.9642 - auc: 0.9927 - val_loss: 0.6242 - val_tp: 190.0000 - val_fp: 114.0000 - val_tn: 190.0000 - val_fn: 114.0000 - val_accuracy: 0.6250 - val_precision: 0.6250 - val_recall: 0.6250 - val_auc: 0.8516\n",
      "Epoch 20/20\n",
      "163/163 [==============================] - 13s 80ms/step - loss: 0.1055 - tp: 5001.0000 - fp: 208.0000 - tn: 5008.0000 - fn: 215.0000 - accuracy: 0.9595 - precision: 0.9601 - recall: 0.9588 - auc: 0.9927 - val_loss: 0.3956 - val_tp: 247.0000 - val_fp: 57.0000 - val_tn: 247.0000 - val_fn: 57.0000 - val_accuracy: 0.8125 - val_precision: 0.8125 - val_recall: 0.8125 - val_auc: 0.9102\n"
     ]
    }
   ],
   "source": [
    "cnn_model = cnn.fit_generator(training_set, validation_generator, epochs=20)"
   ]
  },
  {
   "cell_type": "code",
   "execution_count": 11,
   "metadata": {},
   "outputs": [
    {
     "data": {
      "image/png": "[encoded data removed]",
      "text/plain": [
       "<Figure size 432x288 with 4 Axes>"
      ]
     },
     "metadata": {
      "needs_background": "light"
     },
     "output_type": "display_data"
    }
   ],
   "source": [
    "cnn.plot_history()"
   ]
  },
  {
   "cell_type": "code",
   "execution_count": 12,
   "metadata": {},
   "outputs": [
    {
     "name": "stdout",
     "output_type": "stream",
     "text": [
      "              precision    recall  f1-score   support\n",
      "\n",
      "      NORMAL       0.40      0.64      0.49       234\n",
      "   PNEUMONIA       0.66      0.42      0.51       390\n",
      "\n",
      "    accuracy                           0.50       624\n",
      "   macro avg       0.53      0.53      0.50       624\n",
      "weighted avg       0.56      0.50      0.50       624\n",
      "\n"
     ]
    }
   ],
   "source": [
    "cnn.get_classification_report(test_set)"
   ]
  },
  {
   "cell_type": "code",
   "execution_count": 13,
   "metadata": {},
   "outputs": [
    {
     "data": {
      "image/png": "[encoded data removed]",
      "text/plain": [
       "<Figure size 648x648 with 2 Axes>"
      ]
     },
     "metadata": {
      "needs_background": "light"
     },
     "output_type": "display_data"
    }
   ],
   "source": [
    "cnn.display_confusion_matrix(test_set)"
   ]
  },
  {
   "cell_type": "code",
   "execution_count": 14,
   "metadata": {},
   "outputs": [],
   "source": [
    "res.remove_resampled_directory(train_folder)"
   ]
  },
  {
   "cell_type": "code",
   "execution_count": null,
   "metadata": {},
   "outputs": [],
   "source": []
  }
 ],
 "metadata": {
  "kernelspec": {
   "display_name": "Python 3",
   "language": "python",
   "name": "python3"
  },
  "language_info": {
   "codemirror_mode": {
    "name": "ipython",
    "version": 3
   },
   "file_extension": ".py",
   "mimetype": "text/x-python",
   "name": "python",
   "nbconvert_exporter": "python",
   "pygments_lexer": "ipython3",
   "version": "3.7.7"
  },
  "latex_envs": {
   "LaTeX_envs_menu_present": true,
   "autoclose": false,
   "autocomplete": true,
   "bibliofile": "biblio.bib",
   "cite_by": "apalike",
   "current_citInitial": 1,
   "eqLabelWithNumbers": true,
   "eqNumInitial": 1,
   "hotkeys": {
    "equation": "Ctrl-E",
    "itemize": "Ctrl-I"
   },
   "labels_anchors": false,
   "latex_user_defs": false,
   "report_style_numbering": false,
   "user_envs_cfg": false
  }
 },
 "nbformat": 4,
 "nbformat_minor": 4
}
