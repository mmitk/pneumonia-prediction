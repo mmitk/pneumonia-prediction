{
 "cells": [
  {
   "cell_type": "code",
   "execution_count": 1,
   "metadata": {},
   "outputs": [
    {
     "name": "stdout",
     "output_type": "stream",
     "text": [
      "['chest_xray', 'resampled', 'TEST']\n"
     ]
    },
    {
     "name": "stderr",
     "output_type": "stream",
     "text": [
      "Using TensorFlow backend.\n"
     ]
    }
   ],
   "source": [
    "import numpy as np \n",
    "import matplotlib.pyplot as plt \n",
    "import os\n",
    "from PIL import Image\n",
    "print(os.listdir(\"./common/data\"))\n",
    "\n",
    "os.environ[\"CUDA_VISIBLE_DEVICES\"]=\"1\"\n",
    "\n",
    "import tensorflow as tf\n",
    "config = tf.compat.v1.ConfigProto()\n",
    "config.gpu_options.allow_growth = True\n",
    "tf.compat.v1.keras.backend.set_session(tf.compat.v1.Session(config=config))\n",
    "\n",
    "# Keras Libraries\n",
    "import keras\n",
    "from keras.models import Sequential\n",
    "from keras.layers import Conv2D\n",
    "from keras.layers import MaxPooling2D\n",
    "from keras.layers import Flatten\n",
    "from keras.layers import Dense\n",
    "from keras.preprocessing.image import ImageDataGenerator, load_img\n",
    "from sklearn.metrics import classification_report, confusion_matrix\n",
    "%matplotlib inline"
   ]
  },
  {
   "cell_type": "markdown",
   "metadata": {},
   "source": [
    "# Resample Data Into New Dataset"
   ]
  },
  {
   "cell_type": "markdown",
   "metadata": {},
   "source": [
    "# Resample Train Data"
   ]
  },
  {
   "cell_type": "code",
   "execution_count": 2,
   "metadata": {},
   "outputs": [],
   "source": [
    "from common.src import resample as res"
   ]
  },
  {
   "cell_type": "code",
   "execution_count": 3,
   "metadata": {},
   "outputs": [],
   "source": [
    "from imblearn.over_sampling import RandomOverSampler\n",
    "\n",
    "path = r'C:\\Users\\mmitk\\dev\\2020\\pneumonia\\common\\data\\chest_xray\\train'\n",
    "ros = RandomOverSampler(random_state=0)"
   ]
  },
  {
   "cell_type": "code",
   "execution_count": 4,
   "metadata": {
    "scrolled": true
   },
   "outputs": [
    {
     "name": "stdout",
     "output_type": "stream",
     "text": [
      "----------[LOADING IMAGES]----------\n",
      "....................................................................................................\n",
      "....................................................................................................\n",
      "....................................................................................................\n",
      "....................................................................................................\n",
      "....................................................................................................\n",
      "......................\n",
      "Finished [LOADING IMAGES]\n",
      "----------[RESAMPLING IMAGES]----------\n",
      "\n",
      "Finished [RESAMPLING IMAGES]\n",
      "----------[WRITING RESAMPLED IMAGES]----------\n",
      "....................................................................................................\n",
      "....................................................................................................\n",
      "....................................................................................................\n",
      "....................................................................................................\n",
      "....................................................................................................\n",
      "....................................................................................................\n",
      "....................................................................................................\n",
      "...........................................................................\n",
      "Finished [RESAMPLING DIRECTORY]\n"
     ]
    }
   ],
   "source": [
    "res.resample_directory(ros, path, 'ROS', val = False)"
   ]
  },
  {
   "cell_type": "markdown",
   "metadata": {},
   "source": [
    "# Load Data"
   ]
  },
  {
   "cell_type": "code",
   "execution_count": 5,
   "metadata": {},
   "outputs": [],
   "source": [
    "train_folder= './common/data/resampled/ROS/train'\n",
    "val_folder = './common/data/chest_xray/val/'\n",
    "test_folder = './common/data/chest_xray/test/'"
   ]
  },
  {
   "cell_type": "markdown",
   "metadata": {},
   "source": [
    "Set up Training Folders"
   ]
  },
  {
   "cell_type": "code",
   "execution_count": 6,
   "metadata": {},
   "outputs": [],
   "source": [
    "# train \n",
    "os.listdir(train_folder)\n",
    "train_n = train_folder+'NORMAL/'\n",
    "train_p = train_folder+'PNEUMONIA/'"
   ]
  },
  {
   "cell_type": "markdown",
   "metadata": {},
   "source": [
    "Set up Testing Folders"
   ]
  },
  {
   "cell_type": "code",
   "execution_count": 7,
   "metadata": {},
   "outputs": [],
   "source": [
    "# test\n",
    "os.listdir(test_folder)\n",
    "train_n = test_folder+'NORMAL/'\n",
    "train_p = test_folder+'PNEUMONIA/'"
   ]
  },
  {
   "cell_type": "markdown",
   "metadata": {},
   "source": [
    "# Generate Dataset from image data"
   ]
  },
  {
   "cell_type": "code",
   "execution_count": 8,
   "metadata": {},
   "outputs": [
    {
     "name": "stdout",
     "output_type": "stream",
     "text": [
      "Found 7750 images belonging to 2 classes.\n",
      "Found 16 images belonging to 2 classes.\n",
      "Found 624 images belonging to 2 classes.\n"
     ]
    }
   ],
   "source": [
    "from common.src import util\n",
    "\n",
    "train_datagen = util.create_train_datagen()\n",
    "test_datagen = util.create_test_datagen()\n",
    "\n",
    "training_set = util.create_generator_set(train_datagen, './common/data/resampled/ROS/train')\n",
    "validation_generator = util.create_generator_set(test_datagen, './common/data/chest_xray/val/')\n",
    "test_set = util.create_generator_set(test_datagen, './common/data/chest_xray/test/') "
   ]
  },
  {
   "cell_type": "markdown",
   "metadata": {},
   "source": [
    "# Create Model"
   ]
  },
  {
   "cell_type": "code",
   "execution_count": 9,
   "metadata": {},
   "outputs": [],
   "source": [
    "from common.src import models\n",
    "\n",
    "cnn = models.CNNModel(patience_s=19)\n",
    "cnn.create_model()\n",
    "cnn.summary()"
   ]
  },
  {
   "cell_type": "markdown",
   "metadata": {},
   "source": [
    "# Fit Model"
   ]
  },
  {
   "cell_type": "code",
   "execution_count": 10,
   "metadata": {
    "scrolled": false
   },
   "outputs": [
    {
     "name": "stdout",
     "output_type": "stream",
     "text": [
      "Epoch 1/20\n",
      "163/163 [==============================] - 37s 230ms/step - loss: 0.3941 - tp: 4206.0000 - fp: 922.0000 - tn: 4268.0000 - fn: 984.0000 - accuracy: 0.8164 - precision: 0.8202 - recall: 0.8104 - auc: 0.9049 - val_loss: 0.2527 - val_tp: 285.0000 - val_fp: 38.0000 - val_tn: 266.0000 - val_fn: 19.0000 - val_accuracy: 0.9062 - val_precision: 0.8824 - val_recall: 0.9375 - val_auc: 0.9766\n",
      "Epoch 2/20\n",
      "163/163 [==============================] - 37s 225ms/step - loss: 0.2537 - tp: 4684.0000 - fp: 523.0000 - tn: 4693.0000 - fn: 532.0000 - accuracy: 0.8989 - precision: 0.8996 - recall: 0.8980 - auc: 0.9606 - val_loss: 0.3117 - val_tp: 266.0000 - val_fp: 38.0000 - val_tn: 266.0000 - val_fn: 38.0000 - val_accuracy: 0.8750 - val_precision: 0.8750 - val_recall: 0.8750 - val_auc: 0.9531\n",
      "Epoch 3/20\n",
      "163/163 [==============================] - 36s 219ms/step - loss: 0.2233 - tp: 4718.0000 - fp: 469.0000 - tn: 4721.0000 - fn: 472.0000 - accuracy: 0.9093 - precision: 0.9096 - recall: 0.9091 - auc: 0.9692 - val_loss: 0.3437 - val_tp: 247.0000 - val_fp: 57.0000 - val_tn: 247.0000 - val_fn: 57.0000 - val_accuracy: 0.8125 - val_precision: 0.8125 - val_recall: 0.8125 - val_auc: 0.9004\n",
      "Epoch 4/20\n",
      "163/163 [==============================] - 37s 224ms/step - loss: 0.2097 - tp: 4765.0000 - fp: 421.0000 - tn: 4769.0000 - fn: 425.0000 - accuracy: 0.9185 - precision: 0.9188 - recall: 0.9181 - auc: 0.9730 - val_loss: 0.3417 - val_tp: 247.0000 - val_fp: 76.0000 - val_tn: 228.0000 - val_fn: 57.0000 - val_accuracy: 0.7812 - val_precision: 0.7647 - val_recall: 0.8125 - val_auc: 0.9160\n",
      "Epoch 5/20\n",
      "163/163 [==============================] - 36s 223ms/step - loss: 0.1850 - tp: 4845.0000 - fp: 372.0000 - tn: 4844.0000 - fn: 371.0000 - accuracy: 0.9288 - precision: 0.9287 - recall: 0.9289 - auc: 0.9788 - val_loss: 0.3710 - val_tp: 266.0000 - val_fp: 38.0000 - val_tn: 266.0000 - val_fn: 38.0000 - val_accuracy: 0.8750 - val_precision: 0.8750 - val_recall: 0.8750 - val_auc: 0.9062\n",
      "Epoch 6/20\n",
      "163/163 [==============================] - 36s 218ms/step - loss: 0.1861 - tp: 4839.0000 - fp: 358.0000 - tn: 4832.0000 - fn: 351.0000 - accuracy: 0.9317 - precision: 0.9311 - recall: 0.9324 - auc: 0.9785 - val_loss: 0.3979 - val_tp: 247.0000 - val_fp: 57.0000 - val_tn: 247.0000 - val_fn: 57.0000 - val_accuracy: 0.8125 - val_precision: 0.8125 - val_recall: 0.8125 - val_auc: 0.8828\n",
      "Epoch 7/20\n",
      "163/163 [==============================] - 36s 219ms/step - loss: 0.1735 - tp: 4850.0000 - fp: 338.0000 - tn: 4852.0000 - fn: 340.0000 - accuracy: 0.9347 - precision: 0.9348 - recall: 0.9345 - auc: 0.9807 - val_loss: 0.2690 - val_tp: 266.0000 - val_fp: 38.0000 - val_tn: 266.0000 - val_fn: 38.0000 - val_accuracy: 0.8750 - val_precision: 0.8750 - val_recall: 0.8750 - val_auc: 0.9531\n",
      "Epoch 8/20\n",
      "163/163 [==============================] - 36s 222ms/step - loss: 0.1548 - tp: 4909.0000 - fp: 308.0000 - tn: 4908.0000 - fn: 307.0000 - accuracy: 0.9410 - precision: 0.9410 - recall: 0.9411 - auc: 0.9852 - val_loss: 0.4962 - val_tp: 190.0000 - val_fp: 114.0000 - val_tn: 190.0000 - val_fn: 114.0000 - val_accuracy: 0.6250 - val_precision: 0.6250 - val_recall: 0.6250 - val_auc: 0.8105\n",
      "Epoch 9/20\n",
      "163/163 [==============================] - 36s 220ms/step - loss: 0.1534 - tp: 4904.0000 - fp: 294.0000 - tn: 4896.0000 - fn: 286.0000 - accuracy: 0.9441 - precision: 0.9434 - recall: 0.9449 - auc: 0.9849 - val_loss: 0.2373 - val_tp: 285.0000 - val_fp: 19.0000 - val_tn: 285.0000 - val_fn: 19.0000 - val_accuracy: 0.9375 - val_precision: 0.9375 - val_recall: 0.9375 - val_auc: 0.9961\n",
      "Epoch 10/20\n",
      "163/163 [==============================] - 34s 211ms/step - loss: 0.1628 - tp: 4881.0000 - fp: 328.0000 - tn: 4888.0000 - fn: 335.0000 - accuracy: 0.9364 - precision: 0.9370 - recall: 0.9358 - auc: 0.9832 - val_loss: 0.6438 - val_tp: 190.0000 - val_fp: 114.0000 - val_tn: 190.0000 - val_fn: 114.0000 - val_accuracy: 0.6250 - val_precision: 0.6250 - val_recall: 0.6250 - val_auc: 0.8438\n",
      "Epoch 11/20\n",
      "163/163 [==============================] - 33s 203ms/step - loss: 0.1533 - tp: 4889.0000 - fp: 300.0000 - tn: 4890.0000 - fn: 301.0000 - accuracy: 0.9421 - precision: 0.9422 - recall: 0.9420 - auc: 0.9853 - val_loss: 0.2504 - val_tp: 304.0000 - val_fp: 0.0000e+00 - val_tn: 304.0000 - val_fn: 0.0000e+00 - val_accuracy: 1.0000 - val_precision: 1.0000 - val_recall: 1.0000 - val_auc: 1.0000\n",
      "Epoch 12/20\n",
      "163/163 [==============================] - 36s 219ms/step - loss: 0.1440 - tp: 4889.0000 - fp: 302.0000 - tn: 4888.0000 - fn: 301.0000 - accuracy: 0.9419 - precision: 0.9418 - recall: 0.9420 - auc: 0.9868 - val_loss: 0.4360 - val_tp: 209.0000 - val_fp: 95.0000 - val_tn: 209.0000 - val_fn: 95.0000 - val_accuracy: 0.6875 - val_precision: 0.6875 - val_recall: 0.6875 - val_auc: 0.8477\n",
      "Epoch 13/20\n",
      "163/163 [==============================] - 36s 219ms/step - loss: 0.1482 - tp: 4905.0000 - fp: 279.0000 - tn: 4911.0000 - fn: 285.0000 - accuracy: 0.9457 - precision: 0.9462 - recall: 0.9451 - auc: 0.9859 - val_loss: 0.4155 - val_tp: 266.0000 - val_fp: 38.0000 - val_tn: 266.0000 - val_fn: 38.0000 - val_accuracy: 0.8750 - val_precision: 0.8750 - val_recall: 0.8750 - val_auc: 0.8809\n",
      "Epoch 14/20\n",
      "163/163 [==============================] - 35s 218ms/step - loss: 0.1315 - tp: 4957.0000 - fp: 254.0000 - tn: 4962.0000 - fn: 259.0000 - accuracy: 0.9508 - precision: 0.9513 - recall: 0.9503 - auc: 0.9887 - val_loss: 0.3130 - val_tp: 266.0000 - val_fp: 38.0000 - val_tn: 266.0000 - val_fn: 38.0000 - val_accuracy: 0.8750 - val_precision: 0.8750 - val_recall: 0.8750 - val_auc: 0.9336\n",
      "Epoch 15/20\n",
      "163/163 [==============================] - 36s 218ms/step - loss: 0.1287 - tp: 4947.0000 - fp: 245.0000 - tn: 4945.0000 - fn: 243.0000 - accuracy: 0.9530 - precision: 0.9528 - recall: 0.9532 - auc: 0.9890 - val_loss: 0.4122 - val_tp: 247.0000 - val_fp: 57.0000 - val_tn: 247.0000 - val_fn: 57.0000 - val_accuracy: 0.8125 - val_precision: 0.8125 - val_recall: 0.8125 - val_auc: 0.9180\n",
      "Epoch 16/20\n",
      "163/163 [==============================] - 35s 216ms/step - loss: 0.1198 - tp: 4953.0000 - fp: 237.0000 - tn: 4953.0000 - fn: 237.0000 - accuracy: 0.9543 - precision: 0.9543 - recall: 0.9543 - auc: 0.9911 - val_loss: 0.2515 - val_tp: 266.0000 - val_fp: 38.0000 - val_tn: 266.0000 - val_fn: 38.0000 - val_accuracy: 0.8750 - val_precision: 0.8750 - val_recall: 0.8750 - val_auc: 0.9590\n",
      "Epoch 17/20\n",
      "163/163 [==============================] - 36s 218ms/step - loss: 0.1287 - tp: 4965.0000 - fp: 252.0000 - tn: 4964.0000 - fn: 251.0000 - accuracy: 0.9518 - precision: 0.9517 - recall: 0.9519 - auc: 0.9894 - val_loss: 0.2753 - val_tp: 247.0000 - val_fp: 57.0000 - val_tn: 247.0000 - val_fn: 57.0000 - val_accuracy: 0.8125 - val_precision: 0.8125 - val_recall: 0.8125 - val_auc: 0.9570\n",
      "Epoch 18/20\n",
      "163/163 [==============================] - 35s 218ms/step - loss: 0.1185 - tp: 4954.0000 - fp: 236.0000 - tn: 4954.0000 - fn: 236.0000 - accuracy: 0.9545 - precision: 0.9545 - recall: 0.9545 - auc: 0.9907 - val_loss: 0.1965 - val_tp: 266.0000 - val_fp: 38.0000 - val_tn: 266.0000 - val_fn: 38.0000 - val_accuracy: 0.8750 - val_precision: 0.8750 - val_recall: 0.8750 - val_auc: 0.9844\n",
      "Epoch 19/20\n",
      "163/163 [==============================] - 36s 218ms/step - loss: 0.1257 - tp: 4939.0000 - fp: 258.0000 - tn: 4932.0000 - fn: 251.0000 - accuracy: 0.9510 - precision: 0.9504 - recall: 0.9516 - auc: 0.9898 - val_loss: 0.2132 - val_tp: 285.0000 - val_fp: 19.0000 - val_tn: 285.0000 - val_fn: 19.0000 - val_accuracy: 0.9375 - val_precision: 0.9375 - val_recall: 0.9375 - val_auc: 0.9629\n",
      "Epoch 20/20\n",
      "163/163 [==============================] - 36s 218ms/step - loss: 0.1142 - tp: 4977.0000 - fp: 220.0000 - tn: 4970.0000 - fn: 213.0000 - accuracy: 0.9583 - precision: 0.9577 - recall: 0.9590 - auc: 0.9912 - val_loss: 0.2787 - val_tp: 285.0000 - val_fp: 57.0000 - val_tn: 247.0000 - val_fn: 19.0000 - val_accuracy: 0.8750 - val_precision: 0.8333 - val_recall: 0.9375 - val_auc: 0.9570\n"
     ]
    }
   ],
   "source": [
    "cnn_model = cnn.fit_generator(training_set, validation_generator, epochs = 20)"
   ]
  },
  {
   "cell_type": "code",
   "execution_count": 11,
   "metadata": {},
   "outputs": [
    {
     "data": {
      "image/png": "[encoded data removed]",
      "text/plain": [
       "<Figure size 432x288 with 4 Axes>"
      ]
     },
     "metadata": {
      "needs_background": "light"
     },
     "output_type": "display_data"
    }
   ],
   "source": [
    "cnn.plot_history()"
   ]
  },
  {
   "cell_type": "code",
   "execution_count": 12,
   "metadata": {},
   "outputs": [
    {
     "name": "stdout",
     "output_type": "stream",
     "text": [
      "              precision    recall  f1-score   support\n",
      "\n",
      "      NORMAL       0.35      0.42      0.38       234\n",
      "   PNEUMONIA       0.61      0.53      0.57       390\n",
      "\n",
      "    accuracy                           0.49       624\n",
      "   macro avg       0.48      0.48      0.47       624\n",
      "weighted avg       0.51      0.49      0.50       624\n",
      "\n"
     ]
    }
   ],
   "source": [
    "cnn.get_classification_report(test_set)"
   ]
  },
  {
   "cell_type": "code",
   "execution_count": 13,
   "metadata": {},
   "outputs": [
    {
     "data": {
      "image/png": "[encoded data removed]",
      "text/plain": [
       "<Figure size 648x648 with 2 Axes>"
      ]
     },
     "metadata": {
      "needs_background": "light"
     },
     "output_type": "display_data"
    }
   ],
   "source": [
    "cnn.display_confusion_matrix(test_set)"
   ]
  }
 ],
 "metadata": {
  "kernelspec": {
   "display_name": "Python 3",
   "language": "python",
   "name": "python3"
  },
  "language_info": {
   "codemirror_mode": {
    "name": "ipython",
    "version": 3
   },
   "file_extension": ".py",
   "mimetype": "text/x-python",
   "name": "python",
   "nbconvert_exporter": "python",
   "pygments_lexer": "ipython3",
   "version": "3.6.12"
  },
  "latex_envs": {
   "LaTeX_envs_menu_present": true,
   "autoclose": false,
   "autocomplete": true,
   "bibliofile": "biblio.bib",
   "cite_by": "apalike",
   "current_citInitial": 1,
   "eqLabelWithNumbers": true,
   "eqNumInitial": 1,
   "hotkeys": {
    "equation": "Ctrl-E",
    "itemize": "Ctrl-I"
   },
   "labels_anchors": false,
   "latex_user_defs": false,
   "report_style_numbering": false,
   "user_envs_cfg": false
  }
 },
 "nbformat": 4,
 "nbformat_minor": 4
}
