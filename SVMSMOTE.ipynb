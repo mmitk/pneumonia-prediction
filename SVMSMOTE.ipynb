{
 "cells": [
  {
   "cell_type": "code",
   "execution_count": 1,
   "metadata": {},
   "outputs": [
    {
     "name": "stdout",
     "output_type": "stream",
     "text": [
      "['chest_xray', 'resampled', 'TEST']\n"
     ]
    },
    {
     "name": "stderr",
     "output_type": "stream",
     "text": [
      "Using TensorFlow backend.\n"
     ]
    }
   ],
   "source": [
    "import numpy as np \n",
    "import matplotlib.pyplot as plt \n",
    "import os\n",
    "from PIL import Image\n",
    "print(os.listdir(\"./common/data\"))\n",
    "\n",
    "import tensorflow as tf\n",
    "config = tf.compat.v1.ConfigProto()\n",
    "config.gpu_options.allow_growth = True\n",
    "tf.compat.v1.keras.backend.set_session(tf.compat.v1.Session(config=config))\n",
    "\n",
    "# Keras Libraries\n",
    "import keras\n",
    "from keras.models import Sequential\n",
    "from keras.layers import Conv2D\n",
    "from keras.layers import MaxPooling2D\n",
    "from keras.layers import Flatten\n",
    "from keras.layers import Dense\n",
    "from keras.preprocessing.image import ImageDataGenerator, load_img\n",
    "from sklearn.metrics import classification_report, confusion_matrix\n",
    "%matplotlib inline"
   ]
  },
  {
   "cell_type": "markdown",
   "metadata": {},
   "source": [
    "# Resample Data Into New Dataset"
   ]
  },
  {
   "cell_type": "markdown",
   "metadata": {},
   "source": [
    "# Resample Train Data"
   ]
  },
  {
   "cell_type": "code",
   "execution_count": 2,
   "metadata": {},
   "outputs": [],
   "source": [
    "from common.src import resample as res"
   ]
  },
  {
   "cell_type": "code",
   "execution_count": 3,
   "metadata": {},
   "outputs": [],
   "source": [
    "from imblearn.over_sampling import SVMSMOTE\n",
    "\n",
    "path = r'C:\\Users\\mmitk\\dev\\2020\\pneumonia\\common\\data\\chest_xray\\train'\n",
    "SM = SVMSMOTE(random_state=0)"
   ]
  },
  {
   "cell_type": "code",
   "execution_count": 4,
   "metadata": {},
   "outputs": [
    {
     "name": "stdout",
     "output_type": "stream",
     "text": [
      "----------[LOADING IMAGES]----------\n",
      "....................................................................................................\n",
      "....................................................................................................\n",
      "....................................................................................................\n",
      "....................................................................................................\n",
      "....................................................................................................\n",
      "......................\n",
      "Finished [LOADING IMAGES]\n",
      "----------[RESAMPLING IMAGES]----------\n",
      "\n",
      "Finished [RESAMPLING IMAGES]\n",
      "----------[WRITING RESAMPLED IMAGES]----------\n",
      "....................................................................................................\n",
      "....................................................................................................\n",
      "....................................................................................................\n",
      "....................................................................................................\n",
      "....................................................................................................\n",
      "....................................................................................................\n",
      "....................................................................................................\n",
      "...........................................................................\n",
      "Finished [RESAMPLING DIRECTORY]\n"
     ]
    }
   ],
   "source": [
    "res.resample_directory(SM, path, 'SVMSMOTE', val = False)"
   ]
  },
  {
   "cell_type": "markdown",
   "metadata": {},
   "source": [
    "# Load Data"
   ]
  },
  {
   "cell_type": "code",
   "execution_count": 5,
   "metadata": {},
   "outputs": [],
   "source": [
    "train_folder= './common/data/resampled/SVMSMOTE/train'\n",
    "val_folder = './common/data/chest_xray/val/'\n",
    "test_folder = './common/data/chest_xray/test/'"
   ]
  },
  {
   "cell_type": "markdown",
   "metadata": {},
   "source": [
    "Set up Training Folders"
   ]
  },
  {
   "cell_type": "code",
   "execution_count": 6,
   "metadata": {},
   "outputs": [],
   "source": [
    "# train \n",
    "os.listdir(train_folder)\n",
    "train_n = train_folder+'NORMAL/'\n",
    "train_p = train_folder+'PNEUMONIA/'"
   ]
  },
  {
   "cell_type": "markdown",
   "metadata": {},
   "source": [
    "Set up Testing Folders"
   ]
  },
  {
   "cell_type": "code",
   "execution_count": 7,
   "metadata": {},
   "outputs": [],
   "source": [
    "# test\n",
    "os.listdir(test_folder)\n",
    "train_n = test_folder+'NORMAL/'\n",
    "train_p = test_folder+'PNEUMONIA/'"
   ]
  },
  {
   "cell_type": "markdown",
   "metadata": {},
   "source": [
    "# Generate Dataset from image data"
   ]
  },
  {
   "cell_type": "code",
   "execution_count": 8,
   "metadata": {},
   "outputs": [
    {
     "name": "stdout",
     "output_type": "stream",
     "text": [
      "Found 7750 images belonging to 2 classes.\n",
      "Found 16 images belonging to 2 classes.\n",
      "Found 624 images belonging to 2 classes.\n"
     ]
    }
   ],
   "source": [
    "from common.src import util\n",
    "\n",
    "train_datagen = util.create_train_datagen()\n",
    "test_datagen = util.create_test_datagen()\n",
    "\n",
    "training_set = util.create_generator_set(train_datagen, './common/data/resampled/SVMSMOTE/train')\n",
    "validation_generator = util.create_generator_set(test_datagen, './common/data/chest_xray/val/')\n",
    "test_set = util.create_generator_set(test_datagen, './common/data/chest_xray/test/', batch_size = 1, shuffle = False) "
   ]
  },
  {
   "cell_type": "markdown",
   "metadata": {},
   "source": [
    "# Create Model"
   ]
  },
  {
   "cell_type": "code",
   "execution_count": 9,
   "metadata": {},
   "outputs": [],
   "source": [
    "from common.src import models\n",
    "\n",
    "cnn = models.CNNModel(patience_s=19)\n",
    "cnn.create_model()\n",
    "cnn.summary()"
   ]
  },
  {
   "cell_type": "markdown",
   "metadata": {},
   "source": [
    "# Fit Model"
   ]
  },
  {
   "cell_type": "code",
   "execution_count": 10,
   "metadata": {
    "scrolled": false
   },
   "outputs": [
    {
     "name": "stdout",
     "output_type": "stream",
     "text": [
      "Epoch 1/20\n",
      "163/163 [==============================] - 11s 66ms/step - loss: 0.3196 - tp: 4438.0000 - fp: 783.0000 - tn: 4407.0000 - fn: 752.0000 - accuracy: 0.8521 - precision: 0.8500 - recall: 0.8551 - auc: 0.9364 - val_loss: 0.4169 - val_tp: 266.0000 - val_fp: 38.0000 - val_tn: 266.0000 - val_fn: 38.0000 - val_accuracy: 0.8750 - val_precision: 0.8750 - val_recall: 0.8750 - val_auc: 0.8867\n",
      "Epoch 2/20\n",
      "163/163 [==============================] - 9s 57ms/step - loss: 0.2172 - tp: 4759.0000 - fp: 453.0000 - tn: 4763.0000 - fn: 457.0000 - accuracy: 0.9128 - precision: 0.9131 - recall: 0.9124 - auc: 0.9713 - val_loss: 0.4477 - val_tp: 266.0000 - val_fp: 57.0000 - val_tn: 247.0000 - val_fn: 38.0000 - val_accuracy: 0.8438 - val_precision: 0.8235 - val_recall: 0.8750 - val_auc: 0.8887\n",
      "Epoch 3/20\n",
      "163/163 [==============================] - 9s 57ms/step - loss: 0.1760 - tp: 4829.0000 - fp: 359.0000 - tn: 4831.0000 - fn: 361.0000 - accuracy: 0.9306 - precision: 0.9308 - recall: 0.9304 - auc: 0.9809 - val_loss: 0.5509 - val_tp: 190.0000 - val_fp: 114.0000 - val_tn: 190.0000 - val_fn: 114.0000 - val_accuracy: 0.6250 - val_precision: 0.6250 - val_recall: 0.6250 - val_auc: 0.8262\n",
      "Epoch 4/20\n",
      "163/163 [==============================] - 9s 57ms/step - loss: 0.1628 - tp: 4845.0000 - fp: 344.0000 - tn: 4846.0000 - fn: 345.0000 - accuracy: 0.9336 - precision: 0.9337 - recall: 0.9335 - auc: 0.9836 - val_loss: 0.5545 - val_tp: 228.0000 - val_fp: 57.0000 - val_tn: 247.0000 - val_fn: 76.0000 - val_accuracy: 0.7812 - val_precision: 0.8000 - val_recall: 0.7500 - val_auc: 0.8457\n",
      "Epoch 5/20\n",
      "163/163 [==============================] - 9s 57ms/step - loss: 0.1617 - tp: 4873.0000 - fp: 329.0000 - tn: 4887.0000 - fn: 343.0000 - accuracy: 0.9356 - precision: 0.9368 - recall: 0.9342 - auc: 0.9839 - val_loss: 0.3158 - val_tp: 266.0000 - val_fp: 38.0000 - val_tn: 266.0000 - val_fn: 38.0000 - val_accuracy: 0.8750 - val_precision: 0.8750 - val_recall: 0.8750 - val_auc: 0.9551\n",
      "Epoch 6/20\n",
      "163/163 [==============================] - 9s 57ms/step - loss: 0.1617 - tp: 4869.0000 - fp: 326.0000 - tn: 4864.0000 - fn: 321.0000 - accuracy: 0.9377 - precision: 0.9372 - recall: 0.9382 - auc: 0.9846 - val_loss: 0.3646 - val_tp: 247.0000 - val_fp: 57.0000 - val_tn: 247.0000 - val_fn: 57.0000 - val_accuracy: 0.8125 - val_precision: 0.8125 - val_recall: 0.8125 - val_auc: 0.9141\n",
      "Epoch 7/20\n",
      "163/163 [==============================] - 9s 57ms/step - loss: 0.1364 - tp: 4920.0000 - fp: 266.0000 - tn: 4924.0000 - fn: 270.0000 - accuracy: 0.9484 - precision: 0.9487 - recall: 0.9480 - auc: 0.9879 - val_loss: 0.4626 - val_tp: 228.0000 - val_fp: 76.0000 - val_tn: 228.0000 - val_fn: 76.0000 - val_accuracy: 0.7500 - val_precision: 0.7500 - val_recall: 0.7500 - val_auc: 0.8652\n",
      "Epoch 8/20\n",
      "163/163 [==============================] - 9s 57ms/step - loss: 0.1414 - tp: 4926.0000 - fp: 297.0000 - tn: 4919.0000 - fn: 290.0000 - accuracy: 0.9437 - precision: 0.9431 - recall: 0.9444 - auc: 0.9874 - val_loss: 0.4127 - val_tp: 247.0000 - val_fp: 57.0000 - val_tn: 247.0000 - val_fn: 57.0000 - val_accuracy: 0.8125 - val_precision: 0.8125 - val_recall: 0.8125 - val_auc: 0.9023\n",
      "Epoch 9/20\n",
      "163/163 [==============================] - 9s 57ms/step - loss: 0.1347 - tp: 4914.0000 - fp: 279.0000 - tn: 4911.0000 - fn: 276.0000 - accuracy: 0.9465 - precision: 0.9463 - recall: 0.9468 - auc: 0.9885 - val_loss: 0.3017 - val_tp: 247.0000 - val_fp: 38.0000 - val_tn: 266.0000 - val_fn: 57.0000 - val_accuracy: 0.8438 - val_precision: 0.8667 - val_recall: 0.8125 - val_auc: 0.9355\n",
      "Epoch 10/20\n",
      "163/163 [==============================] - 9s 57ms/step - loss: 0.1213 - tp: 4953.0000 - fp: 236.0000 - tn: 4954.0000 - fn: 237.0000 - accuracy: 0.9544 - precision: 0.9545 - recall: 0.9543 - auc: 0.9903 - val_loss: 0.6716 - val_tp: 209.0000 - val_fp: 95.0000 - val_tn: 209.0000 - val_fn: 95.0000 - val_accuracy: 0.6875 - val_precision: 0.6875 - val_recall: 0.6875 - val_auc: 0.8340\n",
      "Epoch 11/20\n",
      "163/163 [==============================] - 9s 57ms/step - loss: 0.1349 - tp: 4943.0000 - fp: 273.0000 - tn: 4943.0000 - fn: 273.0000 - accuracy: 0.9477 - precision: 0.9477 - recall: 0.9477 - auc: 0.9885 - val_loss: 0.3077 - val_tp: 266.0000 - val_fp: 38.0000 - val_tn: 266.0000 - val_fn: 38.0000 - val_accuracy: 0.8750 - val_precision: 0.8750 - val_recall: 0.8750 - val_auc: 0.9531\n",
      "Epoch 12/20\n",
      "163/163 [==============================] - 10s 59ms/step - loss: 0.1186 - tp: 4969.0000 - fp: 220.0000 - tn: 4970.0000 - fn: 221.0000 - accuracy: 0.9575 - precision: 0.9576 - recall: 0.9574 - auc: 0.9908 - val_loss: 0.3627 - val_tp: 266.0000 - val_fp: 38.0000 - val_tn: 266.0000 - val_fn: 38.0000 - val_accuracy: 0.8750 - val_precision: 0.8750 - val_recall: 0.8750 - val_auc: 0.9180\n",
      "Epoch 13/20\n",
      "163/163 [==============================] - 10s 60ms/step - loss: 0.1209 - tp: 4931.0000 - fp: 257.0000 - tn: 4933.0000 - fn: 259.0000 - accuracy: 0.9503 - precision: 0.9505 - recall: 0.9501 - auc: 0.9910 - val_loss: 0.4382 - val_tp: 228.0000 - val_fp: 76.0000 - val_tn: 228.0000 - val_fn: 76.0000 - val_accuracy: 0.7500 - val_precision: 0.7500 - val_recall: 0.7500 - val_auc: 0.8770\n",
      "Epoch 14/20\n",
      "163/163 [==============================] - 10s 61ms/step - loss: 0.1073 - tp: 4988.0000 - fp: 223.0000 - tn: 4993.0000 - fn: 228.0000 - accuracy: 0.9568 - precision: 0.9572 - recall: 0.9563 - auc: 0.9928 - val_loss: 0.4107 - val_tp: 228.0000 - val_fp: 76.0000 - val_tn: 228.0000 - val_fn: 76.0000 - val_accuracy: 0.7500 - val_precision: 0.7500 - val_recall: 0.7500 - val_auc: 0.8945\n",
      "Epoch 15/20\n",
      "163/163 [==============================] - 10s 61ms/step - loss: 0.1161 - tp: 4968.0000 - fp: 224.0000 - tn: 4966.0000 - fn: 222.0000 - accuracy: 0.9570 - precision: 0.9569 - recall: 0.9572 - auc: 0.9912 - val_loss: 0.3419 - val_tp: 247.0000 - val_fp: 57.0000 - val_tn: 247.0000 - val_fn: 57.0000 - val_accuracy: 0.8125 - val_precision: 0.8125 - val_recall: 0.8125 - val_auc: 0.9336\n",
      "Epoch 16/20\n",
      "163/163 [==============================] - 10s 59ms/step - loss: 0.1086 - tp: 4999.0000 - fp: 220.0000 - tn: 4996.0000 - fn: 217.0000 - accuracy: 0.9581 - precision: 0.9578 - recall: 0.9584 - auc: 0.9923 - val_loss: 0.4033 - val_tp: 228.0000 - val_fp: 76.0000 - val_tn: 228.0000 - val_fn: 76.0000 - val_accuracy: 0.7500 - val_precision: 0.7500 - val_recall: 0.7500 - val_auc: 0.8789\n",
      "Epoch 17/20\n",
      "163/163 [==============================] - 10s 61ms/step - loss: 0.1095 - tp: 4948.0000 - fp: 210.0000 - tn: 4954.0000 - fn: 216.0000 - accuracy: 0.9588 - precision: 0.9593 - recall: 0.9582 - auc: 0.9922 - val_loss: 0.4336 - val_tp: 209.0000 - val_fp: 95.0000 - val_tn: 209.0000 - val_fn: 95.0000 - val_accuracy: 0.6875 - val_precision: 0.6875 - val_recall: 0.6875 - val_auc: 0.8867\n",
      "Epoch 18/20\n",
      "163/163 [==============================] - 10s 61ms/step - loss: 0.1077 - tp: 4991.0000 - fp: 221.0000 - tn: 4995.0000 - fn: 225.0000 - accuracy: 0.9572 - precision: 0.9576 - recall: 0.9569 - auc: 0.9930 - val_loss: 0.4157 - val_tp: 247.0000 - val_fp: 57.0000 - val_tn: 247.0000 - val_fn: 57.0000 - val_accuracy: 0.8125 - val_precision: 0.8125 - val_recall: 0.8125 - val_auc: 0.8711\n",
      "Epoch 19/20\n",
      "163/163 [==============================] - 10s 61ms/step - loss: 0.1139 - tp: 4967.0000 - fp: 219.0000 - tn: 4971.0000 - fn: 223.0000 - accuracy: 0.9574 - precision: 0.9578 - recall: 0.9570 - auc: 0.9914 - val_loss: 0.6031 - val_tp: 228.0000 - val_fp: 76.0000 - val_tn: 228.0000 - val_fn: 76.0000 - val_accuracy: 0.7500 - val_precision: 0.7500 - val_recall: 0.7500 - val_auc: 0.8574\n",
      "Epoch 20/20\n",
      "163/163 [==============================] - 10s 61ms/step - loss: 0.1121 - tp: 4962.0000 - fp: 226.0000 - tn: 4964.0000 - fn: 228.0000 - accuracy: 0.9563 - precision: 0.9564 - recall: 0.9561 - auc: 0.9916 - val_loss: 0.3005 - val_tp: 247.0000 - val_fp: 57.0000 - val_tn: 247.0000 - val_fn: 57.0000 - val_accuracy: 0.8125 - val_precision: 0.8125 - val_recall: 0.8125 - val_auc: 0.9336\n"
     ]
    }
   ],
   "source": [
    "cnn_model = cnn.fit_generator(training_set, validation_generator, epochs=20)"
   ]
  },
  {
   "cell_type": "code",
   "execution_count": 11,
   "metadata": {},
   "outputs": [
    {
     "data": {
      "image/png": "[encoded data removed]",
      "text/plain": [
       "<Figure size 432x288 with 4 Axes>"
      ]
     },
     "metadata": {
      "needs_background": "light"
     },
     "output_type": "display_data"
    }
   ],
   "source": [
    "cnn.plot_history()"
   ]
  },
  {
   "cell_type": "code",
   "execution_count": 12,
   "metadata": {},
   "outputs": [
    {
     "name": "stdout",
     "output_type": "stream",
     "text": [
      "              precision    recall  f1-score   support\n",
      "\n",
      "      NORMAL       0.80      0.79      0.79       234\n",
      "   PNEUMONIA       0.88      0.88      0.88       390\n",
      "\n",
      "    accuracy                           0.85       624\n",
      "   macro avg       0.84      0.84      0.84       624\n",
      "weighted avg       0.85      0.85      0.85       624\n",
      "\n"
     ]
    }
   ],
   "source": [
    "cnn.get_classification_report(test_set)"
   ]
  },
  {
   "cell_type": "code",
   "execution_count": 13,
   "metadata": {},
   "outputs": [
    {
     "data": {
      "image/png": "[encoded data removed]",
      "text/plain": [
       "<Figure size 648x648 with 2 Axes>"
      ]
     },
     "metadata": {
      "needs_background": "light"
     },
     "output_type": "display_data"
    }
   ],
   "source": [
    "cnn.display_confusion_matrix(test_set)"
   ]
  },
  {
   "cell_type": "code",
   "execution_count": null,
   "metadata": {},
   "outputs": [],
   "source": []
  }
 ],
 "metadata": {
  "kernelspec": {
   "display_name": "Python 3",
   "language": "python",
   "name": "python3"
  },
  "language_info": {
   "codemirror_mode": {
    "name": "ipython",
    "version": 3
   },
   "file_extension": ".py",
   "mimetype": "text/x-python",
   "name": "python",
   "nbconvert_exporter": "python",
   "pygments_lexer": "ipython3",
   "version": "3.6.12"
  }
 },
 "nbformat": 4,
 "nbformat_minor": 4
}
