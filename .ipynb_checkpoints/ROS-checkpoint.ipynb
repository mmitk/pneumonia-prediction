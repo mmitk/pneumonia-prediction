{
 "cells": [
  {
   "cell_type": "code",
   "execution_count": 1,
   "metadata": {},
   "outputs": [
    {
     "name": "stdout",
     "output_type": "stream",
     "text": [
      "['chest_xray', 'resampled']\n"
     ]
    },
    {
     "name": "stderr",
     "output_type": "stream",
     "text": [
      "Using TensorFlow backend.\n"
     ]
    }
   ],
   "source": [
    "import numpy as np \n",
    "import matplotlib.pyplot as plt \n",
    "import os\n",
    "from PIL import Image\n",
    "print(os.listdir(\"./common/data\"))\n",
    "\n",
    "os.environ[\"CUDA_VISIBLE_DEVICES\"]=\"1\"\n",
    "\n",
    "import tensorflow as tf\n",
    "config = tf.compat.v1.ConfigProto()\n",
    "config.gpu_options.allow_growth = True\n",
    "tf.compat.v1.keras.backend.set_session(tf.compat.v1.Session(config=config))\n",
    "\n",
    "# Keras Libraries\n",
    "import keras\n",
    "from keras.models import Sequential\n",
    "from keras.layers import Conv2D\n",
    "from keras.layers import MaxPooling2D\n",
    "from keras.layers import Flatten\n",
    "from keras.layers import Dense\n",
    "from keras.preprocessing.image import ImageDataGenerator, load_img\n",
    "from sklearn.metrics import classification_report, confusion_matrix\n",
    "%matplotlib inline"
   ]
  },
  {
   "cell_type": "markdown",
   "metadata": {},
   "source": [
    "# Resample Data Into New Dataset"
   ]
  },
  {
   "cell_type": "markdown",
   "metadata": {},
   "source": [
    "# Resample Train Data"
   ]
  },
  {
   "cell_type": "code",
   "execution_count": 2,
   "metadata": {},
   "outputs": [],
   "source": [
    "from common.src import resample as res"
   ]
  },
  {
   "cell_type": "code",
   "execution_count": 3,
   "metadata": {},
   "outputs": [],
   "source": [
    "from imblearn.over_sampling import RandomOverSampler\n",
    "\n",
    "path = r'C:\\Users\\mmitk\\dev\\2020\\pneumonia\\common\\data\\chest_xray\\train'\n",
    "ros = RandomOverSampler(random_state=0)"
   ]
  },
  {
   "cell_type": "code",
   "execution_count": 4,
   "metadata": {
    "scrolled": true
   },
   "outputs": [],
   "source": [
    "res.resample_directory(ros, path, 'ROS', val = False)"
   ]
  },
  {
   "cell_type": "markdown",
   "metadata": {},
   "source": [
    "# Load Data"
   ]
  },
  {
   "cell_type": "code",
   "execution_count": 5,
   "metadata": {},
   "outputs": [],
   "source": [
    "train_folder= './common/data/resampled/ROS/train'\n",
    "val_folder = './common/data/chest_xray/val/'\n",
    "test_folder = './common/data/chest_xray/test/'"
   ]
  },
  {
   "cell_type": "markdown",
   "metadata": {},
   "source": [
    "Set up Training Folders"
   ]
  },
  {
   "cell_type": "code",
   "execution_count": 6,
   "metadata": {},
   "outputs": [],
   "source": [
    "# train \n",
    "os.listdir(train_folder)\n",
    "train_n = train_folder+'NORMAL/'\n",
    "train_p = train_folder+'PNEUMONIA/'"
   ]
  },
  {
   "cell_type": "markdown",
   "metadata": {},
   "source": [
    "Set up Testing Folders"
   ]
  },
  {
   "cell_type": "code",
   "execution_count": 7,
   "metadata": {},
   "outputs": [],
   "source": [
    "# test\n",
    "os.listdir(test_folder)\n",
    "train_n = test_folder+'NORMAL/'\n",
    "train_p = test_folder+'PNEUMONIA/'"
   ]
  },
  {
   "cell_type": "markdown",
   "metadata": {},
   "source": [
    "# Generate Dataset from image data"
   ]
  },
  {
   "cell_type": "code",
   "execution_count": 8,
   "metadata": {},
   "outputs": [
    {
     "name": "stdout",
     "output_type": "stream",
     "text": [
      "Found 7750 images belonging to 2 classes.\n",
      "Found 16 images belonging to 2 classes.\n",
      "Found 624 images belonging to 2 classes.\n"
     ]
    }
   ],
   "source": [
    "from common.src import util\n",
    "\n",
    "train_datagen = util.create_train_datagen()\n",
    "test_datagen = util.create_test_datagen()\n",
    "\n",
    "training_set = util.create_generator_set(train_datagen, './common/data/resampled/ROS/train')\n",
    "validation_generator = util.create_generator_set(test_datagen, './common/data/chest_xray/val/')\n",
    "test_set = util.create_generator_set(test_datagen, './common/data/chest_xray/test/') "
   ]
  },
  {
   "cell_type": "markdown",
   "metadata": {},
   "source": [
    "# Create Model"
   ]
  },
  {
   "cell_type": "code",
   "execution_count": 9,
   "metadata": {},
   "outputs": [],
   "source": [
    "from common.src import models\n",
    "\n",
    "cnn = models.CNNModel()\n",
    "cnn.create_model()\n",
    "cnn.summary()"
   ]
  },
  {
   "cell_type": "markdown",
   "metadata": {},
   "source": [
    "# Fit Model"
   ]
  },
  {
   "cell_type": "code",
   "execution_count": 11,
   "metadata": {
    "scrolled": false
   },
   "outputs": [
    {
     "name": "stdout",
     "output_type": "stream",
     "text": [
      "Epoch 1/20\n",
      "163/163 [==============================] - 318s 2s/step - loss: 0.2627 - tp: 4643.0000 - fp: 549.0000 - tn: 4641.0000 - fn: 547.0000 - accuracy: 0.8944 - precision: 0.8943 - recall: 0.8946 - auc: 0.9582 - val_loss: 0.3693 - val_tp: 8736.0000 - val_fp: 2496.0000 - val_tn: 7488.0000 - val_fn: 1248.0000 - val_accuracy: 0.8125 - val_precision: 0.7778 - val_recall: 0.8750 - val_auc: 0.9316\n",
      "Epoch 2/20\n",
      "163/163 [==============================] - 240s 1s/step - loss: 0.2323 - tp: 4742.0000 - fp: 474.0000 - tn: 4742.0000 - fn: 474.0000 - accuracy: 0.9091 - precision: 0.9091 - recall: 0.9091 - auc: 0.9672 - val_loss: 0.4765 - val_tp: 8112.0000 - val_fp: 3120.0000 - val_tn: 6864.0000 - val_fn: 1872.0000 - val_accuracy: 0.7500 - val_precision: 0.7222 - val_recall: 0.8125 - val_auc: 0.8594\n",
      "Epoch 3/20\n",
      "163/163 [==============================] - 236s 1s/step - loss: 0.1935 - tp: 4810.0000 - fp: 385.0000 - tn: 4805.0000 - fn: 380.0000 - accuracy: 0.9263 - precision: 0.9259 - recall: 0.9268 - auc: 0.9765 - val_loss: 0.4431 - val_tp: 7488.0000 - val_fp: 2496.0000 - val_tn: 7488.0000 - val_fn: 2496.0000 - val_accuracy: 0.7500 - val_precision: 0.7500 - val_recall: 0.7500 - val_auc: 0.8770\n",
      "Epoch 4/20\n",
      "163/163 [==============================] - 236s 1s/step - loss: 0.1798 - tp: 4841.0000 - fp: 346.0000 - tn: 4844.0000 - fn: 349.0000 - accuracy: 0.9330 - precision: 0.9333 - recall: 0.9328 - auc: 0.9796 - val_loss: 0.3394 - val_tp: 8736.0000 - val_fp: 1248.0000 - val_tn: 8736.0000 - val_fn: 1248.0000 - val_accuracy: 0.8750 - val_precision: 0.8750 - val_recall: 0.8750 - val_auc: 0.9316\n",
      "Epoch 5/20\n",
      "163/163 [==============================] - 235s 1s/step - loss: 0.1931 - tp: 4821.0000 - fp: 402.0000 - tn: 4814.0000 - fn: 395.0000 - accuracy: 0.9236 - precision: 0.9230 - recall: 0.9243 - auc: 0.9770 - val_loss: 0.3640 - val_tp: 8736.0000 - val_fp: 1248.0000 - val_tn: 8736.0000 - val_fn: 1248.0000 - val_accuracy: 0.8750 - val_precision: 0.8750 - val_recall: 0.8750 - val_auc: 0.9141\n",
      "Epoch 6/20\n",
      "163/163 [==============================] - 408s 3s/step - loss: 0.1723 - tp: 4874.0000 - fp: 321.0000 - tn: 4869.0000 - fn: 316.0000 - accuracy: 0.9386 - precision: 0.9382 - recall: 0.9391 - auc: 0.9816 - val_loss: 0.3039 - val_tp: 9360.0000 - val_fp: 624.0000 - val_tn: 9360.0000 - val_fn: 624.0000 - val_accuracy: 0.9375 - val_precision: 0.9375 - val_recall: 0.9375 - val_auc: 0.9414\n",
      "Epoch 7/20\n",
      "163/163 [==============================] - 5074s 31s/step - loss: 0.1736 - tp: 4839.0000 - fp: 354.0000 - tn: 4836.0000 - fn: 351.0000 - accuracy: 0.9321 - precision: 0.9318 - recall: 0.9324 - auc: 0.9811 - val_loss: 0.3833 - val_tp: 8736.0000 - val_fp: 1248.0000 - val_tn: 8736.0000 - val_fn: 1248.0000 - val_accuracy: 0.8750 - val_precision: 0.8750 - val_recall: 0.8750 - val_auc: 0.9004\n",
      "Epoch 8/20\n",
      "163/163 [==============================] - 246s 2s/step - loss: 0.1751 - tp: 4827.0000 - fp: 362.0000 - tn: 4828.0000 - fn: 363.0000 - accuracy: 0.9302 - precision: 0.9302 - recall: 0.9301 - auc: 0.9810 - val_loss: 0.2751 - val_tp: 9360.0000 - val_fp: 624.0000 - val_tn: 9360.0000 - val_fn: 624.0000 - val_accuracy: 0.9375 - val_precision: 0.9375 - val_recall: 0.9375 - val_auc: 0.9434\n",
      "Epoch 9/20\n",
      "163/163 [==============================] - 248s 2s/step - loss: 0.1540 - tp: 4901.0000 - fp: 316.0000 - tn: 4900.0000 - fn: 315.0000 - accuracy: 0.9395 - precision: 0.9394 - recall: 0.9396 - auc: 0.9852 - val_loss: 0.2790 - val_tp: 9360.0000 - val_fp: 624.0000 - val_tn: 9360.0000 - val_fn: 624.0000 - val_accuracy: 0.9375 - val_precision: 0.9375 - val_recall: 0.9375 - val_auc: 0.9414\n",
      "Epoch 10/20\n",
      "163/163 [==============================] - 248s 2s/step - loss: 0.1507 - tp: 4900.0000 - fp: 286.0000 - tn: 4904.0000 - fn: 290.0000 - accuracy: 0.9445 - precision: 0.9449 - recall: 0.9441 - auc: 0.9857 - val_loss: 0.4065 - val_tp: 8736.0000 - val_fp: 1248.0000 - val_tn: 8736.0000 - val_fn: 1248.0000 - val_accuracy: 0.8750 - val_precision: 0.8750 - val_recall: 0.8750 - val_auc: 0.8984\n",
      "Epoch 11/20\n",
      "163/163 [==============================] - 257s 2s/step - loss: 0.1522 - tp: 4915.0000 - fp: 302.0000 - tn: 4914.0000 - fn: 301.0000 - accuracy: 0.9422 - precision: 0.9421 - recall: 0.9423 - auc: 0.9853 - val_loss: 0.3525 - val_tp: 8112.0000 - val_fp: 1872.0000 - val_tn: 8112.0000 - val_fn: 1872.0000 - val_accuracy: 0.8125 - val_precision: 0.8125 - val_recall: 0.8125 - val_auc: 0.9004\n",
      "Epoch 12/20\n",
      "163/163 [==============================] - 261s 2s/step - loss: 0.1482 - tp: 4920.0000 - fp: 267.0000 - tn: 4923.0000 - fn: 270.0000 - accuracy: 0.9483 - precision: 0.9485 - recall: 0.9480 - auc: 0.9855 - val_loss: 0.6972 - val_tp: 6240.0000 - val_fp: 3120.0000 - val_tn: 6864.0000 - val_fn: 3744.0000 - val_accuracy: 0.6562 - val_precision: 0.6667 - val_recall: 0.6250 - val_auc: 0.8086\n",
      "Epoch 13/20\n",
      "163/163 [==============================] - 251s 2s/step - loss: 0.1442 - tp: 4914.0000 - fp: 272.0000 - tn: 4918.0000 - fn: 276.0000 - accuracy: 0.9472 - precision: 0.9476 - recall: 0.9468 - auc: 0.9864 - val_loss: 0.5753 - val_tp: 7488.0000 - val_fp: 2496.0000 - val_tn: 7488.0000 - val_fn: 2496.0000 - val_accuracy: 0.7500 - val_precision: 0.7500 - val_recall: 0.7500 - val_auc: 0.8516\n",
      "Epoch 14/20\n",
      "163/163 [==============================] - 276s 2s/step - loss: 0.1399 - tp: 4922.0000 - fp: 272.0000 - tn: 4918.0000 - fn: 268.0000 - accuracy: 0.9480 - precision: 0.9476 - recall: 0.9484 - auc: 0.9876 - val_loss: 0.4042 - val_tp: 7488.0000 - val_fp: 1872.0000 - val_tn: 8112.0000 - val_fn: 2496.0000 - val_accuracy: 0.7812 - val_precision: 0.8000 - val_recall: 0.7500 - val_auc: 0.8945\n",
      "Epoch 15/20\n",
      "163/163 [==============================] - 254s 2s/step - loss: 0.1450 - tp: 4930.0000 - fp: 284.0000 - tn: 4932.0000 - fn: 286.0000 - accuracy: 0.9454 - precision: 0.9455 - recall: 0.9452 - auc: 0.9862 - val_loss: 0.2909 - val_tp: 8736.0000 - val_fp: 1248.0000 - val_tn: 8736.0000 - val_fn: 1248.0000 - val_accuracy: 0.8750 - val_precision: 0.8750 - val_recall: 0.8750 - val_auc: 0.9492\n",
      "Epoch 16/20\n",
      "163/163 [==============================] - 255s 2s/step - loss: 0.1384 - tp: 4916.0000 - fp: 272.0000 - tn: 4918.0000 - fn: 274.0000 - accuracy: 0.9474 - precision: 0.9476 - recall: 0.9472 - auc: 0.9871 - val_loss: 0.3107 - val_tp: 8112.0000 - val_fp: 1872.0000 - val_tn: 8112.0000 - val_fn: 1872.0000 - val_accuracy: 0.8125 - val_precision: 0.8125 - val_recall: 0.8125 - val_auc: 0.9414\n",
      "Epoch 17/20\n",
      "163/163 [==============================] - 253s 2s/step - loss: 0.1320 - tp: 4956.0000 - fp: 260.0000 - tn: 4956.0000 - fn: 260.0000 - accuracy: 0.9502 - precision: 0.9502 - recall: 0.9502 - auc: 0.9888 - val_loss: 0.3350 - val_tp: 8736.0000 - val_fp: 1248.0000 - val_tn: 8736.0000 - val_fn: 1248.0000 - val_accuracy: 0.8750 - val_precision: 0.8750 - val_recall: 0.8750 - val_auc: 0.9121\n",
      "Epoch 18/20\n",
      "163/163 [==============================] - 253s 2s/step - loss: 0.1293 - tp: 4953.0000 - fp: 238.0000 - tn: 4952.0000 - fn: 237.0000 - accuracy: 0.9542 - precision: 0.9542 - recall: 0.9543 - auc: 0.9899 - val_loss: 0.4130 - val_tp: 8736.0000 - val_fp: 1248.0000 - val_tn: 8736.0000 - val_fn: 1248.0000 - val_accuracy: 0.8750 - val_precision: 0.8750 - val_recall: 0.8750 - val_auc: 0.9219\n",
      "Epoch 19/20\n",
      "163/163 [==============================] - 249s 2s/step - loss: 0.1327 - tp: 4930.0000 - fp: 262.0000 - tn: 4928.0000 - fn: 260.0000 - accuracy: 0.9497 - precision: 0.9495 - recall: 0.9499 - auc: 0.9888 - val_loss: 0.2028 - val_tp: 8736.0000 - val_fp: 1248.0000 - val_tn: 8736.0000 - val_fn: 1248.0000 - val_accuracy: 0.8750 - val_precision: 0.8750 - val_recall: 0.8750 - val_auc: 0.9844\n",
      "Epoch 20/20\n",
      "163/163 [==============================] - 241s 1s/step - loss: 0.1354 - tp: 4964.0000 - fp: 253.0000 - tn: 4963.0000 - fn: 252.0000 - accuracy: 0.9516 - precision: 0.9515 - recall: 0.9517 - auc: 0.9879 - val_loss: 0.4927 - val_tp: 7488.0000 - val_fp: 2496.0000 - val_tn: 7488.0000 - val_fn: 2496.0000 - val_accuracy: 0.7500 - val_precision: 0.7500 - val_recall: 0.7500 - val_auc: 0.8867\n"
     ]
    }
   ],
   "source": [
    "cnn_model = cnn.fit_generator(training_set, validation_generator, epochs = 20)"
   ]
  },
  {
   "cell_type": "code",
   "execution_count": null,
   "metadata": {},
   "outputs": [
    {
     "data": {
      "image/png": "[encoded data removed]",
      "text/plain": [
       "<Figure size 432x288 with 4 Axes>"
      ]
     },
     "metadata": {
      "needs_background": "light"
     },
     "output_type": "display_data"
    }
   ],
   "source": [
    "cnn.plot_history()"
   ]
  },
  {
   "cell_type": "code",
   "execution_count": 1,
   "metadata": {},
   "outputs": [
    {
     "ename": "NameError",
     "evalue": "name 'cnn' is not defined",
     "output_type": "error",
     "traceback": [
      "\u001b[1;31m---------------------------------------------------------------------------\u001b[0m",
      "\u001b[1;31mNameError\u001b[0m                                 Traceback (most recent call last)",
      "\u001b[1;32m<ipython-input-1-b89d19e0d466>\u001b[0m in \u001b[0;36m<module>\u001b[1;34m\u001b[0m\n\u001b[1;32m----> 1\u001b[1;33m \u001b[0mcnn\u001b[0m\u001b[1;33m.\u001b[0m\u001b[0mget_classification_report\u001b[0m\u001b[1;33m(\u001b[0m\u001b[0mtest_set\u001b[0m\u001b[1;33m)\u001b[0m\u001b[1;33m\u001b[0m\u001b[1;33m\u001b[0m\u001b[0m\n\u001b[0m",
      "\u001b[1;31mNameError\u001b[0m: name 'cnn' is not defined"
     ]
    }
   ],
   "source": [
    "cnn.get_classification_report(test_set)"
   ]
  },
  {
   "cell_type": "code",
   "execution_count": null,
   "metadata": {},
   "outputs": [],
   "source": [
    "cnn.display_confusion_matrix(test_set)"
   ]
  },
  {
   "cell_type": "code",
   "execution_count": null,
   "metadata": {},
   "outputs": [],
   "source": []
  }
 ],
 "metadata": {
  "kernelspec": {
   "display_name": "Python 3",
   "language": "python",
   "name": "python3"
  },
  "language_info": {
   "codemirror_mode": {
    "name": "ipython",
    "version": 3
   },
   "file_extension": ".py",
   "mimetype": "text/x-python",
   "name": "python",
   "nbconvert_exporter": "python",
   "pygments_lexer": "ipython3",
   "version": "3.7.7"
  },
  "latex_envs": {
   "LaTeX_envs_menu_present": true,
   "autoclose": false,
   "autocomplete": true,
   "bibliofile": "biblio.bib",
   "cite_by": "apalike",
   "current_citInitial": 1,
   "eqLabelWithNumbers": true,
   "eqNumInitial": 1,
   "hotkeys": {
    "equation": "Ctrl-E",
    "itemize": "Ctrl-I"
   },
   "labels_anchors": false,
   "latex_user_defs": false,
   "report_style_numbering": false,
   "user_envs_cfg": false
  }
 },
 "nbformat": 4,
 "nbformat_minor": 4
}
